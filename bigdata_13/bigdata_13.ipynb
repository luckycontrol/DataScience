{
 "cells": [
  {
   "cell_type": "code",
   "execution_count": 1,
   "metadata": {},
   "outputs": [],
   "source": [
    "import pandas as pd\n",
    "import pyspark"
   ]
  },
  {
   "cell_type": "code",
   "execution_count": 2,
   "metadata": {},
   "outputs": [],
   "source": [
    "sc = pyspark.SparkContext(appName=\"test\")"
   ]
  },
  {
   "cell_type": "code",
   "execution_count": 3,
   "metadata": {},
   "outputs": [],
   "source": [
    "dept = sc.parallelize([(100, '성서'), (101, '사복'), (102, '영보'), (103, '컴소'), (104, '간호')])\n",
    "student = sc.parallelize([(1, '홍길동', 103), (2, '이순신', 103), (3, '김철수', 101), (4, '김다미', 104), (5, '이유리', None)])"
   ]
  },
  {
   "cell_type": "code",
   "execution_count": 4,
   "metadata": {},
   "outputs": [
    {
     "output_type": "execute_result",
     "data": {
      "text/plain": "[1, 2, 3, 4, 5]"
     },
     "metadata": {},
     "execution_count": 4
    }
   ],
   "source": [
    "student.keys().collect()"
   ]
  },
  {
   "cell_type": "code",
   "execution_count": 5,
   "metadata": {},
   "outputs": [
    {
     "output_type": "execute_result",
     "data": {
      "text/plain": "[100, 101, 102, 103, 104]"
     },
     "metadata": {},
     "execution_count": 5
    }
   ],
   "source": [
    "dept.keys().collect()"
   ]
  },
  {
   "cell_type": "code",
   "execution_count": 6,
   "metadata": {},
   "outputs": [
    {
     "output_type": "execute_result",
     "data": {
      "text/plain": "[(101, ((3, '김철수', 101), '사복')),\n (103, ((1, '홍길동', 103), '컴소')),\n (103, ((2, '이순신', 103), '컴소')),\n (104, ((4, '김다미', 104), '간호'))]"
     },
     "metadata": {},
     "execution_count": 6
    }
   ],
   "source": [
    "student.keyBy(lambda x: x[2]).join(dept).collect()"
   ]
  },
  {
   "cell_type": "code",
   "execution_count": 7,
   "metadata": {},
   "outputs": [
    {
     "output_type": "execute_result",
     "data": {
      "text/plain": "[(None, ((5, '이유리', None), None)),\n (101, ((3, '김철수', 101), '사복')),\n (103, ((1, '홍길동', 103), '컴소')),\n (103, ((2, '이순신', 103), '컴소')),\n (104, ((4, '김다미', 104), '간호'))]"
     },
     "metadata": {},
     "execution_count": 7
    }
   ],
   "source": [
    "student.keyBy(lambda x: x[2]).leftOuterJoin(dept).collect()"
   ]
  },
  {
   "cell_type": "code",
   "execution_count": 8,
   "metadata": {},
   "outputs": [
    {
     "output_type": "execute_result",
     "data": {
      "text/plain": "[(100, (None, '성서')),\n (101, ((3, '김철수', 101), '사복')),\n (102, (None, '영보')),\n (103, ((1, '홍길동', 103), '컴소')),\n (103, ((2, '이순신', 103), '컴소')),\n (104, ((4, '김다미', 104), '간호'))]"
     },
     "metadata": {},
     "execution_count": 8
    }
   ],
   "source": [
    "student.keyBy(lambda x: x[2]).rightOuterJoin(dept).collect()"
   ]
  },
  {
   "cell_type": "code",
   "execution_count": 9,
   "metadata": {},
   "outputs": [
    {
     "output_type": "execute_result",
     "data": {
      "text/plain": "[(None, ((5, '이유리', None), None))]"
     },
     "metadata": {},
     "execution_count": 9
    }
   ],
   "source": [
    "student.keyBy(lambda x: x[2]).leftOuterJoin(dept).filter(lambda x: x[0] is None).collect()"
   ]
  },
  {
   "cell_type": "code",
   "execution_count": 11,
   "metadata": {},
   "outputs": [
    {
     "output_type": "execute_result",
     "data": {
      "text/plain": "['이유리']"
     },
     "metadata": {},
     "execution_count": 11
    }
   ],
   "source": [
    "student.keyBy(lambda x: x[2]).leftOuterJoin(dept).filter(lambda x: x[0] is None).map(lambda x: x[1][0][1]).collect()"
   ]
  },
  {
   "cell_type": "code",
   "execution_count": 12,
   "metadata": {},
   "outputs": [
    {
     "output_type": "execute_result",
     "data": {
      "text/plain": "[(None, ((5, '이유리', None), None)),\n (100, (None, '성서')),\n (101, ((3, '김철수', 101), '사복')),\n (102, (None, '영보')),\n (103, ((1, '홍길동', 103), '컴소')),\n (103, ((2, '이순신', 103), '컴소')),\n (104, ((4, '김다미', 104), '간호'))]"
     },
     "metadata": {},
     "execution_count": 12
    }
   ],
   "source": [
    "student.keyBy(lambda x: x[2]).fullOuterJoin(dept).collect()"
   ]
  },
  {
   "cell_type": "code",
   "execution_count": 14,
   "metadata": {},
   "outputs": [
    {
     "output_type": "execute_result",
     "data": {
      "text/plain": "[(None, ((5, '이유리', None), None)), (100, (None, '성서')), (102, (None, '영보'))]"
     },
     "metadata": {},
     "execution_count": 14
    }
   ],
   "source": [
    "student.keyBy(lambda x: x[2]).fullOuterJoin(dept).filter(lambda x: x[0] is None or x[1][0] is None).collect()"
   ]
  },
  {
   "cell_type": "code",
   "execution_count": 15,
   "metadata": {},
   "outputs": [
    {
     "output_type": "execute_result",
     "data": {
      "text/plain": "[(None,\n  (<pyspark.resultiterable.ResultIterable at 0x154a4238448>,\n   <pyspark.resultiterable.ResultIterable at 0x154a4238648>)),\n (100,\n  (<pyspark.resultiterable.ResultIterable at 0x154a4238248>,\n   <pyspark.resultiterable.ResultIterable at 0x154a4238708>)),\n (101,\n  (<pyspark.resultiterable.ResultIterable at 0x154a4238188>,\n   <pyspark.resultiterable.ResultIterable at 0x154a41a0988>)),\n (102,\n  (<pyspark.resultiterable.ResultIterable at 0x154a42387c8>,\n   <pyspark.resultiterable.ResultIterable at 0x154a42385c8>)),\n (103,\n  (<pyspark.resultiterable.ResultIterable at 0x154a41a0808>,\n   <pyspark.resultiterable.ResultIterable at 0x154a41a0fc8>)),\n (104,\n  (<pyspark.resultiterable.ResultIterable at 0x154a41a0f08>,\n   <pyspark.resultiterable.ResultIterable at 0x154a41a0e48>))]"
     },
     "metadata": {},
     "execution_count": 15
    }
   ],
   "source": [
    "student.keyBy(lambda x: x[2]).cogroup(dept).collect()"
   ]
  },
  {
   "cell_type": "code",
   "execution_count": 16,
   "metadata": {},
   "outputs": [
    {
     "output_type": "execute_result",
     "data": {
      "text/plain": "[(None, [(5, '이유리', None)]),\n (100, ['성서']),\n (101, [(3, '김철수', 101), '사복']),\n (102, ['영보']),\n (103, [(1, '홍길동', 103), (2, '이순신', 103), '컴소']),\n (104, [(4, '김다미', 104), '간호'])]"
     },
     "metadata": {},
     "execution_count": 16
    }
   ],
   "source": [
    "student.keyBy(lambda x: x[2]).cogroup(dept).mapValues(lambda x: [dept_name for sublist in x for dept_name in sublist ]).collect()"
   ]
  },
  {
   "cell_type": "code",
   "execution_count": 17,
   "metadata": {},
   "outputs": [
    {
     "output_type": "execute_result",
     "data": {
      "text/plain": "[((103, (1, '홍길동', 103)), (100, '성서')),\n ((103, (1, '홍길동', 103)), (101, '사복')),\n ((103, (1, '홍길동', 103)), (102, '영보')),\n ((103, (1, '홍길동', 103)), (103, '컴소')),\n ((103, (1, '홍길동', 103)), (104, '간호')),\n ((103, (2, '이순신', 103)), (100, '성서')),\n ((103, (2, '이순신', 103)), (101, '사복')),\n ((103, (2, '이순신', 103)), (102, '영보')),\n ((103, (2, '이순신', 103)), (103, '컴소')),\n ((103, (2, '이순신', 103)), (104, '간호')),\n ((101, (3, '김철수', 101)), (100, '성서')),\n ((101, (3, '김철수', 101)), (101, '사복')),\n ((101, (3, '김철수', 101)), (102, '영보')),\n ((101, (3, '김철수', 101)), (103, '컴소')),\n ((101, (3, '김철수', 101)), (104, '간호')),\n ((104, (4, '김다미', 104)), (100, '성서')),\n ((104, (4, '김다미', 104)), (101, '사복')),\n ((104, (4, '김다미', 104)), (102, '영보')),\n ((104, (4, '김다미', 104)), (103, '컴소')),\n ((104, (4, '김다미', 104)), (104, '간호')),\n ((None, (5, '이유리', None)), (100, '성서')),\n ((None, (5, '이유리', None)), (101, '사복')),\n ((None, (5, '이유리', None)), (102, '영보')),\n ((None, (5, '이유리', None)), (103, '컴소')),\n ((None, (5, '이유리', None)), (104, '간호'))]"
     },
     "metadata": {},
     "execution_count": 17
    }
   ],
   "source": [
    "student.keyBy(lambda x: x[2]).cartesian(dept).collect()"
   ]
  },
  {
   "cell_type": "code",
   "execution_count": 18,
   "metadata": {},
   "outputs": [],
   "source": [
    "A = sc.parallelize([1, 2, 3, 4, 5])\n",
    "B = sc.parallelize([2, 3, 4, 5, 6])"
   ]
  },
  {
   "cell_type": "code",
   "execution_count": 19,
   "metadata": {},
   "outputs": [
    {
     "output_type": "execute_result",
     "data": {
      "text/plain": "[1, 2, 3, 4, 5, 2, 3, 4, 5, 6]"
     },
     "metadata": {},
     "execution_count": 19
    }
   ],
   "source": [
    "A.union(B).collect()"
   ]
  },
  {
   "cell_type": "code",
   "execution_count": 20,
   "metadata": {},
   "outputs": [
    {
     "output_type": "execute_result",
     "data": {
      "text/plain": "[1, 2, 3, 4, 5, 6]"
     },
     "metadata": {},
     "execution_count": 20
    }
   ],
   "source": [
    "A.union(B).distinct().collect()"
   ]
  },
  {
   "cell_type": "code",
   "execution_count": 21,
   "metadata": {},
   "outputs": [
    {
     "output_type": "execute_result",
     "data": {
      "text/plain": "[2, 3, 4, 5]"
     },
     "metadata": {},
     "execution_count": 21
    }
   ],
   "source": [
    "A.intersection(B).collect()"
   ]
  },
  {
   "cell_type": "code",
   "execution_count": 22,
   "metadata": {},
   "outputs": [
    {
     "output_type": "execute_result",
     "data": {
      "text/plain": "[1]"
     },
     "metadata": {},
     "execution_count": 22
    }
   ],
   "source": [
    "A.subtract(B).collect()"
   ]
  },
  {
   "cell_type": "code",
   "execution_count": 23,
   "metadata": {},
   "outputs": [
    {
     "output_type": "execute_result",
     "data": {
      "text/plain": "[6]"
     },
     "metadata": {},
     "execution_count": 23
    }
   ],
   "source": [
    "B.subtract(A).collect()"
   ]
  },
  {
   "cell_type": "code",
   "execution_count": 24,
   "metadata": {},
   "outputs": [],
   "source": [
    "C = sc.parallelize([('A', 100), ('B', 120), ('C', 100)])\n",
    "D = sc.parallelize([('A', 100), ('A', 120), ('D', 100)])"
   ]
  },
  {
   "cell_type": "code",
   "execution_count": 25,
   "metadata": {},
   "outputs": [
    {
     "output_type": "execute_result",
     "data": {
      "text/plain": "[('C', 100), ('B', 120)]"
     },
     "metadata": {},
     "execution_count": 25
    }
   ],
   "source": [
    "C.subtract(D).collect()"
   ]
  },
  {
   "cell_type": "code",
   "execution_count": 26,
   "metadata": {},
   "outputs": [
    {
     "output_type": "execute_result",
     "data": {
      "text/plain": "[('A', 120), ('D', 100)]"
     },
     "metadata": {},
     "execution_count": 26
    }
   ],
   "source": [
    "D.subtract(C).collect()"
   ]
  },
  {
   "cell_type": "code",
   "execution_count": 27,
   "metadata": {},
   "outputs": [
    {
     "output_type": "execute_result",
     "data": {
      "text/plain": "[('D', 100)]"
     },
     "metadata": {},
     "execution_count": 27
    }
   ],
   "source": [
    "D.subtractByKey(C).collect()"
   ]
  },
  {
   "cell_type": "code",
   "execution_count": 28,
   "metadata": {},
   "outputs": [],
   "source": [
    "number = sc.parallelize([1, 2, 3, 4, 5])"
   ]
  },
  {
   "cell_type": "code",
   "execution_count": 29,
   "metadata": {},
   "outputs": [
    {
     "output_type": "execute_result",
     "data": {
      "text/plain": "1"
     },
     "metadata": {},
     "execution_count": 29
    }
   ],
   "source": [
    "number.min()"
   ]
  },
  {
   "cell_type": "code",
   "execution_count": 30,
   "metadata": {},
   "outputs": [
    {
     "output_type": "execute_result",
     "data": {
      "text/plain": "5"
     },
     "metadata": {},
     "execution_count": 30
    }
   ],
   "source": [
    "number.max()"
   ]
  },
  {
   "cell_type": "code",
   "execution_count": 31,
   "metadata": {},
   "outputs": [
    {
     "output_type": "execute_result",
     "data": {
      "text/plain": "3.0"
     },
     "metadata": {},
     "execution_count": 31
    }
   ],
   "source": [
    "number.mean()"
   ]
  },
  {
   "cell_type": "code",
   "execution_count": 32,
   "metadata": {},
   "outputs": [
    {
     "output_type": "execute_result",
     "data": {
      "text/plain": "15"
     },
     "metadata": {},
     "execution_count": 32
    }
   ],
   "source": [
    "number.sum()"
   ]
  },
  {
   "cell_type": "code",
   "execution_count": 33,
   "metadata": {},
   "outputs": [
    {
     "output_type": "execute_result",
     "data": {
      "text/plain": "1.4142135623730951"
     },
     "metadata": {},
     "execution_count": 33
    }
   ],
   "source": [
    "number.stdev()"
   ]
  },
  {
   "cell_type": "code",
   "execution_count": 34,
   "metadata": {},
   "outputs": [
    {
     "output_type": "execute_result",
     "data": {
      "text/plain": "2.0"
     },
     "metadata": {},
     "execution_count": 34
    }
   ],
   "source": [
    "number.variance()"
   ]
  },
  {
   "cell_type": "code",
   "execution_count": 35,
   "metadata": {},
   "outputs": [
    {
     "output_type": "execute_result",
     "data": {
      "text/plain": "(count: 5, mean: 3.0, stdev: 1.4142135623730951, max: 5.0, min: 1.0)"
     },
     "metadata": {},
     "execution_count": 35
    }
   ],
   "source": [
    "number.stats()"
   ]
  },
  {
   "cell_type": "code",
   "execution_count": 36,
   "metadata": {},
   "outputs": [],
   "source": [
    "import numpy as np\n",
    "import scipy.sparse as sps\n",
    "from pyspark.mllib.linalg import Vectors"
   ]
  },
  {
   "cell_type": "code",
   "execution_count": 37,
   "metadata": {},
   "outputs": [],
   "source": [
    "v1 = np.array([0.1, 0.0, 0.2, 0.3])"
   ]
  },
  {
   "cell_type": "code",
   "execution_count": 38,
   "metadata": {},
   "outputs": [
    {
     "output_type": "execute_result",
     "data": {
      "text/plain": "numpy.ndarray"
     },
     "metadata": {},
     "execution_count": 38
    }
   ],
   "source": [
    "type(v1)"
   ]
  },
  {
   "cell_type": "code",
   "execution_count": 39,
   "metadata": {},
   "outputs": [],
   "source": [
    "v2 = Vectors.dense([0.1, 0.2, 0.3])"
   ]
  },
  {
   "cell_type": "code",
   "execution_count": 40,
   "metadata": {},
   "outputs": [
    {
     "output_type": "execute_result",
     "data": {
      "text/plain": "DenseVector([0.1, 0.2, 0.3])"
     },
     "metadata": {},
     "execution_count": 40
    }
   ],
   "source": [
    "v2"
   ]
  },
  {
   "cell_type": "code",
   "execution_count": 41,
   "metadata": {},
   "outputs": [],
   "source": [
    "v3 = [0.1, 0.0, 0.2, 0.3]"
   ]
  },
  {
   "cell_type": "code",
   "execution_count": 42,
   "metadata": {},
   "outputs": [],
   "source": [
    "v4 = Vectors.sparse(4, [(0, 0.1), (1, 0.2)])"
   ]
  },
  {
   "cell_type": "code",
   "execution_count": 43,
   "metadata": {},
   "outputs": [
    {
     "output_type": "execute_result",
     "data": {
      "text/plain": "SparseVector(4, {0: 0.1, 1: 0.2})"
     },
     "metadata": {},
     "execution_count": 43
    }
   ],
   "source": [
    "v4"
   ]
  },
  {
   "cell_type": "code",
   "execution_count": 45,
   "metadata": {},
   "outputs": [],
   "source": [
    "v5 = Vectors.sparse(4, [0, 2], [0.1, 0.2])"
   ]
  },
  {
   "cell_type": "code",
   "execution_count": 46,
   "metadata": {},
   "outputs": [
    {
     "output_type": "execute_result",
     "data": {
      "text/plain": "SparseVector(4, {0: 0.1, 2: 0.2})"
     },
     "metadata": {},
     "execution_count": 46
    }
   ],
   "source": [
    "v5"
   ]
  },
  {
   "cell_type": "code",
   "execution_count": 47,
   "metadata": {},
   "outputs": [
    {
     "output_type": "execute_result",
     "data": {
      "text/plain": "array([0.1, 0.2, 0. , 0. ])"
     },
     "metadata": {},
     "execution_count": 47
    }
   ],
   "source": [
    "v4.toArray()"
   ]
  },
  {
   "cell_type": "code",
   "execution_count": 48,
   "metadata": {},
   "outputs": [
    {
     "output_type": "execute_result",
     "data": {
      "text/plain": "array([0.1, 0. , 0.2, 0. ])"
     },
     "metadata": {},
     "execution_count": 48
    }
   ],
   "source": [
    "v5.toArray()"
   ]
  },
  {
   "cell_type": "code",
   "execution_count": 53,
   "metadata": {},
   "outputs": [],
   "source": [
    "v6 = sps.csc_matrix((np.array([0.1, 0.2, 0.3]), np.array([0, 2, 2]), np.array([0, 3])), shape=(4,1))"
   ]
  },
  {
   "cell_type": "code",
   "execution_count": 54,
   "metadata": {},
   "outputs": [
    {
     "output_type": "stream",
     "name": "stdout",
     "text": "(0, 0)\t0.1\n  (2, 0)\t0.2\n  (2, 1)\t0.3\n"
    }
   ],
   "source": [
    "print(v6)"
   ]
  },
  {
   "cell_type": "code",
   "execution_count": 55,
   "metadata": {},
   "outputs": [
    {
     "output_type": "stream",
     "name": "stdout",
     "text": "[[0.1 0. ]\n [0.  0. ]\n [0.2 0.3]\n [0.  0. ]]\n"
    }
   ],
   "source": [
    "print(v6.toarray())"
   ]
  },
  {
   "cell_type": "code",
   "execution_count": null,
   "metadata": {},
   "outputs": [],
   "source": []
  }
 ],
 "metadata": {
  "language_info": {
   "codemirror_mode": {
    "name": "ipython",
    "version": 3
   },
   "file_extension": ".py",
   "mimetype": "text/x-python",
   "name": "python",
   "nbconvert_exporter": "python",
   "pygments_lexer": "ipython3",
   "version": "3.7.7-final"
  },
  "orig_nbformat": 2,
  "kernelspec": {
   "name": "python3",
   "display_name": "Python 3"
  }
 },
 "nbformat": 4,
 "nbformat_minor": 2
}