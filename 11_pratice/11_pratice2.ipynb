{
 "cells": [
  {
   "cell_type": "code",
   "execution_count": 1,
   "metadata": {},
   "outputs": [],
   "source": [
    "from datetime import datetime"
   ]
  },
  {
   "cell_type": "code",
   "execution_count": 2,
   "metadata": {},
   "outputs": [
    {
     "output_type": "execute_result",
     "data": {
      "text/plain": "datetime.datetime(2020, 5, 19, 16, 17, 16, 68912)"
     },
     "metadata": {},
     "execution_count": 2
    }
   ],
   "source": [
    "now1 = datetime.now()\n",
    "now1"
   ]
  },
  {
   "cell_type": "code",
   "execution_count": 3,
   "metadata": {},
   "outputs": [
    {
     "output_type": "stream",
     "name": "stdout",
     "text": "2020-05-19 16:17:16.068912\n"
    }
   ],
   "source": [
    "print(now1)"
   ]
  },
  {
   "cell_type": "code",
   "execution_count": 4,
   "metadata": {},
   "outputs": [
    {
     "output_type": "stream",
     "name": "stdout",
     "text": "2020-05-19 16:17:37.036960\n"
    }
   ],
   "source": [
    "now2 = datetime.today()\n",
    "print(now2)"
   ]
  },
  {
   "cell_type": "code",
   "execution_count": 5,
   "metadata": {},
   "outputs": [],
   "source": [
    "t1 = datetime.now()\n",
    "t2 = datetime(1970, 1, 1)\n",
    "t3 = datetime(1970, 12, 12, 13, 24, 34)"
   ]
  },
  {
   "cell_type": "code",
   "execution_count": 6,
   "metadata": {},
   "outputs": [
    {
     "output_type": "stream",
     "name": "stdout",
     "text": "2020-05-19 16:18:08.348172\n"
    }
   ],
   "source": [
    "print(t1)"
   ]
  },
  {
   "cell_type": "code",
   "execution_count": 7,
   "metadata": {},
   "outputs": [
    {
     "output_type": "stream",
     "name": "stdout",
     "text": "1970-01-01 00:00:00\n"
    }
   ],
   "source": [
    "print(t2)"
   ]
  },
  {
   "cell_type": "code",
   "execution_count": 8,
   "metadata": {},
   "outputs": [
    {
     "output_type": "stream",
     "name": "stdout",
     "text": "1970-12-12 13:24:34\n"
    }
   ],
   "source": [
    "print(t3)"
   ]
  },
  {
   "cell_type": "code",
   "execution_count": 9,
   "metadata": {},
   "outputs": [
    {
     "output_type": "stream",
     "name": "stdout",
     "text": "18401 days, 16:18:08.348172\n"
    }
   ],
   "source": [
    "diff1 = t1 - t2\n",
    "print(diff1)"
   ]
  },
  {
   "cell_type": "code",
   "execution_count": 10,
   "metadata": {},
   "outputs": [
    {
     "output_type": "stream",
     "name": "stdout",
     "text": "-18402 days, 7:41:51.651828\n"
    }
   ],
   "source": [
    "diff2 = t2 - t1\n",
    "print(diff2)"
   ]
  },
  {
   "cell_type": "code",
   "execution_count": 11,
   "metadata": {},
   "outputs": [
    {
     "output_type": "stream",
     "name": "stdout",
     "text": "<class 'datetime.timedelta'>\n<class 'datetime.timedelta'>\n"
    }
   ],
   "source": [
    "print(type(diff1))\n",
    "print(type(diff2))"
   ]
  },
  {
   "cell_type": "code",
   "execution_count": 12,
   "metadata": {},
   "outputs": [],
   "source": [
    "import pandas as pd"
   ]
  },
  {
   "cell_type": "code",
   "execution_count": 13,
   "metadata": {},
   "outputs": [
    {
     "output_type": "execute_result",
     "data": {
      "text/plain": "         Date  Day     ...       Deaths_Spain  Deaths_Mali\n0    1/5/2015  289     ...                NaN          NaN\n1    1/4/2015  288     ...                NaN          NaN\n2    1/3/2015  287     ...                NaN          NaN\n3    1/2/2015  286     ...                NaN          NaN\n4  12/31/2014  284     ...                NaN          NaN\n\n[5 rows x 18 columns]",
      "text/html": "<div>\n<style scoped>\n    .dataframe tbody tr th:only-of-type {\n        vertical-align: middle;\n    }\n\n    .dataframe tbody tr th {\n        vertical-align: top;\n    }\n\n    .dataframe thead th {\n        text-align: right;\n    }\n</style>\n<table border=\"1\" class=\"dataframe\">\n  <thead>\n    <tr style=\"text-align: right;\">\n      <th></th>\n      <th>Date</th>\n      <th>Day</th>\n      <th>Cases_Guinea</th>\n      <th>Cases_Liberia</th>\n      <th>Cases_SierraLeone</th>\n      <th>Cases_Nigeria</th>\n      <th>Cases_Senegal</th>\n      <th>Cases_UnitedStates</th>\n      <th>Cases_Spain</th>\n      <th>Cases_Mali</th>\n      <th>Deaths_Guinea</th>\n      <th>Deaths_Liberia</th>\n      <th>Deaths_SierraLeone</th>\n      <th>Deaths_Nigeria</th>\n      <th>Deaths_Senegal</th>\n      <th>Deaths_UnitedStates</th>\n      <th>Deaths_Spain</th>\n      <th>Deaths_Mali</th>\n    </tr>\n  </thead>\n  <tbody>\n    <tr>\n      <th>0</th>\n      <td>1/5/2015</td>\n      <td>289</td>\n      <td>2776.0</td>\n      <td>NaN</td>\n      <td>10030.0</td>\n      <td>NaN</td>\n      <td>NaN</td>\n      <td>NaN</td>\n      <td>NaN</td>\n      <td>NaN</td>\n      <td>1786.0</td>\n      <td>NaN</td>\n      <td>2977.0</td>\n      <td>NaN</td>\n      <td>NaN</td>\n      <td>NaN</td>\n      <td>NaN</td>\n      <td>NaN</td>\n    </tr>\n    <tr>\n      <th>1</th>\n      <td>1/4/2015</td>\n      <td>288</td>\n      <td>2775.0</td>\n      <td>NaN</td>\n      <td>9780.0</td>\n      <td>NaN</td>\n      <td>NaN</td>\n      <td>NaN</td>\n      <td>NaN</td>\n      <td>NaN</td>\n      <td>1781.0</td>\n      <td>NaN</td>\n      <td>2943.0</td>\n      <td>NaN</td>\n      <td>NaN</td>\n      <td>NaN</td>\n      <td>NaN</td>\n      <td>NaN</td>\n    </tr>\n    <tr>\n      <th>2</th>\n      <td>1/3/2015</td>\n      <td>287</td>\n      <td>2769.0</td>\n      <td>8166.0</td>\n      <td>9722.0</td>\n      <td>NaN</td>\n      <td>NaN</td>\n      <td>NaN</td>\n      <td>NaN</td>\n      <td>NaN</td>\n      <td>1767.0</td>\n      <td>3496.0</td>\n      <td>2915.0</td>\n      <td>NaN</td>\n      <td>NaN</td>\n      <td>NaN</td>\n      <td>NaN</td>\n      <td>NaN</td>\n    </tr>\n    <tr>\n      <th>3</th>\n      <td>1/2/2015</td>\n      <td>286</td>\n      <td>NaN</td>\n      <td>8157.0</td>\n      <td>NaN</td>\n      <td>NaN</td>\n      <td>NaN</td>\n      <td>NaN</td>\n      <td>NaN</td>\n      <td>NaN</td>\n      <td>NaN</td>\n      <td>3496.0</td>\n      <td>NaN</td>\n      <td>NaN</td>\n      <td>NaN</td>\n      <td>NaN</td>\n      <td>NaN</td>\n      <td>NaN</td>\n    </tr>\n    <tr>\n      <th>4</th>\n      <td>12/31/2014</td>\n      <td>284</td>\n      <td>2730.0</td>\n      <td>8115.0</td>\n      <td>9633.0</td>\n      <td>NaN</td>\n      <td>NaN</td>\n      <td>NaN</td>\n      <td>NaN</td>\n      <td>NaN</td>\n      <td>1739.0</td>\n      <td>3471.0</td>\n      <td>2827.0</td>\n      <td>NaN</td>\n      <td>NaN</td>\n      <td>NaN</td>\n      <td>NaN</td>\n      <td>NaN</td>\n    </tr>\n  </tbody>\n</table>\n</div>"
     },
     "metadata": {},
     "execution_count": 13
    }
   ],
   "source": [
    "ebola = pd.read_csv('../data/country_timeseries.csv')\n",
    "ebola.head()"
   ]
  },
  {
   "cell_type": "code",
   "execution_count": 14,
   "metadata": {},
   "outputs": [
    {
     "output_type": "stream",
     "name": "stdout",
     "text": "<class 'pandas.core.frame.DataFrame'>\nRangeIndex: 122 entries, 0 to 121\nData columns (total 18 columns):\nDate                   122 non-null object\nDay                    122 non-null int64\nCases_Guinea           93 non-null float64\nCases_Liberia          83 non-null float64\nCases_SierraLeone      87 non-null float64\nCases_Nigeria          38 non-null float64\nCases_Senegal          25 non-null float64\nCases_UnitedStates     18 non-null float64\nCases_Spain            16 non-null float64\nCases_Mali             12 non-null float64\nDeaths_Guinea          92 non-null float64\nDeaths_Liberia         81 non-null float64\nDeaths_SierraLeone     87 non-null float64\nDeaths_Nigeria         38 non-null float64\nDeaths_Senegal         22 non-null float64\nDeaths_UnitedStates    18 non-null float64\nDeaths_Spain           16 non-null float64\nDeaths_Mali            12 non-null float64\ndtypes: float64(16), int64(1), object(1)\nmemory usage: 17.2+ KB\n"
    }
   ],
   "source": [
    "ebola.info()"
   ]
  },
  {
   "cell_type": "code",
   "execution_count": 16,
   "metadata": {},
   "outputs": [
    {
     "output_type": "execute_result",
     "data": {
      "text/plain": "         Date  Day    ...      Deaths_Mali    date_dt\n0    1/5/2015  289    ...              NaN 2015-01-05\n1    1/4/2015  288    ...              NaN 2015-01-04\n2    1/3/2015  287    ...              NaN 2015-01-03\n3    1/2/2015  286    ...              NaN 2015-01-02\n4  12/31/2014  284    ...              NaN 2014-12-31\n\n[5 rows x 19 columns]",
      "text/html": "<div>\n<style scoped>\n    .dataframe tbody tr th:only-of-type {\n        vertical-align: middle;\n    }\n\n    .dataframe tbody tr th {\n        vertical-align: top;\n    }\n\n    .dataframe thead th {\n        text-align: right;\n    }\n</style>\n<table border=\"1\" class=\"dataframe\">\n  <thead>\n    <tr style=\"text-align: right;\">\n      <th></th>\n      <th>Date</th>\n      <th>Day</th>\n      <th>Cases_Guinea</th>\n      <th>Cases_Liberia</th>\n      <th>Cases_SierraLeone</th>\n      <th>Cases_Nigeria</th>\n      <th>Cases_Senegal</th>\n      <th>Cases_UnitedStates</th>\n      <th>Cases_Spain</th>\n      <th>Cases_Mali</th>\n      <th>Deaths_Guinea</th>\n      <th>Deaths_Liberia</th>\n      <th>Deaths_SierraLeone</th>\n      <th>Deaths_Nigeria</th>\n      <th>Deaths_Senegal</th>\n      <th>Deaths_UnitedStates</th>\n      <th>Deaths_Spain</th>\n      <th>Deaths_Mali</th>\n      <th>date_dt</th>\n    </tr>\n  </thead>\n  <tbody>\n    <tr>\n      <th>0</th>\n      <td>1/5/2015</td>\n      <td>289</td>\n      <td>2776.0</td>\n      <td>NaN</td>\n      <td>10030.0</td>\n      <td>NaN</td>\n      <td>NaN</td>\n      <td>NaN</td>\n      <td>NaN</td>\n      <td>NaN</td>\n      <td>1786.0</td>\n      <td>NaN</td>\n      <td>2977.0</td>\n      <td>NaN</td>\n      <td>NaN</td>\n      <td>NaN</td>\n      <td>NaN</td>\n      <td>NaN</td>\n      <td>2015-01-05</td>\n    </tr>\n    <tr>\n      <th>1</th>\n      <td>1/4/2015</td>\n      <td>288</td>\n      <td>2775.0</td>\n      <td>NaN</td>\n      <td>9780.0</td>\n      <td>NaN</td>\n      <td>NaN</td>\n      <td>NaN</td>\n      <td>NaN</td>\n      <td>NaN</td>\n      <td>1781.0</td>\n      <td>NaN</td>\n      <td>2943.0</td>\n      <td>NaN</td>\n      <td>NaN</td>\n      <td>NaN</td>\n      <td>NaN</td>\n      <td>NaN</td>\n      <td>2015-01-04</td>\n    </tr>\n    <tr>\n      <th>2</th>\n      <td>1/3/2015</td>\n      <td>287</td>\n      <td>2769.0</td>\n      <td>8166.0</td>\n      <td>9722.0</td>\n      <td>NaN</td>\n      <td>NaN</td>\n      <td>NaN</td>\n      <td>NaN</td>\n      <td>NaN</td>\n      <td>1767.0</td>\n      <td>3496.0</td>\n      <td>2915.0</td>\n      <td>NaN</td>\n      <td>NaN</td>\n      <td>NaN</td>\n      <td>NaN</td>\n      <td>NaN</td>\n      <td>2015-01-03</td>\n    </tr>\n    <tr>\n      <th>3</th>\n      <td>1/2/2015</td>\n      <td>286</td>\n      <td>NaN</td>\n      <td>8157.0</td>\n      <td>NaN</td>\n      <td>NaN</td>\n      <td>NaN</td>\n      <td>NaN</td>\n      <td>NaN</td>\n      <td>NaN</td>\n      <td>NaN</td>\n      <td>3496.0</td>\n      <td>NaN</td>\n      <td>NaN</td>\n      <td>NaN</td>\n      <td>NaN</td>\n      <td>NaN</td>\n      <td>NaN</td>\n      <td>2015-01-02</td>\n    </tr>\n    <tr>\n      <th>4</th>\n      <td>12/31/2014</td>\n      <td>284</td>\n      <td>2730.0</td>\n      <td>8115.0</td>\n      <td>9633.0</td>\n      <td>NaN</td>\n      <td>NaN</td>\n      <td>NaN</td>\n      <td>NaN</td>\n      <td>NaN</td>\n      <td>1739.0</td>\n      <td>3471.0</td>\n      <td>2827.0</td>\n      <td>NaN</td>\n      <td>NaN</td>\n      <td>NaN</td>\n      <td>NaN</td>\n      <td>NaN</td>\n      <td>2014-12-31</td>\n    </tr>\n  </tbody>\n</table>\n</div>"
     },
     "metadata": {},
     "execution_count": 16
    }
   ],
   "source": [
    "ebola['date_dt'] = pd.to_datetime(ebola['Date'])\n",
    "ebola.head()"
   ]
  },
  {
   "cell_type": "code",
   "execution_count": 17,
   "metadata": {},
   "outputs": [
    {
     "output_type": "stream",
     "name": "stdout",
     "text": "<class 'pandas.core.frame.DataFrame'>\nRangeIndex: 122 entries, 0 to 121\nData columns (total 19 columns):\nDate                   122 non-null object\nDay                    122 non-null int64\nCases_Guinea           93 non-null float64\nCases_Liberia          83 non-null float64\nCases_SierraLeone      87 non-null float64\nCases_Nigeria          38 non-null float64\nCases_Senegal          25 non-null float64\nCases_UnitedStates     18 non-null float64\nCases_Spain            16 non-null float64\nCases_Mali             12 non-null float64\nDeaths_Guinea          92 non-null float64\nDeaths_Liberia         81 non-null float64\nDeaths_SierraLeone     87 non-null float64\nDeaths_Nigeria         38 non-null float64\nDeaths_Senegal         22 non-null float64\nDeaths_UnitedStates    18 non-null float64\nDeaths_Spain           16 non-null float64\nDeaths_Mali            12 non-null float64\ndate_dt                122 non-null datetime64[ns]\ndtypes: datetime64[ns](1), float64(16), int64(1), object(1)\nmemory usage: 18.2+ KB\n"
    }
   ],
   "source": [
    "ebola.info()"
   ]
  },
  {
   "cell_type": "code",
   "execution_count": 18,
   "metadata": {},
   "outputs": [
    {
     "output_type": "execute_result",
     "data": {
      "text/plain": "           Date    date_dt\n0      1/5/2015 2015-01-05\n1      1/4/2015 2015-01-04\n2      1/3/2015 2015-01-03\n3      1/2/2015 2015-01-02\n4    12/31/2014 2014-12-31\n5    12/28/2014 2014-12-28\n6    12/27/2014 2014-12-27\n7    12/24/2014 2014-12-24\n8    12/21/2014 2014-12-21\n9    12/20/2014 2014-12-20\n10   12/18/2014 2014-12-18\n11   12/14/2014 2014-12-14\n12    12/9/2014 2014-12-09\n13    12/7/2014 2014-12-07\n14    12/3/2014 2014-12-03\n15   11/30/2014 2014-11-30\n16   11/28/2014 2014-11-28\n17   11/23/2014 2014-11-23\n18   11/22/2014 2014-11-22\n19   11/18/2014 2014-11-18\n20   11/16/2014 2014-11-16\n21   11/15/2014 2014-11-15\n22   11/11/2014 2014-11-11\n23   11/10/2014 2014-11-10\n24    11/9/2014 2014-11-09\n25    11/8/2014 2014-11-08\n26    11/4/2014 2014-11-04\n27    11/3/2014 2014-11-03\n28    11/2/2014 2014-11-02\n29   10/31/2014 2014-10-31\n..          ...        ...\n92    5/23/2014 2014-05-23\n93    5/12/2014 2014-05-12\n94    5/10/2014 2014-05-10\n95     5/7/2014 2014-05-07\n96     5/5/2014 2014-05-05\n97     5/3/2014 2014-05-03\n98     5/1/2014 2014-05-01\n99    4/26/2014 2014-04-26\n100   4/24/2014 2014-04-24\n101   4/23/2014 2014-04-23\n102   4/22/2014 2014-04-22\n103   4/21/2014 2014-04-21\n104   4/20/2014 2014-04-20\n105   4/17/2014 2014-04-17\n106   4/16/2014 2014-04-16\n107   4/15/2014 2014-04-15\n108   4/14/2014 2014-04-14\n109   4/11/2014 2014-04-11\n110    4/9/2014 2014-04-09\n111    4/7/2014 2014-04-07\n112    4/4/2014 2014-04-04\n113    4/1/2014 2014-04-01\n114   3/31/2014 2014-03-31\n115   3/29/2014 2014-03-29\n116   3/28/2014 2014-03-28\n117   3/27/2014 2014-03-27\n118   3/26/2014 2014-03-26\n119   3/25/2014 2014-03-25\n120   3/24/2014 2014-03-24\n121   3/22/2014 2014-03-22\n\n[122 rows x 2 columns]",
      "text/html": "<div>\n<style scoped>\n    .dataframe tbody tr th:only-of-type {\n        vertical-align: middle;\n    }\n\n    .dataframe tbody tr th {\n        vertical-align: top;\n    }\n\n    .dataframe thead th {\n        text-align: right;\n    }\n</style>\n<table border=\"1\" class=\"dataframe\">\n  <thead>\n    <tr style=\"text-align: right;\">\n      <th></th>\n      <th>Date</th>\n      <th>date_dt</th>\n    </tr>\n  </thead>\n  <tbody>\n    <tr>\n      <th>0</th>\n      <td>1/5/2015</td>\n      <td>2015-01-05</td>\n    </tr>\n    <tr>\n      <th>1</th>\n      <td>1/4/2015</td>\n      <td>2015-01-04</td>\n    </tr>\n    <tr>\n      <th>2</th>\n      <td>1/3/2015</td>\n      <td>2015-01-03</td>\n    </tr>\n    <tr>\n      <th>3</th>\n      <td>1/2/2015</td>\n      <td>2015-01-02</td>\n    </tr>\n    <tr>\n      <th>4</th>\n      <td>12/31/2014</td>\n      <td>2014-12-31</td>\n    </tr>\n    <tr>\n      <th>5</th>\n      <td>12/28/2014</td>\n      <td>2014-12-28</td>\n    </tr>\n    <tr>\n      <th>6</th>\n      <td>12/27/2014</td>\n      <td>2014-12-27</td>\n    </tr>\n    <tr>\n      <th>7</th>\n      <td>12/24/2014</td>\n      <td>2014-12-24</td>\n    </tr>\n    <tr>\n      <th>8</th>\n      <td>12/21/2014</td>\n      <td>2014-12-21</td>\n    </tr>\n    <tr>\n      <th>9</th>\n      <td>12/20/2014</td>\n      <td>2014-12-20</td>\n    </tr>\n    <tr>\n      <th>10</th>\n      <td>12/18/2014</td>\n      <td>2014-12-18</td>\n    </tr>\n    <tr>\n      <th>11</th>\n      <td>12/14/2014</td>\n      <td>2014-12-14</td>\n    </tr>\n    <tr>\n      <th>12</th>\n      <td>12/9/2014</td>\n      <td>2014-12-09</td>\n    </tr>\n    <tr>\n      <th>13</th>\n      <td>12/7/2014</td>\n      <td>2014-12-07</td>\n    </tr>\n    <tr>\n      <th>14</th>\n      <td>12/3/2014</td>\n      <td>2014-12-03</td>\n    </tr>\n    <tr>\n      <th>15</th>\n      <td>11/30/2014</td>\n      <td>2014-11-30</td>\n    </tr>\n    <tr>\n      <th>16</th>\n      <td>11/28/2014</td>\n      <td>2014-11-28</td>\n    </tr>\n    <tr>\n      <th>17</th>\n      <td>11/23/2014</td>\n      <td>2014-11-23</td>\n    </tr>\n    <tr>\n      <th>18</th>\n      <td>11/22/2014</td>\n      <td>2014-11-22</td>\n    </tr>\n    <tr>\n      <th>19</th>\n      <td>11/18/2014</td>\n      <td>2014-11-18</td>\n    </tr>\n    <tr>\n      <th>20</th>\n      <td>11/16/2014</td>\n      <td>2014-11-16</td>\n    </tr>\n    <tr>\n      <th>21</th>\n      <td>11/15/2014</td>\n      <td>2014-11-15</td>\n    </tr>\n    <tr>\n      <th>22</th>\n      <td>11/11/2014</td>\n      <td>2014-11-11</td>\n    </tr>\n    <tr>\n      <th>23</th>\n      <td>11/10/2014</td>\n      <td>2014-11-10</td>\n    </tr>\n    <tr>\n      <th>24</th>\n      <td>11/9/2014</td>\n      <td>2014-11-09</td>\n    </tr>\n    <tr>\n      <th>25</th>\n      <td>11/8/2014</td>\n      <td>2014-11-08</td>\n    </tr>\n    <tr>\n      <th>26</th>\n      <td>11/4/2014</td>\n      <td>2014-11-04</td>\n    </tr>\n    <tr>\n      <th>27</th>\n      <td>11/3/2014</td>\n      <td>2014-11-03</td>\n    </tr>\n    <tr>\n      <th>28</th>\n      <td>11/2/2014</td>\n      <td>2014-11-02</td>\n    </tr>\n    <tr>\n      <th>29</th>\n      <td>10/31/2014</td>\n      <td>2014-10-31</td>\n    </tr>\n    <tr>\n      <th>...</th>\n      <td>...</td>\n      <td>...</td>\n    </tr>\n    <tr>\n      <th>92</th>\n      <td>5/23/2014</td>\n      <td>2014-05-23</td>\n    </tr>\n    <tr>\n      <th>93</th>\n      <td>5/12/2014</td>\n      <td>2014-05-12</td>\n    </tr>\n    <tr>\n      <th>94</th>\n      <td>5/10/2014</td>\n      <td>2014-05-10</td>\n    </tr>\n    <tr>\n      <th>95</th>\n      <td>5/7/2014</td>\n      <td>2014-05-07</td>\n    </tr>\n    <tr>\n      <th>96</th>\n      <td>5/5/2014</td>\n      <td>2014-05-05</td>\n    </tr>\n    <tr>\n      <th>97</th>\n      <td>5/3/2014</td>\n      <td>2014-05-03</td>\n    </tr>\n    <tr>\n      <th>98</th>\n      <td>5/1/2014</td>\n      <td>2014-05-01</td>\n    </tr>\n    <tr>\n      <th>99</th>\n      <td>4/26/2014</td>\n      <td>2014-04-26</td>\n    </tr>\n    <tr>\n      <th>100</th>\n      <td>4/24/2014</td>\n      <td>2014-04-24</td>\n    </tr>\n    <tr>\n      <th>101</th>\n      <td>4/23/2014</td>\n      <td>2014-04-23</td>\n    </tr>\n    <tr>\n      <th>102</th>\n      <td>4/22/2014</td>\n      <td>2014-04-22</td>\n    </tr>\n    <tr>\n      <th>103</th>\n      <td>4/21/2014</td>\n      <td>2014-04-21</td>\n    </tr>\n    <tr>\n      <th>104</th>\n      <td>4/20/2014</td>\n      <td>2014-04-20</td>\n    </tr>\n    <tr>\n      <th>105</th>\n      <td>4/17/2014</td>\n      <td>2014-04-17</td>\n    </tr>\n    <tr>\n      <th>106</th>\n      <td>4/16/2014</td>\n      <td>2014-04-16</td>\n    </tr>\n    <tr>\n      <th>107</th>\n      <td>4/15/2014</td>\n      <td>2014-04-15</td>\n    </tr>\n    <tr>\n      <th>108</th>\n      <td>4/14/2014</td>\n      <td>2014-04-14</td>\n    </tr>\n    <tr>\n      <th>109</th>\n      <td>4/11/2014</td>\n      <td>2014-04-11</td>\n    </tr>\n    <tr>\n      <th>110</th>\n      <td>4/9/2014</td>\n      <td>2014-04-09</td>\n    </tr>\n    <tr>\n      <th>111</th>\n      <td>4/7/2014</td>\n      <td>2014-04-07</td>\n    </tr>\n    <tr>\n      <th>112</th>\n      <td>4/4/2014</td>\n      <td>2014-04-04</td>\n    </tr>\n    <tr>\n      <th>113</th>\n      <td>4/1/2014</td>\n      <td>2014-04-01</td>\n    </tr>\n    <tr>\n      <th>114</th>\n      <td>3/31/2014</td>\n      <td>2014-03-31</td>\n    </tr>\n    <tr>\n      <th>115</th>\n      <td>3/29/2014</td>\n      <td>2014-03-29</td>\n    </tr>\n    <tr>\n      <th>116</th>\n      <td>3/28/2014</td>\n      <td>2014-03-28</td>\n    </tr>\n    <tr>\n      <th>117</th>\n      <td>3/27/2014</td>\n      <td>2014-03-27</td>\n    </tr>\n    <tr>\n      <th>118</th>\n      <td>3/26/2014</td>\n      <td>2014-03-26</td>\n    </tr>\n    <tr>\n      <th>119</th>\n      <td>3/25/2014</td>\n      <td>2014-03-25</td>\n    </tr>\n    <tr>\n      <th>120</th>\n      <td>3/24/2014</td>\n      <td>2014-03-24</td>\n    </tr>\n    <tr>\n      <th>121</th>\n      <td>3/22/2014</td>\n      <td>2014-03-22</td>\n    </tr>\n  </tbody>\n</table>\n<p>122 rows × 2 columns</p>\n</div>"
     },
     "metadata": {},
     "execution_count": 18
    }
   ],
   "source": [
    "ebola[['Date', 'date_dt']]"
   ]
  },
  {
   "cell_type": "code",
   "execution_count": 19,
   "metadata": {},
   "outputs": [
    {
     "output_type": "execute_result",
     "data": {
      "text/plain": "  order_day\n0  01/01/15\n1  02/01/15\n2  03/01/15",
      "text/html": "<div>\n<style scoped>\n    .dataframe tbody tr th:only-of-type {\n        vertical-align: middle;\n    }\n\n    .dataframe tbody tr th {\n        vertical-align: top;\n    }\n\n    .dataframe thead th {\n        text-align: right;\n    }\n</style>\n<table border=\"1\" class=\"dataframe\">\n  <thead>\n    <tr style=\"text-align: right;\">\n      <th></th>\n      <th>order_day</th>\n    </tr>\n  </thead>\n  <tbody>\n    <tr>\n      <th>0</th>\n      <td>01/01/15</td>\n    </tr>\n    <tr>\n      <th>1</th>\n      <td>02/01/15</td>\n    </tr>\n    <tr>\n      <th>2</th>\n      <td>03/01/15</td>\n    </tr>\n  </tbody>\n</table>\n</div>"
     },
     "metadata": {},
     "execution_count": 19
    }
   ],
   "source": [
    "test_df1 = pd.DataFrame({\n",
    "    'order_day': ['01/01/15', '02/01/15', '03/01/15']\n",
    "})\n",
    "test_df1"
   ]
  },
  {
   "cell_type": "code",
   "execution_count": 20,
   "metadata": {},
   "outputs": [
    {
     "output_type": "execute_result",
     "data": {
      "text/plain": "  order_day   date_df1   date_df2   date_df3\n0  01/01/15 2015-01-01 2015-01-01 2001-01-15\n1  02/01/15 2015-01-02 2015-02-01 2002-01-15\n2  03/01/15 2015-01-03 2015-03-01 2003-01-15",
      "text/html": "<div>\n<style scoped>\n    .dataframe tbody tr th:only-of-type {\n        vertical-align: middle;\n    }\n\n    .dataframe tbody tr th {\n        vertical-align: top;\n    }\n\n    .dataframe thead th {\n        text-align: right;\n    }\n</style>\n<table border=\"1\" class=\"dataframe\">\n  <thead>\n    <tr style=\"text-align: right;\">\n      <th></th>\n      <th>order_day</th>\n      <th>date_df1</th>\n      <th>date_df2</th>\n      <th>date_df3</th>\n    </tr>\n  </thead>\n  <tbody>\n    <tr>\n      <th>0</th>\n      <td>01/01/15</td>\n      <td>2015-01-01</td>\n      <td>2015-01-01</td>\n      <td>2001-01-15</td>\n    </tr>\n    <tr>\n      <th>1</th>\n      <td>02/01/15</td>\n      <td>2015-01-02</td>\n      <td>2015-02-01</td>\n      <td>2002-01-15</td>\n    </tr>\n    <tr>\n      <th>2</th>\n      <td>03/01/15</td>\n      <td>2015-01-03</td>\n      <td>2015-03-01</td>\n      <td>2003-01-15</td>\n    </tr>\n  </tbody>\n</table>\n</div>"
     },
     "metadata": {},
     "execution_count": 20
    }
   ],
   "source": [
    "test_df1['date_df1'] = pd.to_datetime(test_df1['order_day'], format='%d/%m/%y')\n",
    "test_df1['date_df2'] = pd.to_datetime(test_df1['order_day'], format='%m/%d/%y')\n",
    "test_df1['date_df3'] = pd.to_datetime(test_df1['order_day'], format='%y/%m/%d')\n",
    "test_df1"
   ]
  },
  {
   "cell_type": "code",
   "execution_count": 21,
   "metadata": {},
   "outputs": [
    {
     "output_type": "stream",
     "name": "stdout",
     "text": "2020-05-19\n"
    }
   ],
   "source": [
    "now = datetime.now()\n",
    "nowDate = now.strftime('%Y-%m-%d')\n",
    "print(nowDate)"
   ]
  },
  {
   "cell_type": "code",
   "execution_count": 23,
   "metadata": {},
   "outputs": [
    {
     "output_type": "stream",
     "name": "stdout",
     "text": "16:30:04\n"
    }
   ],
   "source": [
    "nowTime = now.strftime('%H:%M:%S')\n",
    "print(nowTime)"
   ]
  },
  {
   "cell_type": "code",
   "execution_count": 33,
   "metadata": {},
   "outputs": [
    {
     "output_type": "stream",
     "name": "stdout",
     "text": "2020-05-19 04:30:04 PM\n"
    }
   ],
   "source": [
    "nowDatetime = now.strftime('%Y-%m-%d %I:%M:%S %p')\n",
    "print(nowDatetime)"
   ]
  },
  {
   "cell_type": "code",
   "execution_count": 34,
   "metadata": {},
   "outputs": [
    {
     "output_type": "stream",
     "name": "stdout",
     "text": "<class 'pandas.core.frame.DataFrame'>\nRangeIndex: 122 entries, 0 to 121\nData columns (total 18 columns):\nDate                   122 non-null datetime64[ns]\nDay                    122 non-null int64\nCases_Guinea           93 non-null float64\nCases_Liberia          83 non-null float64\nCases_SierraLeone      87 non-null float64\nCases_Nigeria          38 non-null float64\nCases_Senegal          25 non-null float64\nCases_UnitedStates     18 non-null float64\nCases_Spain            16 non-null float64\nCases_Mali             12 non-null float64\nDeaths_Guinea          92 non-null float64\nDeaths_Liberia         81 non-null float64\nDeaths_SierraLeone     87 non-null float64\nDeaths_Nigeria         38 non-null float64\nDeaths_Senegal         22 non-null float64\nDeaths_UnitedStates    18 non-null float64\nDeaths_Spain           16 non-null float64\nDeaths_Mali            12 non-null float64\ndtypes: datetime64[ns](1), float64(16), int64(1)\nmemory usage: 17.2 KB\n"
    }
   ],
   "source": [
    "ebola1 = pd.read_csv('../data/country_timeseries.csv', parse_dates=['Date'])\n",
    "ebola1.info()"
   ]
  },
  {
   "cell_type": "code",
   "execution_count": 35,
   "metadata": {},
   "outputs": [
    {
     "output_type": "execute_result",
     "data": {
      "text/plain": "        Date  Day     ...       Deaths_Spain  Deaths_Mali\n0 2015-01-05  289     ...                NaN          NaN\n1 2015-01-04  288     ...                NaN          NaN\n2 2015-01-03  287     ...                NaN          NaN\n3 2015-01-02  286     ...                NaN          NaN\n4 2014-12-31  284     ...                NaN          NaN\n\n[5 rows x 18 columns]",
      "text/html": "<div>\n<style scoped>\n    .dataframe tbody tr th:only-of-type {\n        vertical-align: middle;\n    }\n\n    .dataframe tbody tr th {\n        vertical-align: top;\n    }\n\n    .dataframe thead th {\n        text-align: right;\n    }\n</style>\n<table border=\"1\" class=\"dataframe\">\n  <thead>\n    <tr style=\"text-align: right;\">\n      <th></th>\n      <th>Date</th>\n      <th>Day</th>\n      <th>Cases_Guinea</th>\n      <th>Cases_Liberia</th>\n      <th>Cases_SierraLeone</th>\n      <th>Cases_Nigeria</th>\n      <th>Cases_Senegal</th>\n      <th>Cases_UnitedStates</th>\n      <th>Cases_Spain</th>\n      <th>Cases_Mali</th>\n      <th>Deaths_Guinea</th>\n      <th>Deaths_Liberia</th>\n      <th>Deaths_SierraLeone</th>\n      <th>Deaths_Nigeria</th>\n      <th>Deaths_Senegal</th>\n      <th>Deaths_UnitedStates</th>\n      <th>Deaths_Spain</th>\n      <th>Deaths_Mali</th>\n    </tr>\n  </thead>\n  <tbody>\n    <tr>\n      <th>0</th>\n      <td>2015-01-05</td>\n      <td>289</td>\n      <td>2776.0</td>\n      <td>NaN</td>\n      <td>10030.0</td>\n      <td>NaN</td>\n      <td>NaN</td>\n      <td>NaN</td>\n      <td>NaN</td>\n      <td>NaN</td>\n      <td>1786.0</td>\n      <td>NaN</td>\n      <td>2977.0</td>\n      <td>NaN</td>\n      <td>NaN</td>\n      <td>NaN</td>\n      <td>NaN</td>\n      <td>NaN</td>\n    </tr>\n    <tr>\n      <th>1</th>\n      <td>2015-01-04</td>\n      <td>288</td>\n      <td>2775.0</td>\n      <td>NaN</td>\n      <td>9780.0</td>\n      <td>NaN</td>\n      <td>NaN</td>\n      <td>NaN</td>\n      <td>NaN</td>\n      <td>NaN</td>\n      <td>1781.0</td>\n      <td>NaN</td>\n      <td>2943.0</td>\n      <td>NaN</td>\n      <td>NaN</td>\n      <td>NaN</td>\n      <td>NaN</td>\n      <td>NaN</td>\n    </tr>\n    <tr>\n      <th>2</th>\n      <td>2015-01-03</td>\n      <td>287</td>\n      <td>2769.0</td>\n      <td>8166.0</td>\n      <td>9722.0</td>\n      <td>NaN</td>\n      <td>NaN</td>\n      <td>NaN</td>\n      <td>NaN</td>\n      <td>NaN</td>\n      <td>1767.0</td>\n      <td>3496.0</td>\n      <td>2915.0</td>\n      <td>NaN</td>\n      <td>NaN</td>\n      <td>NaN</td>\n      <td>NaN</td>\n      <td>NaN</td>\n    </tr>\n    <tr>\n      <th>3</th>\n      <td>2015-01-02</td>\n      <td>286</td>\n      <td>NaN</td>\n      <td>8157.0</td>\n      <td>NaN</td>\n      <td>NaN</td>\n      <td>NaN</td>\n      <td>NaN</td>\n      <td>NaN</td>\n      <td>NaN</td>\n      <td>NaN</td>\n      <td>3496.0</td>\n      <td>NaN</td>\n      <td>NaN</td>\n      <td>NaN</td>\n      <td>NaN</td>\n      <td>NaN</td>\n      <td>NaN</td>\n    </tr>\n    <tr>\n      <th>4</th>\n      <td>2014-12-31</td>\n      <td>284</td>\n      <td>2730.0</td>\n      <td>8115.0</td>\n      <td>9633.0</td>\n      <td>NaN</td>\n      <td>NaN</td>\n      <td>NaN</td>\n      <td>NaN</td>\n      <td>NaN</td>\n      <td>1739.0</td>\n      <td>3471.0</td>\n      <td>2827.0</td>\n      <td>NaN</td>\n      <td>NaN</td>\n      <td>NaN</td>\n      <td>NaN</td>\n      <td>NaN</td>\n    </tr>\n  </tbody>\n</table>\n</div>"
     },
     "metadata": {},
     "execution_count": 35
    }
   ],
   "source": [
    "ebola1.head()"
   ]
  },
  {
   "cell_type": "code",
   "execution_count": 39,
   "metadata": {},
   "outputs": [
    {
     "output_type": "execute_result",
     "data": {
      "text/plain": "0   2018-05-16\n1   2018-05-17\n2   2018-05-18\ndtype: datetime64[ns]"
     },
     "metadata": {},
     "execution_count": 39
    }
   ],
   "source": [
    "date_series = pd.Series(['2018-05-16', '2018-05-17', '2018-05-18'])\n",
    "d1 = pd.to_datetime(date_series)\n",
    "d1"
   ]
  },
  {
   "cell_type": "code",
   "execution_count": 40,
   "metadata": {},
   "outputs": [
    {
     "output_type": "stream",
     "name": "stdout",
     "text": "2018\n"
    }
   ],
   "source": [
    "print(d1[0].year)"
   ]
  },
  {
   "cell_type": "code",
   "execution_count": 41,
   "metadata": {},
   "outputs": [
    {
     "output_type": "stream",
     "name": "stdout",
     "text": "5\n"
    }
   ],
   "source": [
    "print(d1[0].month)"
   ]
  },
  {
   "cell_type": "code",
   "execution_count": 42,
   "metadata": {},
   "outputs": [
    {
     "output_type": "stream",
     "name": "stdout",
     "text": "16\n"
    }
   ],
   "source": [
    "print(d1[0].day)"
   ]
  },
  {
   "cell_type": "code",
   "execution_count": 43,
   "metadata": {},
   "outputs": [
    {
     "output_type": "stream",
     "name": "stdout",
     "text": "17\n"
    }
   ],
   "source": [
    "print(d1[1].day)"
   ]
  },
  {
   "cell_type": "code",
   "execution_count": 45,
   "metadata": {},
   "outputs": [],
   "source": [
    "ebola = pd.read_csv('../data/country_timeseries.csv')"
   ]
  },
  {
   "cell_type": "code",
   "execution_count": 46,
   "metadata": {},
   "outputs": [
    {
     "output_type": "execute_result",
     "data": {
      "text/plain": "         Date  Day     ...       Deaths_Spain  Deaths_Mali\n0    1-5-2015  289     ...                NaN          NaN\n1    1-4-2015  288     ...                NaN          NaN\n2    1-3-2015  287     ...                NaN          NaN\n3    1-2-2015  286     ...                NaN          NaN\n4  12-31-2014  284     ...                NaN          NaN\n\n[5 rows x 18 columns]",
      "text/html": "<div>\n<style scoped>\n    .dataframe tbody tr th:only-of-type {\n        vertical-align: middle;\n    }\n\n    .dataframe tbody tr th {\n        vertical-align: top;\n    }\n\n    .dataframe thead th {\n        text-align: right;\n    }\n</style>\n<table border=\"1\" class=\"dataframe\">\n  <thead>\n    <tr style=\"text-align: right;\">\n      <th></th>\n      <th>Date</th>\n      <th>Day</th>\n      <th>Cases_Guinea</th>\n      <th>Cases_Liberia</th>\n      <th>Cases_SierraLeone</th>\n      <th>Cases_Nigeria</th>\n      <th>Cases_Senegal</th>\n      <th>Cases_UnitedStates</th>\n      <th>Cases_Spain</th>\n      <th>Cases_Mali</th>\n      <th>Deaths_Guinea</th>\n      <th>Deaths_Liberia</th>\n      <th>Deaths_SierraLeone</th>\n      <th>Deaths_Nigeria</th>\n      <th>Deaths_Senegal</th>\n      <th>Deaths_UnitedStates</th>\n      <th>Deaths_Spain</th>\n      <th>Deaths_Mali</th>\n    </tr>\n  </thead>\n  <tbody>\n    <tr>\n      <th>0</th>\n      <td>1-5-2015</td>\n      <td>289</td>\n      <td>2776.0</td>\n      <td>NaN</td>\n      <td>10030.0</td>\n      <td>NaN</td>\n      <td>NaN</td>\n      <td>NaN</td>\n      <td>NaN</td>\n      <td>NaN</td>\n      <td>1786.0</td>\n      <td>NaN</td>\n      <td>2977.0</td>\n      <td>NaN</td>\n      <td>NaN</td>\n      <td>NaN</td>\n      <td>NaN</td>\n      <td>NaN</td>\n    </tr>\n    <tr>\n      <th>1</th>\n      <td>1-4-2015</td>\n      <td>288</td>\n      <td>2775.0</td>\n      <td>NaN</td>\n      <td>9780.0</td>\n      <td>NaN</td>\n      <td>NaN</td>\n      <td>NaN</td>\n      <td>NaN</td>\n      <td>NaN</td>\n      <td>1781.0</td>\n      <td>NaN</td>\n      <td>2943.0</td>\n      <td>NaN</td>\n      <td>NaN</td>\n      <td>NaN</td>\n      <td>NaN</td>\n      <td>NaN</td>\n    </tr>\n    <tr>\n      <th>2</th>\n      <td>1-3-2015</td>\n      <td>287</td>\n      <td>2769.0</td>\n      <td>8166.0</td>\n      <td>9722.0</td>\n      <td>NaN</td>\n      <td>NaN</td>\n      <td>NaN</td>\n      <td>NaN</td>\n      <td>NaN</td>\n      <td>1767.0</td>\n      <td>3496.0</td>\n      <td>2915.0</td>\n      <td>NaN</td>\n      <td>NaN</td>\n      <td>NaN</td>\n      <td>NaN</td>\n      <td>NaN</td>\n    </tr>\n    <tr>\n      <th>3</th>\n      <td>1-2-2015</td>\n      <td>286</td>\n      <td>NaN</td>\n      <td>8157.0</td>\n      <td>NaN</td>\n      <td>NaN</td>\n      <td>NaN</td>\n      <td>NaN</td>\n      <td>NaN</td>\n      <td>NaN</td>\n      <td>NaN</td>\n      <td>3496.0</td>\n      <td>NaN</td>\n      <td>NaN</td>\n      <td>NaN</td>\n      <td>NaN</td>\n      <td>NaN</td>\n      <td>NaN</td>\n    </tr>\n    <tr>\n      <th>4</th>\n      <td>12-31-2014</td>\n      <td>284</td>\n      <td>2730.0</td>\n      <td>8115.0</td>\n      <td>9633.0</td>\n      <td>NaN</td>\n      <td>NaN</td>\n      <td>NaN</td>\n      <td>NaN</td>\n      <td>NaN</td>\n      <td>1739.0</td>\n      <td>3471.0</td>\n      <td>2827.0</td>\n      <td>NaN</td>\n      <td>NaN</td>\n      <td>NaN</td>\n      <td>NaN</td>\n      <td>NaN</td>\n    </tr>\n  </tbody>\n</table>\n</div>"
     },
     "metadata": {},
     "execution_count": 46
    }
   ],
   "source": [
    "ebola.Date = ebola.Date.str.replace('/', '-')\n",
    "ebola.head()"
   ]
  },
  {
   "cell_type": "code",
   "execution_count": 47,
   "metadata": {},
   "outputs": [
    {
     "output_type": "execute_result",
     "data": {
      "text/plain": "         Date  Day     ...       Deaths_Spain  Deaths_Mali\n0    1/5/2015  289     ...                NaN          NaN\n1    1/4/2015  288     ...                NaN          NaN\n2    1/3/2015  287     ...                NaN          NaN\n3    1/2/2015  286     ...                NaN          NaN\n4  12/31/2014  284     ...                NaN          NaN\n\n[5 rows x 18 columns]",
      "text/html": "<div>\n<style scoped>\n    .dataframe tbody tr th:only-of-type {\n        vertical-align: middle;\n    }\n\n    .dataframe tbody tr th {\n        vertical-align: top;\n    }\n\n    .dataframe thead th {\n        text-align: right;\n    }\n</style>\n<table border=\"1\" class=\"dataframe\">\n  <thead>\n    <tr style=\"text-align: right;\">\n      <th></th>\n      <th>Date</th>\n      <th>Day</th>\n      <th>Cases_Guinea</th>\n      <th>Cases_Liberia</th>\n      <th>Cases_SierraLeone</th>\n      <th>Cases_Nigeria</th>\n      <th>Cases_Senegal</th>\n      <th>Cases_UnitedStates</th>\n      <th>Cases_Spain</th>\n      <th>Cases_Mali</th>\n      <th>Deaths_Guinea</th>\n      <th>Deaths_Liberia</th>\n      <th>Deaths_SierraLeone</th>\n      <th>Deaths_Nigeria</th>\n      <th>Deaths_Senegal</th>\n      <th>Deaths_UnitedStates</th>\n      <th>Deaths_Spain</th>\n      <th>Deaths_Mali</th>\n    </tr>\n  </thead>\n  <tbody>\n    <tr>\n      <th>0</th>\n      <td>1/5/2015</td>\n      <td>289</td>\n      <td>2776.0</td>\n      <td>NaN</td>\n      <td>10030.0</td>\n      <td>NaN</td>\n      <td>NaN</td>\n      <td>NaN</td>\n      <td>NaN</td>\n      <td>NaN</td>\n      <td>1786.0</td>\n      <td>NaN</td>\n      <td>2977.0</td>\n      <td>NaN</td>\n      <td>NaN</td>\n      <td>NaN</td>\n      <td>NaN</td>\n      <td>NaN</td>\n    </tr>\n    <tr>\n      <th>1</th>\n      <td>1/4/2015</td>\n      <td>288</td>\n      <td>2775.0</td>\n      <td>NaN</td>\n      <td>9780.0</td>\n      <td>NaN</td>\n      <td>NaN</td>\n      <td>NaN</td>\n      <td>NaN</td>\n      <td>NaN</td>\n      <td>1781.0</td>\n      <td>NaN</td>\n      <td>2943.0</td>\n      <td>NaN</td>\n      <td>NaN</td>\n      <td>NaN</td>\n      <td>NaN</td>\n      <td>NaN</td>\n    </tr>\n    <tr>\n      <th>2</th>\n      <td>1/3/2015</td>\n      <td>287</td>\n      <td>2769.0</td>\n      <td>8166.0</td>\n      <td>9722.0</td>\n      <td>NaN</td>\n      <td>NaN</td>\n      <td>NaN</td>\n      <td>NaN</td>\n      <td>NaN</td>\n      <td>1767.0</td>\n      <td>3496.0</td>\n      <td>2915.0</td>\n      <td>NaN</td>\n      <td>NaN</td>\n      <td>NaN</td>\n      <td>NaN</td>\n      <td>NaN</td>\n    </tr>\n    <tr>\n      <th>3</th>\n      <td>1/2/2015</td>\n      <td>286</td>\n      <td>NaN</td>\n      <td>8157.0</td>\n      <td>NaN</td>\n      <td>NaN</td>\n      <td>NaN</td>\n      <td>NaN</td>\n      <td>NaN</td>\n      <td>NaN</td>\n      <td>NaN</td>\n      <td>3496.0</td>\n      <td>NaN</td>\n      <td>NaN</td>\n      <td>NaN</td>\n      <td>NaN</td>\n      <td>NaN</td>\n      <td>NaN</td>\n    </tr>\n    <tr>\n      <th>4</th>\n      <td>12/31/2014</td>\n      <td>284</td>\n      <td>2730.0</td>\n      <td>8115.0</td>\n      <td>9633.0</td>\n      <td>NaN</td>\n      <td>NaN</td>\n      <td>NaN</td>\n      <td>NaN</td>\n      <td>NaN</td>\n      <td>1739.0</td>\n      <td>3471.0</td>\n      <td>2827.0</td>\n      <td>NaN</td>\n      <td>NaN</td>\n      <td>NaN</td>\n      <td>NaN</td>\n      <td>NaN</td>\n    </tr>\n  </tbody>\n</table>\n</div>"
     },
     "metadata": {},
     "execution_count": 47
    }
   ],
   "source": [
    "ebola.Date = ebola.Date.str.replace('-', '/')\n",
    "ebola.head()"
   ]
  },
  {
   "cell_type": "code",
   "execution_count": 48,
   "metadata": {},
   "outputs": [
    {
     "output_type": "execute_result",
     "data": {
      "text/plain": "5"
     },
     "metadata": {},
     "execution_count": 48
    }
   ],
   "source": [
    "ebola = pd.read_csv('../data/country_timeseries.csv', parse_dates=['Date'])\n",
    "ebola.Date[0].day"
   ]
  },
  {
   "cell_type": "code",
   "execution_count": 51,
   "metadata": {},
   "outputs": [
    {
     "output_type": "execute_result",
     "data": {
      "text/plain": "0      2015\n1      2015\n2      2015\n3      2015\n4      2014\n5      2014\n6      2014\n7      2014\n8      2014\n9      2014\n10     2014\n11     2014\n12     2014\n13     2014\n14     2014\n15     2014\n16     2014\n17     2014\n18     2014\n19     2014\n20     2014\n21     2014\n22     2014\n23     2014\n24     2014\n25     2014\n26     2014\n27     2014\n28     2014\n29     2014\n       ... \n92     2014\n93     2014\n94     2014\n95     2014\n96     2014\n97     2014\n98     2014\n99     2014\n100    2014\n101    2014\n102    2014\n103    2014\n104    2014\n105    2014\n106    2014\n107    2014\n108    2014\n109    2014\n110    2014\n111    2014\n112    2014\n113    2014\n114    2014\n115    2014\n116    2014\n117    2014\n118    2014\n119    2014\n120    2014\n121    2014\nName: Date, Length: 122, dtype: int64"
     },
     "metadata": {},
     "execution_count": 51
    }
   ],
   "source": [
    "ebola.Date.dt.year"
   ]
  },
  {
   "cell_type": "code",
   "execution_count": 52,
   "metadata": {},
   "outputs": [
    {
     "output_type": "execute_result",
     "data": {
      "text/plain": "0       5\n1       4\n2       3\n3       2\n4      31\n5      28\n6      27\n7      24\n8      21\n9      20\n10     18\n11     14\n12      9\n13      7\n14      3\n15     30\n16     28\n17     23\n18     22\n19     18\n20     16\n21     15\n22     11\n23     10\n24      9\n25      8\n26      4\n27      3\n28      2\n29     31\n       ..\n92     23\n93     12\n94     10\n95      7\n96      5\n97      3\n98      1\n99     26\n100    24\n101    23\n102    22\n103    21\n104    20\n105    17\n106    16\n107    15\n108    14\n109    11\n110     9\n111     7\n112     4\n113     1\n114    31\n115    29\n116    28\n117    27\n118    26\n119    25\n120    24\n121    22\nName: Date, Length: 122, dtype: int64"
     },
     "metadata": {},
     "execution_count": 52
    }
   ],
   "source": [
    "ebola.Date.dt.day"
   ]
  },
  {
   "cell_type": "code",
   "execution_count": 53,
   "metadata": {},
   "outputs": [],
   "source": [
    "ebola['year'], ebola['month'], ebola['day'] = ebola.Date.dt.year, ebola.Date.dt.month, ebola.Date.dt.day"
   ]
  },
  {
   "cell_type": "code",
   "execution_count": 54,
   "metadata": {},
   "outputs": [
    {
     "output_type": "execute_result",
     "data": {
      "text/plain": "        Date  year  month  day\n0 2015-01-05  2015      1    5\n1 2015-01-04  2015      1    4\n2 2015-01-03  2015      1    3\n3 2015-01-02  2015      1    2\n4 2014-12-31  2014     12   31",
      "text/html": "<div>\n<style scoped>\n    .dataframe tbody tr th:only-of-type {\n        vertical-align: middle;\n    }\n\n    .dataframe tbody tr th {\n        vertical-align: top;\n    }\n\n    .dataframe thead th {\n        text-align: right;\n    }\n</style>\n<table border=\"1\" class=\"dataframe\">\n  <thead>\n    <tr style=\"text-align: right;\">\n      <th></th>\n      <th>Date</th>\n      <th>year</th>\n      <th>month</th>\n      <th>day</th>\n    </tr>\n  </thead>\n  <tbody>\n    <tr>\n      <th>0</th>\n      <td>2015-01-05</td>\n      <td>2015</td>\n      <td>1</td>\n      <td>5</td>\n    </tr>\n    <tr>\n      <th>1</th>\n      <td>2015-01-04</td>\n      <td>2015</td>\n      <td>1</td>\n      <td>4</td>\n    </tr>\n    <tr>\n      <th>2</th>\n      <td>2015-01-03</td>\n      <td>2015</td>\n      <td>1</td>\n      <td>3</td>\n    </tr>\n    <tr>\n      <th>3</th>\n      <td>2015-01-02</td>\n      <td>2015</td>\n      <td>1</td>\n      <td>2</td>\n    </tr>\n    <tr>\n      <th>4</th>\n      <td>2014-12-31</td>\n      <td>2014</td>\n      <td>12</td>\n      <td>31</td>\n    </tr>\n  </tbody>\n</table>\n</div>"
     },
     "metadata": {},
     "execution_count": 54
    }
   ],
   "source": [
    "ebola[['Date', 'year', 'month', 'day']].head()"
   ]
  },
  {
   "cell_type": "code",
   "execution_count": 55,
   "metadata": {},
   "outputs": [
    {
     "output_type": "stream",
     "name": "stdout",
     "text": "<class 'pandas.core.frame.DataFrame'>\nRangeIndex: 122 entries, 0 to 121\nData columns (total 21 columns):\nDate                   122 non-null datetime64[ns]\nDay                    122 non-null int64\nCases_Guinea           93 non-null float64\nCases_Liberia          83 non-null float64\nCases_SierraLeone      87 non-null float64\nCases_Nigeria          38 non-null float64\nCases_Senegal          25 non-null float64\nCases_UnitedStates     18 non-null float64\nCases_Spain            16 non-null float64\nCases_Mali             12 non-null float64\nDeaths_Guinea          92 non-null float64\nDeaths_Liberia         81 non-null float64\nDeaths_SierraLeone     87 non-null float64\nDeaths_Nigeria         38 non-null float64\nDeaths_Senegal         22 non-null float64\nDeaths_UnitedStates    18 non-null float64\nDeaths_Spain           16 non-null float64\nDeaths_Mali            12 non-null float64\nyear                   122 non-null int64\nmonth                  122 non-null int64\nday                    122 non-null int64\ndtypes: datetime64[ns](1), float64(16), int64(4)\nmemory usage: 20.1 KB\n"
    }
   ],
   "source": [
    "ebola.info()"
   ]
  },
  {
   "cell_type": "code",
   "execution_count": 56,
   "metadata": {},
   "outputs": [
    {
     "output_type": "stream",
     "name": "stdout",
     "text": "Date  Day        ...          Cases_Liberia  Cases_SierraLeone\n117 2014-03-27    5        ...                    8.0                6.0\n118 2014-03-26    4        ...                    NaN                NaN\n119 2014-03-25    3        ...                    NaN                NaN\n120 2014-03-24    2        ...                    NaN                NaN\n121 2014-03-22    0        ...                    NaN                NaN\n\n[5 rows x 5 columns]\n"
    }
   ],
   "source": [
    "print(ebola.iloc[-5:, :5])"
   ]
  },
  {
   "cell_type": "code",
   "execution_count": 57,
   "metadata": {},
   "outputs": [
    {
     "output_type": "stream",
     "name": "stdout",
     "text": "2014-03-22 00:00:00\n"
    }
   ],
   "source": [
    "stamp = ebola.Date.min()\n",
    "print(stamp)"
   ]
  },
  {
   "cell_type": "code",
   "execution_count": 58,
   "metadata": {},
   "outputs": [
    {
     "output_type": "stream",
     "name": "stdout",
     "text": "<class 'pandas._libs.tslibs.timestamps.Timestamp'>\n"
    }
   ],
   "source": [
    "print(type(stamp))"
   ]
  },
  {
   "cell_type": "code",
   "execution_count": 59,
   "metadata": {},
   "outputs": [
    {
     "output_type": "stream",
     "name": "stdout",
     "text": "2014\n"
    }
   ],
   "source": [
    "print(stamp.year)"
   ]
  },
  {
   "cell_type": "code",
   "execution_count": 61,
   "metadata": {},
   "outputs": [
    {
     "output_type": "stream",
     "name": "stdout",
     "text": "Date  Day outbreak\n0   2015-01-05  289 289 days\n1   2015-01-04  288 288 days\n2   2015-01-03  287 287 days\n3   2015-01-02  286 286 days\n4   2014-12-31  284 284 days\n5   2014-12-28  281 281 days\n6   2014-12-27  280 280 days\n7   2014-12-24  277 277 days\n8   2014-12-21  273 274 days\n9   2014-12-20  272 273 days\n10  2014-12-18  271 271 days\n11  2014-12-14  267 267 days\n12  2014-12-09  262 262 days\n13  2014-12-07  260 260 days\n14  2014-12-03  256 256 days\n15  2014-11-30  253 253 days\n16  2014-11-28  251 251 days\n17  2014-11-23  246 246 days\n18  2014-11-22  245 245 days\n19  2014-11-18  241 241 days\n20  2014-11-16  239 239 days\n21  2014-11-15  238 238 days\n22  2014-11-11  234 234 days\n23  2014-11-10  233 233 days\n24  2014-11-09  232 232 days\n25  2014-11-08  231 231 days\n26  2014-11-04  227 227 days\n27  2014-11-03  226 226 days\n28  2014-11-02  225 225 days\n29  2014-10-31  222 223 days\n..         ...  ...      ...\n92  2014-05-23   62  62 days\n93  2014-05-12   51  51 days\n94  2014-05-10   49  49 days\n95  2014-05-07   46  46 days\n96  2014-05-05   44  44 days\n97  2014-05-03   42  42 days\n98  2014-05-01   40  40 days\n99  2014-04-26   35  35 days\n100 2014-04-24   33  33 days\n101 2014-04-23   32  32 days\n102 2014-04-22   31  31 days\n103 2014-04-21   30  30 days\n104 2014-04-20   29  29 days\n105 2014-04-17   26  26 days\n106 2014-04-16   25  25 days\n107 2014-04-15   24  24 days\n108 2014-04-14   23  23 days\n109 2014-04-11   20  20 days\n110 2014-04-09   18  18 days\n111 2014-04-07   16  16 days\n112 2014-04-04   13  13 days\n113 2014-04-01   10  10 days\n114 2014-03-31    9   9 days\n115 2014-03-29    7   7 days\n116 2014-03-28    6   6 days\n117 2014-03-27    5   5 days\n118 2014-03-26    4   4 days\n119 2014-03-25    3   3 days\n120 2014-03-24    2   2 days\n121 2014-03-22    0   0 days\n\n[122 rows x 3 columns]\n"
    }
   ],
   "source": [
    "ebola['outbreak'] = ebola.Date - ebola.Date.min()\n",
    "print(ebola[['Date', 'Day', 'outbreak']])"
   ]
  },
  {
   "cell_type": "code",
   "execution_count": 62,
   "metadata": {},
   "outputs": [
    {
     "output_type": "stream",
     "name": "stdout",
     "text": "Bank Name     ...      Updated Date\n0                Washington Federal Bank for Savings     ...         20-Dec-17\n1    The Farmers and Merchants State Bank of Argonia     ...         20-Oct-17\n2                                Fayette County Bank     ...         26-Jul-17\n3  Guaranty Bank, (d/b/a BestBank in Georgia & Mi...     ...         26-Jul-17\n4                                     First NBC Bank     ...          5-Dec-17\n\n[5 rows x 7 columns]\n"
    }
   ],
   "source": [
    "banks = pd.read_csv('../data/banklist.csv')\n",
    "print(banks.head())"
   ]
  },
  {
   "cell_type": "code",
   "execution_count": 63,
   "metadata": {},
   "outputs": [
    {
     "output_type": "stream",
     "name": "stdout",
     "text": "<class 'pandas.core.frame.DataFrame'>\nRangeIndex: 555 entries, 0 to 554\nData columns (total 7 columns):\nBank Name                555 non-null object\nCity                     555 non-null object\nST                       555 non-null object\nCERT                     555 non-null int64\nAcquiring Institution    555 non-null object\nClosing Date             555 non-null object\nUpdated Date             555 non-null object\ndtypes: int64(1), object(6)\nmemory usage: 30.4+ KB\n"
    }
   ],
   "source": [
    "banks.info()"
   ]
  },
  {
   "cell_type": "code",
   "execution_count": 64,
   "metadata": {},
   "outputs": [
    {
     "output_type": "stream",
     "name": "stdout",
     "text": "<class 'pandas.core.frame.DataFrame'>\nRangeIndex: 555 entries, 0 to 554\nData columns (total 7 columns):\nBank Name                555 non-null object\nCity                     555 non-null object\nST                       555 non-null object\nCERT                     555 non-null int64\nAcquiring Institution    555 non-null object\nClosing Date             555 non-null datetime64[ns]\nUpdated Date             555 non-null datetime64[ns]\ndtypes: datetime64[ns](2), int64(1), object(4)\nmemory usage: 30.4+ KB\n"
    }
   ],
   "source": [
    "banks = pd.read_csv('../data/banklist.csv', parse_dates=[5, 6])\n",
    "banks.info()"
   ]
  },
  {
   "cell_type": "code",
   "execution_count": 65,
   "metadata": {},
   "outputs": [
    {
     "output_type": "execute_result",
     "data": {
      "text/plain": "                                           Bank Name     ...      closing_year\n0                Washington Federal Bank for Savings     ...              2017\n1    The Farmers and Merchants State Bank of Argonia     ...              2017\n2                                Fayette County Bank     ...              2017\n3  Guaranty Bank, (d/b/a BestBank in Georgia & Mi...     ...              2017\n4                                     First NBC Bank     ...              2017\n\n[5 rows x 9 columns]",
      "text/html": "<div>\n<style scoped>\n    .dataframe tbody tr th:only-of-type {\n        vertical-align: middle;\n    }\n\n    .dataframe tbody tr th {\n        vertical-align: top;\n    }\n\n    .dataframe thead th {\n        text-align: right;\n    }\n</style>\n<table border=\"1\" class=\"dataframe\">\n  <thead>\n    <tr style=\"text-align: right;\">\n      <th></th>\n      <th>Bank Name</th>\n      <th>City</th>\n      <th>ST</th>\n      <th>CERT</th>\n      <th>Acquiring Institution</th>\n      <th>Closing Date</th>\n      <th>Updated Date</th>\n      <th>closing_quarter</th>\n      <th>closing_year</th>\n    </tr>\n  </thead>\n  <tbody>\n    <tr>\n      <th>0</th>\n      <td>Washington Federal Bank for Savings</td>\n      <td>Chicago</td>\n      <td>IL</td>\n      <td>30570</td>\n      <td>Royal Savings Bank</td>\n      <td>2017-12-15</td>\n      <td>2017-12-20</td>\n      <td>4</td>\n      <td>2017</td>\n    </tr>\n    <tr>\n      <th>1</th>\n      <td>The Farmers and Merchants State Bank of Argonia</td>\n      <td>Argonia</td>\n      <td>KS</td>\n      <td>17719</td>\n      <td>Conway Bank</td>\n      <td>2017-10-13</td>\n      <td>2017-10-20</td>\n      <td>4</td>\n      <td>2017</td>\n    </tr>\n    <tr>\n      <th>2</th>\n      <td>Fayette County Bank</td>\n      <td>Saint Elmo</td>\n      <td>IL</td>\n      <td>1802</td>\n      <td>United Fidelity Bank, fsb</td>\n      <td>2017-05-26</td>\n      <td>2017-07-26</td>\n      <td>2</td>\n      <td>2017</td>\n    </tr>\n    <tr>\n      <th>3</th>\n      <td>Guaranty Bank, (d/b/a BestBank in Georgia &amp; Mi...</td>\n      <td>Milwaukee</td>\n      <td>WI</td>\n      <td>30003</td>\n      <td>First-Citizens Bank &amp; Trust Company</td>\n      <td>2017-05-05</td>\n      <td>2017-07-26</td>\n      <td>2</td>\n      <td>2017</td>\n    </tr>\n    <tr>\n      <th>4</th>\n      <td>First NBC Bank</td>\n      <td>New Orleans</td>\n      <td>LA</td>\n      <td>58302</td>\n      <td>Whitney Bank</td>\n      <td>2017-04-28</td>\n      <td>2017-12-05</td>\n      <td>2</td>\n      <td>2017</td>\n    </tr>\n  </tbody>\n</table>\n</div>"
     },
     "metadata": {},
     "execution_count": 65
    }
   ],
   "source": [
    "banks['closing_quarter'], banks['closing_year'] = banks['Closing Date'].dt.quarter, banks['Closing Date'].dt.year\n",
    "banks.head()"
   ]
  },
  {
   "cell_type": "code",
   "execution_count": 71,
   "metadata": {},
   "outputs": [
    {
     "output_type": "stream",
     "name": "stdout",
     "text": "closing_year\n2000      2\n2001      4\n2002     11\n2003      3\n2004      4\n2007      3\n2008     25\n2009    140\n2010    157\n2011     92\n2012     51\n2013     24\n2014     18\n2015      8\n2016      5\n2017      8\ndtype: int64\n"
    }
   ],
   "source": [
    "closing_year = banks.groupby('closing_year').size()\n",
    "print(closing_year)"
   ]
  },
  {
   "cell_type": "code",
   "execution_count": 73,
   "metadata": {},
   "outputs": [
    {
     "output_type": "stream",
     "name": "stdout",
     "text": "closing_year  closing_quarter\n2000          4                   2\n2001          1                   1\n              2                   1\n              3                   2\n2002          1                   6\n              2                   2\n              3                   1\n              4                   2\n2003          1                   1\n              2                   1\n              4                   1\n2004          1                   3\n              2                   1\n2007          1                   1\n              3                   1\n              4                   1\n2008          1                   2\n              2                   2\n              3                   9\n              4                  12\n2009          1                  21\n              2                  24\n              3                  50\n              4                  45\n2010          1                  41\n              2                  45\n              3                  41\n              4                  30\n2011          1                  26\n              2                  22\n              3                  26\n              4                  18\n2012          1                  16\n              2                  15\n              3                  12\n              4                   8\n2013          1                   4\n              2                  12\n              3                   6\n              4                   2\n2014          1                   5\n              2                   7\n              3                   2\n              4                   4\n2015          1                   4\n              2                   1\n              3                   1\n              4                   2\n2016          1                   1\n              2                   2\n              3                   2\n2017          1                   3\n              2                   3\n              4                   2\ndtype: int64\n"
    }
   ],
   "source": [
    "closing_year_q = banks.groupby(['closing_year', 'closing_quarter']).size()\n",
    "print(closing_year_q)"
   ]
  },
  {
   "cell_type": "code",
   "execution_count": 74,
   "metadata": {},
   "outputs": [],
   "source": [
    "import matplotlib.pyplot as plt"
   ]
  },
  {
   "cell_type": "code",
   "execution_count": 77,
   "metadata": {},
   "outputs": [
    {
     "output_type": "display_data",
     "data": {
      "text/plain": "<Figure size 432x288 with 1 Axes>",
      "image/svg+xml": "<?xml version=\"1.0\" encoding=\"utf-8\" standalone=\"no\"?>\r\n<!DOCTYPE svg PUBLIC \"-//W3C//DTD SVG 1.1//EN\"\r\n  \"http://www.w3.org/Graphics/SVG/1.1/DTD/svg11.dtd\">\r\n<!-- Created with matplotlib (https://matplotlib.org/) -->\r\n<svg height=\"265.974375pt\" version=\"1.1\" viewBox=\"0 0 386.516502 265.974375\" width=\"386.516502pt\" xmlns=\"http://www.w3.org/2000/svg\" xmlns:xlink=\"http://www.w3.org/1999/xlink\">\r\n <defs>\r\n  <style type=\"text/css\">\r\n*{stroke-linecap:butt;stroke-linejoin:round;}\r\n  </style>\r\n </defs>\r\n <g id=\"figure_1\">\r\n  <g id=\"patch_1\">\r\n   <path d=\"M 0 265.974375 \r\nL 386.516502 265.974375 \r\nL 386.516502 0 \r\nL 0 0 \r\nz\r\n\" style=\"fill:none;\"/>\r\n  </g>\r\n  <g id=\"axes_1\">\r\n   <g id=\"patch_2\">\r\n    <path d=\"M 33.2875 228.14 \r\nL 368.0875 228.14 \r\nL 368.0875 10.7 \r\nL 33.2875 10.7 \r\nz\r\n\" style=\"fill:#ffffff;\"/>\r\n   </g>\r\n   <g id=\"matplotlib.axis_1\">\r\n    <g id=\"xtick_1\">\r\n     <g id=\"line2d_1\">\r\n      <defs>\r\n       <path d=\"M 0 0 \r\nL 0 3.5 \r\n\" id=\"m3c06aeb9a5\" style=\"stroke:#000000;stroke-width:0.8;\"/>\r\n      </defs>\r\n      <g>\r\n       <use style=\"stroke:#000000;stroke-width:0.8;\" x=\"48.505682\" xlink:href=\"#m3c06aeb9a5\" y=\"228.14\"/>\r\n      </g>\r\n     </g>\r\n     <g id=\"text_1\">\r\n      <!-- 2000.0 -->\r\n      <defs>\r\n       <path d=\"M 19.1875 8.296875 \r\nL 53.609375 8.296875 \r\nL 53.609375 0 \r\nL 7.328125 0 \r\nL 7.328125 8.296875 \r\nQ 12.9375 14.109375 22.625 23.890625 \r\nQ 32.328125 33.6875 34.8125 36.53125 \r\nQ 39.546875 41.84375 41.421875 45.53125 \r\nQ 43.3125 49.21875 43.3125 52.78125 \r\nQ 43.3125 58.59375 39.234375 62.25 \r\nQ 35.15625 65.921875 28.609375 65.921875 \r\nQ 23.96875 65.921875 18.8125 64.3125 \r\nQ 13.671875 62.703125 7.8125 59.421875 \r\nL 7.8125 69.390625 \r\nQ 13.765625 71.78125 18.9375 73 \r\nQ 24.125 74.21875 28.421875 74.21875 \r\nQ 39.75 74.21875 46.484375 68.546875 \r\nQ 53.21875 62.890625 53.21875 53.421875 \r\nQ 53.21875 48.921875 51.53125 44.890625 \r\nQ 49.859375 40.875 45.40625 35.40625 \r\nQ 44.1875 33.984375 37.640625 27.21875 \r\nQ 31.109375 20.453125 19.1875 8.296875 \r\nz\r\n\" id=\"DejaVuSans-50\"/>\r\n       <path d=\"M 31.78125 66.40625 \r\nQ 24.171875 66.40625 20.328125 58.90625 \r\nQ 16.5 51.421875 16.5 36.375 \r\nQ 16.5 21.390625 20.328125 13.890625 \r\nQ 24.171875 6.390625 31.78125 6.390625 \r\nQ 39.453125 6.390625 43.28125 13.890625 \r\nQ 47.125 21.390625 47.125 36.375 \r\nQ 47.125 51.421875 43.28125 58.90625 \r\nQ 39.453125 66.40625 31.78125 66.40625 \r\nz\r\nM 31.78125 74.21875 \r\nQ 44.046875 74.21875 50.515625 64.515625 \r\nQ 56.984375 54.828125 56.984375 36.375 \r\nQ 56.984375 17.96875 50.515625 8.265625 \r\nQ 44.046875 -1.421875 31.78125 -1.421875 \r\nQ 19.53125 -1.421875 13.0625 8.265625 \r\nQ 6.59375 17.96875 6.59375 36.375 \r\nQ 6.59375 54.828125 13.0625 64.515625 \r\nQ 19.53125 74.21875 31.78125 74.21875 \r\nz\r\n\" id=\"DejaVuSans-48\"/>\r\n       <path d=\"M 10.6875 12.40625 \r\nL 21 12.40625 \r\nL 21 0 \r\nL 10.6875 0 \r\nz\r\n\" id=\"DejaVuSans-46\"/>\r\n      </defs>\r\n      <g transform=\"translate(31.010369 242.738438)scale(0.1 -0.1)\">\r\n       <use xlink:href=\"#DejaVuSans-50\"/>\r\n       <use x=\"63.623047\" xlink:href=\"#DejaVuSans-48\"/>\r\n       <use x=\"127.246094\" xlink:href=\"#DejaVuSans-48\"/>\r\n       <use x=\"190.869141\" xlink:href=\"#DejaVuSans-48\"/>\r\n       <use x=\"254.492188\" xlink:href=\"#DejaVuSans-46\"/>\r\n       <use x=\"286.279297\" xlink:href=\"#DejaVuSans-48\"/>\r\n      </g>\r\n     </g>\r\n    </g>\r\n    <g id=\"xtick_2\">\r\n     <g id=\"line2d_2\">\r\n      <g>\r\n       <use style=\"stroke:#000000;stroke-width:0.8;\" x=\"93.26504\" xlink:href=\"#m3c06aeb9a5\" y=\"228.14\"/>\r\n      </g>\r\n     </g>\r\n     <g id=\"text_2\">\r\n      <!-- 2002.5 -->\r\n      <defs>\r\n       <path d=\"M 10.796875 72.90625 \r\nL 49.515625 72.90625 \r\nL 49.515625 64.59375 \r\nL 19.828125 64.59375 \r\nL 19.828125 46.734375 \r\nQ 21.96875 47.46875 24.109375 47.828125 \r\nQ 26.265625 48.1875 28.421875 48.1875 \r\nQ 40.625 48.1875 47.75 41.5 \r\nQ 54.890625 34.8125 54.890625 23.390625 \r\nQ 54.890625 11.625 47.5625 5.09375 \r\nQ 40.234375 -1.421875 26.90625 -1.421875 \r\nQ 22.3125 -1.421875 17.546875 -0.640625 \r\nQ 12.796875 0.140625 7.71875 1.703125 \r\nL 7.71875 11.625 \r\nQ 12.109375 9.234375 16.796875 8.0625 \r\nQ 21.484375 6.890625 26.703125 6.890625 \r\nQ 35.15625 6.890625 40.078125 11.328125 \r\nQ 45.015625 15.765625 45.015625 23.390625 \r\nQ 45.015625 31 40.078125 35.4375 \r\nQ 35.15625 39.890625 26.703125 39.890625 \r\nQ 22.75 39.890625 18.8125 39.015625 \r\nQ 14.890625 38.140625 10.796875 36.28125 \r\nz\r\n\" id=\"DejaVuSans-53\"/>\r\n      </defs>\r\n      <g transform=\"translate(75.769728 242.738438)scale(0.1 -0.1)\">\r\n       <use xlink:href=\"#DejaVuSans-50\"/>\r\n       <use x=\"63.623047\" xlink:href=\"#DejaVuSans-48\"/>\r\n       <use x=\"127.246094\" xlink:href=\"#DejaVuSans-48\"/>\r\n       <use x=\"190.869141\" xlink:href=\"#DejaVuSans-50\"/>\r\n       <use x=\"254.492188\" xlink:href=\"#DejaVuSans-46\"/>\r\n       <use x=\"286.279297\" xlink:href=\"#DejaVuSans-53\"/>\r\n      </g>\r\n     </g>\r\n    </g>\r\n    <g id=\"xtick_3\">\r\n     <g id=\"line2d_3\">\r\n      <g>\r\n       <use style=\"stroke:#000000;stroke-width:0.8;\" x=\"138.024398\" xlink:href=\"#m3c06aeb9a5\" y=\"228.14\"/>\r\n      </g>\r\n     </g>\r\n     <g id=\"text_3\">\r\n      <!-- 2005.0 -->\r\n      <g transform=\"translate(120.529086 242.738438)scale(0.1 -0.1)\">\r\n       <use xlink:href=\"#DejaVuSans-50\"/>\r\n       <use x=\"63.623047\" xlink:href=\"#DejaVuSans-48\"/>\r\n       <use x=\"127.246094\" xlink:href=\"#DejaVuSans-48\"/>\r\n       <use x=\"190.869141\" xlink:href=\"#DejaVuSans-53\"/>\r\n       <use x=\"254.492188\" xlink:href=\"#DejaVuSans-46\"/>\r\n       <use x=\"286.279297\" xlink:href=\"#DejaVuSans-48\"/>\r\n      </g>\r\n     </g>\r\n    </g>\r\n    <g id=\"xtick_4\">\r\n     <g id=\"line2d_4\">\r\n      <g>\r\n       <use style=\"stroke:#000000;stroke-width:0.8;\" x=\"182.783757\" xlink:href=\"#m3c06aeb9a5\" y=\"228.14\"/>\r\n      </g>\r\n     </g>\r\n     <g id=\"text_4\">\r\n      <!-- 2007.5 -->\r\n      <defs>\r\n       <path d=\"M 8.203125 72.90625 \r\nL 55.078125 72.90625 \r\nL 55.078125 68.703125 \r\nL 28.609375 0 \r\nL 18.3125 0 \r\nL 43.21875 64.59375 \r\nL 8.203125 64.59375 \r\nz\r\n\" id=\"DejaVuSans-55\"/>\r\n      </defs>\r\n      <g transform=\"translate(165.288444 242.738438)scale(0.1 -0.1)\">\r\n       <use xlink:href=\"#DejaVuSans-50\"/>\r\n       <use x=\"63.623047\" xlink:href=\"#DejaVuSans-48\"/>\r\n       <use x=\"127.246094\" xlink:href=\"#DejaVuSans-48\"/>\r\n       <use x=\"190.869141\" xlink:href=\"#DejaVuSans-55\"/>\r\n       <use x=\"254.492188\" xlink:href=\"#DejaVuSans-46\"/>\r\n       <use x=\"286.279297\" xlink:href=\"#DejaVuSans-53\"/>\r\n      </g>\r\n     </g>\r\n    </g>\r\n    <g id=\"xtick_5\">\r\n     <g id=\"line2d_5\">\r\n      <g>\r\n       <use style=\"stroke:#000000;stroke-width:0.8;\" x=\"227.543115\" xlink:href=\"#m3c06aeb9a5\" y=\"228.14\"/>\r\n      </g>\r\n     </g>\r\n     <g id=\"text_5\">\r\n      <!-- 2010.0 -->\r\n      <defs>\r\n       <path d=\"M 12.40625 8.296875 \r\nL 28.515625 8.296875 \r\nL 28.515625 63.921875 \r\nL 10.984375 60.40625 \r\nL 10.984375 69.390625 \r\nL 28.421875 72.90625 \r\nL 38.28125 72.90625 \r\nL 38.28125 8.296875 \r\nL 54.390625 8.296875 \r\nL 54.390625 0 \r\nL 12.40625 0 \r\nz\r\n\" id=\"DejaVuSans-49\"/>\r\n      </defs>\r\n      <g transform=\"translate(210.047802 242.738438)scale(0.1 -0.1)\">\r\n       <use xlink:href=\"#DejaVuSans-50\"/>\r\n       <use x=\"63.623047\" xlink:href=\"#DejaVuSans-48\"/>\r\n       <use x=\"127.246094\" xlink:href=\"#DejaVuSans-49\"/>\r\n       <use x=\"190.869141\" xlink:href=\"#DejaVuSans-48\"/>\r\n       <use x=\"254.492188\" xlink:href=\"#DejaVuSans-46\"/>\r\n       <use x=\"286.279297\" xlink:href=\"#DejaVuSans-48\"/>\r\n      </g>\r\n     </g>\r\n    </g>\r\n    <g id=\"xtick_6\">\r\n     <g id=\"line2d_6\">\r\n      <g>\r\n       <use style=\"stroke:#000000;stroke-width:0.8;\" x=\"272.302473\" xlink:href=\"#m3c06aeb9a5\" y=\"228.14\"/>\r\n      </g>\r\n     </g>\r\n     <g id=\"text_6\">\r\n      <!-- 2012.5 -->\r\n      <g transform=\"translate(254.807161 242.738438)scale(0.1 -0.1)\">\r\n       <use xlink:href=\"#DejaVuSans-50\"/>\r\n       <use x=\"63.623047\" xlink:href=\"#DejaVuSans-48\"/>\r\n       <use x=\"127.246094\" xlink:href=\"#DejaVuSans-49\"/>\r\n       <use x=\"190.869141\" xlink:href=\"#DejaVuSans-50\"/>\r\n       <use x=\"254.492188\" xlink:href=\"#DejaVuSans-46\"/>\r\n       <use x=\"286.279297\" xlink:href=\"#DejaVuSans-53\"/>\r\n      </g>\r\n     </g>\r\n    </g>\r\n    <g id=\"xtick_7\">\r\n     <g id=\"line2d_7\">\r\n      <g>\r\n       <use style=\"stroke:#000000;stroke-width:0.8;\" x=\"317.061832\" xlink:href=\"#m3c06aeb9a5\" y=\"228.14\"/>\r\n      </g>\r\n     </g>\r\n     <g id=\"text_7\">\r\n      <!-- 2015.0 -->\r\n      <g transform=\"translate(299.566519 242.738438)scale(0.1 -0.1)\">\r\n       <use xlink:href=\"#DejaVuSans-50\"/>\r\n       <use x=\"63.623047\" xlink:href=\"#DejaVuSans-48\"/>\r\n       <use x=\"127.246094\" xlink:href=\"#DejaVuSans-49\"/>\r\n       <use x=\"190.869141\" xlink:href=\"#DejaVuSans-53\"/>\r\n       <use x=\"254.492188\" xlink:href=\"#DejaVuSans-46\"/>\r\n       <use x=\"286.279297\" xlink:href=\"#DejaVuSans-48\"/>\r\n      </g>\r\n     </g>\r\n    </g>\r\n    <g id=\"xtick_8\">\r\n     <g id=\"line2d_8\">\r\n      <g>\r\n       <use style=\"stroke:#000000;stroke-width:0.8;\" x=\"361.82119\" xlink:href=\"#m3c06aeb9a5\" y=\"228.14\"/>\r\n      </g>\r\n     </g>\r\n     <g id=\"text_8\">\r\n      <!-- 2017.5 -->\r\n      <g transform=\"translate(344.325877 242.738438)scale(0.1 -0.1)\">\r\n       <use xlink:href=\"#DejaVuSans-50\"/>\r\n       <use x=\"63.623047\" xlink:href=\"#DejaVuSans-48\"/>\r\n       <use x=\"127.246094\" xlink:href=\"#DejaVuSans-49\"/>\r\n       <use x=\"190.869141\" xlink:href=\"#DejaVuSans-55\"/>\r\n       <use x=\"254.492188\" xlink:href=\"#DejaVuSans-46\"/>\r\n       <use x=\"286.279297\" xlink:href=\"#DejaVuSans-53\"/>\r\n      </g>\r\n     </g>\r\n    </g>\r\n    <g id=\"text_9\">\r\n     <!-- closing_year -->\r\n     <defs>\r\n      <path d=\"M 48.78125 52.59375 \r\nL 48.78125 44.1875 \r\nQ 44.96875 46.296875 41.140625 47.34375 \r\nQ 37.3125 48.390625 33.40625 48.390625 \r\nQ 24.65625 48.390625 19.8125 42.84375 \r\nQ 14.984375 37.3125 14.984375 27.296875 \r\nQ 14.984375 17.28125 19.8125 11.734375 \r\nQ 24.65625 6.203125 33.40625 6.203125 \r\nQ 37.3125 6.203125 41.140625 7.25 \r\nQ 44.96875 8.296875 48.78125 10.40625 \r\nL 48.78125 2.09375 \r\nQ 45.015625 0.34375 40.984375 -0.53125 \r\nQ 36.96875 -1.421875 32.421875 -1.421875 \r\nQ 20.0625 -1.421875 12.78125 6.34375 \r\nQ 5.515625 14.109375 5.515625 27.296875 \r\nQ 5.515625 40.671875 12.859375 48.328125 \r\nQ 20.21875 56 33.015625 56 \r\nQ 37.15625 56 41.109375 55.140625 \r\nQ 45.0625 54.296875 48.78125 52.59375 \r\nz\r\n\" id=\"DejaVuSans-99\"/>\r\n      <path d=\"M 9.421875 75.984375 \r\nL 18.40625 75.984375 \r\nL 18.40625 0 \r\nL 9.421875 0 \r\nz\r\n\" id=\"DejaVuSans-108\"/>\r\n      <path d=\"M 30.609375 48.390625 \r\nQ 23.390625 48.390625 19.1875 42.75 \r\nQ 14.984375 37.109375 14.984375 27.296875 \r\nQ 14.984375 17.484375 19.15625 11.84375 \r\nQ 23.34375 6.203125 30.609375 6.203125 \r\nQ 37.796875 6.203125 41.984375 11.859375 \r\nQ 46.1875 17.53125 46.1875 27.296875 \r\nQ 46.1875 37.015625 41.984375 42.703125 \r\nQ 37.796875 48.390625 30.609375 48.390625 \r\nz\r\nM 30.609375 56 \r\nQ 42.328125 56 49.015625 48.375 \r\nQ 55.71875 40.765625 55.71875 27.296875 \r\nQ 55.71875 13.875 49.015625 6.21875 \r\nQ 42.328125 -1.421875 30.609375 -1.421875 \r\nQ 18.84375 -1.421875 12.171875 6.21875 \r\nQ 5.515625 13.875 5.515625 27.296875 \r\nQ 5.515625 40.765625 12.171875 48.375 \r\nQ 18.84375 56 30.609375 56 \r\nz\r\n\" id=\"DejaVuSans-111\"/>\r\n      <path d=\"M 44.28125 53.078125 \r\nL 44.28125 44.578125 \r\nQ 40.484375 46.53125 36.375 47.5 \r\nQ 32.28125 48.484375 27.875 48.484375 \r\nQ 21.1875 48.484375 17.84375 46.4375 \r\nQ 14.5 44.390625 14.5 40.28125 \r\nQ 14.5 37.15625 16.890625 35.375 \r\nQ 19.28125 33.59375 26.515625 31.984375 \r\nL 29.59375 31.296875 \r\nQ 39.15625 29.25 43.1875 25.515625 \r\nQ 47.21875 21.78125 47.21875 15.09375 \r\nQ 47.21875 7.46875 41.1875 3.015625 \r\nQ 35.15625 -1.421875 24.609375 -1.421875 \r\nQ 20.21875 -1.421875 15.453125 -0.5625 \r\nQ 10.6875 0.296875 5.421875 2 \r\nL 5.421875 11.28125 \r\nQ 10.40625 8.6875 15.234375 7.390625 \r\nQ 20.0625 6.109375 24.8125 6.109375 \r\nQ 31.15625 6.109375 34.5625 8.28125 \r\nQ 37.984375 10.453125 37.984375 14.40625 \r\nQ 37.984375 18.0625 35.515625 20.015625 \r\nQ 33.0625 21.96875 24.703125 23.78125 \r\nL 21.578125 24.515625 \r\nQ 13.234375 26.265625 9.515625 29.90625 \r\nQ 5.8125 33.546875 5.8125 39.890625 \r\nQ 5.8125 47.609375 11.28125 51.796875 \r\nQ 16.75 56 26.8125 56 \r\nQ 31.78125 56 36.171875 55.265625 \r\nQ 40.578125 54.546875 44.28125 53.078125 \r\nz\r\n\" id=\"DejaVuSans-115\"/>\r\n      <path d=\"M 9.421875 54.6875 \r\nL 18.40625 54.6875 \r\nL 18.40625 0 \r\nL 9.421875 0 \r\nz\r\nM 9.421875 75.984375 \r\nL 18.40625 75.984375 \r\nL 18.40625 64.59375 \r\nL 9.421875 64.59375 \r\nz\r\n\" id=\"DejaVuSans-105\"/>\r\n      <path d=\"M 54.890625 33.015625 \r\nL 54.890625 0 \r\nL 45.90625 0 \r\nL 45.90625 32.71875 \r\nQ 45.90625 40.484375 42.875 44.328125 \r\nQ 39.84375 48.1875 33.796875 48.1875 \r\nQ 26.515625 48.1875 22.3125 43.546875 \r\nQ 18.109375 38.921875 18.109375 30.90625 \r\nL 18.109375 0 \r\nL 9.078125 0 \r\nL 9.078125 54.6875 \r\nL 18.109375 54.6875 \r\nL 18.109375 46.1875 \r\nQ 21.34375 51.125 25.703125 53.5625 \r\nQ 30.078125 56 35.796875 56 \r\nQ 45.21875 56 50.046875 50.171875 \r\nQ 54.890625 44.34375 54.890625 33.015625 \r\nz\r\n\" id=\"DejaVuSans-110\"/>\r\n      <path d=\"M 45.40625 27.984375 \r\nQ 45.40625 37.75 41.375 43.109375 \r\nQ 37.359375 48.484375 30.078125 48.484375 \r\nQ 22.859375 48.484375 18.828125 43.109375 \r\nQ 14.796875 37.75 14.796875 27.984375 \r\nQ 14.796875 18.265625 18.828125 12.890625 \r\nQ 22.859375 7.515625 30.078125 7.515625 \r\nQ 37.359375 7.515625 41.375 12.890625 \r\nQ 45.40625 18.265625 45.40625 27.984375 \r\nz\r\nM 54.390625 6.78125 \r\nQ 54.390625 -7.171875 48.1875 -13.984375 \r\nQ 42 -20.796875 29.203125 -20.796875 \r\nQ 24.46875 -20.796875 20.265625 -20.09375 \r\nQ 16.0625 -19.390625 12.109375 -17.921875 \r\nL 12.109375 -9.1875 \r\nQ 16.0625 -11.328125 19.921875 -12.34375 \r\nQ 23.78125 -13.375 27.78125 -13.375 \r\nQ 36.625 -13.375 41.015625 -8.765625 \r\nQ 45.40625 -4.15625 45.40625 5.171875 \r\nL 45.40625 9.625 \r\nQ 42.625 4.78125 38.28125 2.390625 \r\nQ 33.9375 0 27.875 0 \r\nQ 17.828125 0 11.671875 7.65625 \r\nQ 5.515625 15.328125 5.515625 27.984375 \r\nQ 5.515625 40.671875 11.671875 48.328125 \r\nQ 17.828125 56 27.875 56 \r\nQ 33.9375 56 38.28125 53.609375 \r\nQ 42.625 51.21875 45.40625 46.390625 \r\nL 45.40625 54.6875 \r\nL 54.390625 54.6875 \r\nz\r\n\" id=\"DejaVuSans-103\"/>\r\n      <path d=\"M 50.984375 -16.609375 \r\nL 50.984375 -23.578125 \r\nL -0.984375 -23.578125 \r\nL -0.984375 -16.609375 \r\nz\r\n\" id=\"DejaVuSans-95\"/>\r\n      <path d=\"M 32.171875 -5.078125 \r\nQ 28.375 -14.84375 24.75 -17.8125 \r\nQ 21.140625 -20.796875 15.09375 -20.796875 \r\nL 7.90625 -20.796875 \r\nL 7.90625 -13.28125 \r\nL 13.1875 -13.28125 \r\nQ 16.890625 -13.28125 18.9375 -11.515625 \r\nQ 21 -9.765625 23.484375 -3.21875 \r\nL 25.09375 0.875 \r\nL 2.984375 54.6875 \r\nL 12.5 54.6875 \r\nL 29.59375 11.921875 \r\nL 46.6875 54.6875 \r\nL 56.203125 54.6875 \r\nz\r\n\" id=\"DejaVuSans-121\"/>\r\n      <path d=\"M 56.203125 29.59375 \r\nL 56.203125 25.203125 \r\nL 14.890625 25.203125 \r\nQ 15.484375 15.921875 20.484375 11.0625 \r\nQ 25.484375 6.203125 34.421875 6.203125 \r\nQ 39.59375 6.203125 44.453125 7.46875 \r\nQ 49.3125 8.734375 54.109375 11.28125 \r\nL 54.109375 2.78125 \r\nQ 49.265625 0.734375 44.1875 -0.34375 \r\nQ 39.109375 -1.421875 33.890625 -1.421875 \r\nQ 20.796875 -1.421875 13.15625 6.1875 \r\nQ 5.515625 13.8125 5.515625 26.8125 \r\nQ 5.515625 40.234375 12.765625 48.109375 \r\nQ 20.015625 56 32.328125 56 \r\nQ 43.359375 56 49.78125 48.890625 \r\nQ 56.203125 41.796875 56.203125 29.59375 \r\nz\r\nM 47.21875 32.234375 \r\nQ 47.125 39.59375 43.09375 43.984375 \r\nQ 39.0625 48.390625 32.421875 48.390625 \r\nQ 24.90625 48.390625 20.390625 44.140625 \r\nQ 15.875 39.890625 15.1875 32.171875 \r\nz\r\n\" id=\"DejaVuSans-101\"/>\r\n      <path d=\"M 34.28125 27.484375 \r\nQ 23.390625 27.484375 19.1875 25 \r\nQ 14.984375 22.515625 14.984375 16.5 \r\nQ 14.984375 11.71875 18.140625 8.90625 \r\nQ 21.296875 6.109375 26.703125 6.109375 \r\nQ 34.1875 6.109375 38.703125 11.40625 \r\nQ 43.21875 16.703125 43.21875 25.484375 \r\nL 43.21875 27.484375 \r\nz\r\nM 52.203125 31.203125 \r\nL 52.203125 0 \r\nL 43.21875 0 \r\nL 43.21875 8.296875 \r\nQ 40.140625 3.328125 35.546875 0.953125 \r\nQ 30.953125 -1.421875 24.3125 -1.421875 \r\nQ 15.921875 -1.421875 10.953125 3.296875 \r\nQ 6 8.015625 6 15.921875 \r\nQ 6 25.140625 12.171875 29.828125 \r\nQ 18.359375 34.515625 30.609375 34.515625 \r\nL 43.21875 34.515625 \r\nL 43.21875 35.40625 \r\nQ 43.21875 41.609375 39.140625 45 \r\nQ 35.0625 48.390625 27.6875 48.390625 \r\nQ 23 48.390625 18.546875 47.265625 \r\nQ 14.109375 46.140625 10.015625 43.890625 \r\nL 10.015625 52.203125 \r\nQ 14.9375 54.109375 19.578125 55.046875 \r\nQ 24.21875 56 28.609375 56 \r\nQ 40.484375 56 46.34375 49.84375 \r\nQ 52.203125 43.703125 52.203125 31.203125 \r\nz\r\n\" id=\"DejaVuSans-97\"/>\r\n      <path d=\"M 41.109375 46.296875 \r\nQ 39.59375 47.171875 37.8125 47.578125 \r\nQ 36.03125 48 33.890625 48 \r\nQ 26.265625 48 22.1875 43.046875 \r\nQ 18.109375 38.09375 18.109375 28.8125 \r\nL 18.109375 0 \r\nL 9.078125 0 \r\nL 9.078125 54.6875 \r\nL 18.109375 54.6875 \r\nL 18.109375 46.1875 \r\nQ 20.953125 51.171875 25.484375 53.578125 \r\nQ 30.03125 56 36.53125 56 \r\nQ 37.453125 56 38.578125 55.875 \r\nQ 39.703125 55.765625 41.0625 55.515625 \r\nz\r\n\" id=\"DejaVuSans-114\"/>\r\n     </defs>\r\n     <g transform=\"translate(169.497656 256.416562)scale(0.1 -0.1)\">\r\n      <use xlink:href=\"#DejaVuSans-99\"/>\r\n      <use x=\"54.980469\" xlink:href=\"#DejaVuSans-108\"/>\r\n      <use x=\"82.763672\" xlink:href=\"#DejaVuSans-111\"/>\r\n      <use x=\"143.945312\" xlink:href=\"#DejaVuSans-115\"/>\r\n      <use x=\"196.044922\" xlink:href=\"#DejaVuSans-105\"/>\r\n      <use x=\"223.828125\" xlink:href=\"#DejaVuSans-110\"/>\r\n      <use x=\"287.207031\" xlink:href=\"#DejaVuSans-103\"/>\r\n      <use x=\"350.683594\" xlink:href=\"#DejaVuSans-95\"/>\r\n      <use x=\"400.683594\" xlink:href=\"#DejaVuSans-121\"/>\r\n      <use x=\"459.863281\" xlink:href=\"#DejaVuSans-101\"/>\r\n      <use x=\"521.386719\" xlink:href=\"#DejaVuSans-97\"/>\r\n      <use x=\"582.666016\" xlink:href=\"#DejaVuSans-114\"/>\r\n     </g>\r\n    </g>\r\n   </g>\r\n   <g id=\"matplotlib.axis_2\">\r\n    <g id=\"ytick_1\">\r\n     <g id=\"line2d_9\">\r\n      <defs>\r\n       <path d=\"M 0 0 \r\nL -3.5 0 \r\n\" id=\"m9b18608bea\" style=\"stroke:#000000;stroke-width:0.8;\"/>\r\n      </defs>\r\n      <g>\r\n       <use style=\"stroke:#000000;stroke-width:0.8;\" x=\"33.2875\" xlink:href=\"#m9b18608bea\" y=\"220.806979\"/>\r\n      </g>\r\n     </g>\r\n     <g id=\"text_10\">\r\n      <!-- 0 -->\r\n      <g transform=\"translate(19.925 224.606198)scale(0.1 -0.1)\">\r\n       <use xlink:href=\"#DejaVuSans-48\"/>\r\n      </g>\r\n     </g>\r\n    </g>\r\n    <g id=\"ytick_2\">\r\n     <g id=\"line2d_10\">\r\n      <g>\r\n       <use style=\"stroke:#000000;stroke-width:0.8;\" x=\"33.2875\" xlink:href=\"#m9b18608bea\" y=\"195.300821\"/>\r\n      </g>\r\n     </g>\r\n     <g id=\"text_11\">\r\n      <!-- 20 -->\r\n      <g transform=\"translate(13.5625 199.10004)scale(0.1 -0.1)\">\r\n       <use xlink:href=\"#DejaVuSans-50\"/>\r\n       <use x=\"63.623047\" xlink:href=\"#DejaVuSans-48\"/>\r\n      </g>\r\n     </g>\r\n    </g>\r\n    <g id=\"ytick_3\">\r\n     <g id=\"line2d_11\">\r\n      <g>\r\n       <use style=\"stroke:#000000;stroke-width:0.8;\" x=\"33.2875\" xlink:href=\"#m9b18608bea\" y=\"169.794663\"/>\r\n      </g>\r\n     </g>\r\n     <g id=\"text_12\">\r\n      <!-- 40 -->\r\n      <defs>\r\n       <path d=\"M 37.796875 64.3125 \r\nL 12.890625 25.390625 \r\nL 37.796875 25.390625 \r\nz\r\nM 35.203125 72.90625 \r\nL 47.609375 72.90625 \r\nL 47.609375 25.390625 \r\nL 58.015625 25.390625 \r\nL 58.015625 17.1875 \r\nL 47.609375 17.1875 \r\nL 47.609375 0 \r\nL 37.796875 0 \r\nL 37.796875 17.1875 \r\nL 4.890625 17.1875 \r\nL 4.890625 26.703125 \r\nz\r\n\" id=\"DejaVuSans-52\"/>\r\n      </defs>\r\n      <g transform=\"translate(13.5625 173.593882)scale(0.1 -0.1)\">\r\n       <use xlink:href=\"#DejaVuSans-52\"/>\r\n       <use x=\"63.623047\" xlink:href=\"#DejaVuSans-48\"/>\r\n      </g>\r\n     </g>\r\n    </g>\r\n    <g id=\"ytick_4\">\r\n     <g id=\"line2d_12\">\r\n      <g>\r\n       <use style=\"stroke:#000000;stroke-width:0.8;\" x=\"33.2875\" xlink:href=\"#m9b18608bea\" y=\"144.288504\"/>\r\n      </g>\r\n     </g>\r\n     <g id=\"text_13\">\r\n      <!-- 60 -->\r\n      <defs>\r\n       <path d=\"M 33.015625 40.375 \r\nQ 26.375 40.375 22.484375 35.828125 \r\nQ 18.609375 31.296875 18.609375 23.390625 \r\nQ 18.609375 15.53125 22.484375 10.953125 \r\nQ 26.375 6.390625 33.015625 6.390625 \r\nQ 39.65625 6.390625 43.53125 10.953125 \r\nQ 47.40625 15.53125 47.40625 23.390625 \r\nQ 47.40625 31.296875 43.53125 35.828125 \r\nQ 39.65625 40.375 33.015625 40.375 \r\nz\r\nM 52.59375 71.296875 \r\nL 52.59375 62.3125 \r\nQ 48.875 64.0625 45.09375 64.984375 \r\nQ 41.3125 65.921875 37.59375 65.921875 \r\nQ 27.828125 65.921875 22.671875 59.328125 \r\nQ 17.53125 52.734375 16.796875 39.40625 \r\nQ 19.671875 43.65625 24.015625 45.921875 \r\nQ 28.375 48.1875 33.59375 48.1875 \r\nQ 44.578125 48.1875 50.953125 41.515625 \r\nQ 57.328125 34.859375 57.328125 23.390625 \r\nQ 57.328125 12.15625 50.6875 5.359375 \r\nQ 44.046875 -1.421875 33.015625 -1.421875 \r\nQ 20.359375 -1.421875 13.671875 8.265625 \r\nQ 6.984375 17.96875 6.984375 36.375 \r\nQ 6.984375 53.65625 15.1875 63.9375 \r\nQ 23.390625 74.21875 37.203125 74.21875 \r\nQ 40.921875 74.21875 44.703125 73.484375 \r\nQ 48.484375 72.75 52.59375 71.296875 \r\nz\r\n\" id=\"DejaVuSans-54\"/>\r\n      </defs>\r\n      <g transform=\"translate(13.5625 148.087723)scale(0.1 -0.1)\">\r\n       <use xlink:href=\"#DejaVuSans-54\"/>\r\n       <use x=\"63.623047\" xlink:href=\"#DejaVuSans-48\"/>\r\n      </g>\r\n     </g>\r\n    </g>\r\n    <g id=\"ytick_5\">\r\n     <g id=\"line2d_13\">\r\n      <g>\r\n       <use style=\"stroke:#000000;stroke-width:0.8;\" x=\"33.2875\" xlink:href=\"#m9b18608bea\" y=\"118.782346\"/>\r\n      </g>\r\n     </g>\r\n     <g id=\"text_14\">\r\n      <!-- 80 -->\r\n      <defs>\r\n       <path d=\"M 31.78125 34.625 \r\nQ 24.75 34.625 20.71875 30.859375 \r\nQ 16.703125 27.09375 16.703125 20.515625 \r\nQ 16.703125 13.921875 20.71875 10.15625 \r\nQ 24.75 6.390625 31.78125 6.390625 \r\nQ 38.8125 6.390625 42.859375 10.171875 \r\nQ 46.921875 13.96875 46.921875 20.515625 \r\nQ 46.921875 27.09375 42.890625 30.859375 \r\nQ 38.875 34.625 31.78125 34.625 \r\nz\r\nM 21.921875 38.8125 \r\nQ 15.578125 40.375 12.03125 44.71875 \r\nQ 8.5 49.078125 8.5 55.328125 \r\nQ 8.5 64.0625 14.71875 69.140625 \r\nQ 20.953125 74.21875 31.78125 74.21875 \r\nQ 42.671875 74.21875 48.875 69.140625 \r\nQ 55.078125 64.0625 55.078125 55.328125 \r\nQ 55.078125 49.078125 51.53125 44.71875 \r\nQ 48 40.375 41.703125 38.8125 \r\nQ 48.828125 37.15625 52.796875 32.3125 \r\nQ 56.78125 27.484375 56.78125 20.515625 \r\nQ 56.78125 9.90625 50.3125 4.234375 \r\nQ 43.84375 -1.421875 31.78125 -1.421875 \r\nQ 19.734375 -1.421875 13.25 4.234375 \r\nQ 6.78125 9.90625 6.78125 20.515625 \r\nQ 6.78125 27.484375 10.78125 32.3125 \r\nQ 14.796875 37.15625 21.921875 38.8125 \r\nz\r\nM 18.3125 54.390625 \r\nQ 18.3125 48.734375 21.84375 45.5625 \r\nQ 25.390625 42.390625 31.78125 42.390625 \r\nQ 38.140625 42.390625 41.71875 45.5625 \r\nQ 45.3125 48.734375 45.3125 54.390625 \r\nQ 45.3125 60.0625 41.71875 63.234375 \r\nQ 38.140625 66.40625 31.78125 66.40625 \r\nQ 25.390625 66.40625 21.84375 63.234375 \r\nQ 18.3125 60.0625 18.3125 54.390625 \r\nz\r\n\" id=\"DejaVuSans-56\"/>\r\n      </defs>\r\n      <g transform=\"translate(13.5625 122.581565)scale(0.1 -0.1)\">\r\n       <use xlink:href=\"#DejaVuSans-56\"/>\r\n       <use x=\"63.623047\" xlink:href=\"#DejaVuSans-48\"/>\r\n      </g>\r\n     </g>\r\n    </g>\r\n    <g id=\"ytick_6\">\r\n     <g id=\"line2d_14\">\r\n      <g>\r\n       <use style=\"stroke:#000000;stroke-width:0.8;\" x=\"33.2875\" xlink:href=\"#m9b18608bea\" y=\"93.276188\"/>\r\n      </g>\r\n     </g>\r\n     <g id=\"text_15\">\r\n      <!-- 100 -->\r\n      <g transform=\"translate(7.2 97.075406)scale(0.1 -0.1)\">\r\n       <use xlink:href=\"#DejaVuSans-49\"/>\r\n       <use x=\"63.623047\" xlink:href=\"#DejaVuSans-48\"/>\r\n       <use x=\"127.246094\" xlink:href=\"#DejaVuSans-48\"/>\r\n      </g>\r\n     </g>\r\n    </g>\r\n    <g id=\"ytick_7\">\r\n     <g id=\"line2d_15\">\r\n      <g>\r\n       <use style=\"stroke:#000000;stroke-width:0.8;\" x=\"33.2875\" xlink:href=\"#m9b18608bea\" y=\"67.770029\"/>\r\n      </g>\r\n     </g>\r\n     <g id=\"text_16\">\r\n      <!-- 120 -->\r\n      <g transform=\"translate(7.2 71.569248)scale(0.1 -0.1)\">\r\n       <use xlink:href=\"#DejaVuSans-49\"/>\r\n       <use x=\"63.623047\" xlink:href=\"#DejaVuSans-50\"/>\r\n       <use x=\"127.246094\" xlink:href=\"#DejaVuSans-48\"/>\r\n      </g>\r\n     </g>\r\n    </g>\r\n    <g id=\"ytick_8\">\r\n     <g id=\"line2d_16\">\r\n      <g>\r\n       <use style=\"stroke:#000000;stroke-width:0.8;\" x=\"33.2875\" xlink:href=\"#m9b18608bea\" y=\"42.263871\"/>\r\n      </g>\r\n     </g>\r\n     <g id=\"text_17\">\r\n      <!-- 140 -->\r\n      <g transform=\"translate(7.2 46.06309)scale(0.1 -0.1)\">\r\n       <use xlink:href=\"#DejaVuSans-49\"/>\r\n       <use x=\"63.623047\" xlink:href=\"#DejaVuSans-52\"/>\r\n       <use x=\"127.246094\" xlink:href=\"#DejaVuSans-48\"/>\r\n      </g>\r\n     </g>\r\n    </g>\r\n    <g id=\"ytick_9\">\r\n     <g id=\"line2d_17\">\r\n      <g>\r\n       <use style=\"stroke:#000000;stroke-width:0.8;\" x=\"33.2875\" xlink:href=\"#m9b18608bea\" y=\"16.757713\"/>\r\n      </g>\r\n     </g>\r\n     <g id=\"text_18\">\r\n      <!-- 160 -->\r\n      <g transform=\"translate(7.2 20.556931)scale(0.1 -0.1)\">\r\n       <use xlink:href=\"#DejaVuSans-49\"/>\r\n       <use x=\"63.623047\" xlink:href=\"#DejaVuSans-54\"/>\r\n       <use x=\"127.246094\" xlink:href=\"#DejaVuSans-48\"/>\r\n      </g>\r\n     </g>\r\n    </g>\r\n   </g>\r\n   <g id=\"line2d_18\">\r\n    <path clip-path=\"url(#pc602828f7e)\" d=\"M 48.505682 218.256364 \r\nL 66.409425 215.705748 \r\nL 84.313168 206.778592 \r\nL 102.216912 216.981056 \r\nL 120.120655 215.705748 \r\nL 173.831885 216.981056 \r\nL 191.735628 188.924282 \r\nL 209.639372 42.263871 \r\nL 227.543115 20.583636 \r\nL 245.446858 103.478651 \r\nL 263.350602 155.766276 \r\nL 281.254345 190.199589 \r\nL 299.158088 197.851437 \r\nL 317.061832 210.604516 \r\nL 334.965575 214.43044 \r\nL 352.869318 210.604516 \r\n\" style=\"fill:none;stroke:#1f77b4;stroke-linecap:square;stroke-width:1.5;\"/>\r\n   </g>\r\n   <g id=\"patch_3\">\r\n    <path d=\"M 33.2875 228.14 \r\nL 33.2875 10.7 \r\n\" style=\"fill:none;stroke:#000000;stroke-linecap:square;stroke-linejoin:miter;stroke-width:0.8;\"/>\r\n   </g>\r\n   <g id=\"patch_4\">\r\n    <path d=\"M 368.0875 228.14 \r\nL 368.0875 10.7 \r\n\" style=\"fill:none;stroke:#000000;stroke-linecap:square;stroke-linejoin:miter;stroke-width:0.8;\"/>\r\n   </g>\r\n   <g id=\"patch_5\">\r\n    <path d=\"M 33.2875 228.14 \r\nL 368.0875 228.14 \r\n\" style=\"fill:none;stroke:#000000;stroke-linecap:square;stroke-linejoin:miter;stroke-width:0.8;\"/>\r\n   </g>\r\n   <g id=\"patch_6\">\r\n    <path d=\"M 33.2875 10.7 \r\nL 368.0875 10.7 \r\n\" style=\"fill:none;stroke:#000000;stroke-linecap:square;stroke-linejoin:miter;stroke-width:0.8;\"/>\r\n   </g>\r\n  </g>\r\n </g>\r\n <defs>\r\n  <clipPath id=\"pc602828f7e\">\r\n   <rect height=\"217.44\" width=\"334.8\" x=\"33.2875\" y=\"10.7\"/>\r\n  </clipPath>\r\n </defs>\r\n</svg>\r\n",
      "image/png": "[encoded data removed]"
     },
     "metadata": {
      "needs_background": "light"
     }
    },
    {
     "output_type": "display_data",
     "data": {
      "text/plain": "<Figure size 432x288 with 1 Axes>",
      "image/svg+xml": "<?xml version=\"1.0\" encoding=\"utf-8\" standalone=\"no\"?>\r\n<!DOCTYPE svg PUBLIC \"-//W3C//DTD SVG 1.1//EN\"\r\n  \"http://www.w3.org/Graphics/SVG/1.1/DTD/svg11.dtd\">\r\n<!-- Created with matplotlib (https://matplotlib.org/) -->\r\n<svg height=\"256.29625pt\" version=\"1.1\" viewBox=\"0 0 372.425 256.29625\" width=\"372.425pt\" xmlns=\"http://www.w3.org/2000/svg\" xmlns:xlink=\"http://www.w3.org/1999/xlink\">\r\n <defs>\r\n  <style type=\"text/css\">\r\n*{stroke-linecap:butt;stroke-linejoin:round;}\r\n  </style>\r\n </defs>\r\n <g id=\"figure_1\">\r\n  <g id=\"patch_1\">\r\n   <path d=\"M -0 256.29625 \r\nL 372.425 256.29625 \r\nL 372.425 0 \r\nL -0 0 \r\nz\r\n\" style=\"fill:none;\"/>\r\n  </g>\r\n  <g id=\"axes_1\">\r\n   <g id=\"patch_2\">\r\n    <path d=\"M 26.925 228.14 \r\nL 361.725 228.14 \r\nL 361.725 10.7 \r\nL 26.925 10.7 \r\nz\r\n\" style=\"fill:#ffffff;\"/>\r\n   </g>\r\n   <g id=\"matplotlib.axis_1\">\r\n    <g id=\"xtick_1\">\r\n     <g id=\"line2d_1\">\r\n      <defs>\r\n       <path d=\"M 0 0 \r\nL 0 3.5 \r\n\" id=\"m8ea613b71f\" style=\"stroke:#000000;stroke-width:0.8;\"/>\r\n      </defs>\r\n      <g>\r\n       <use style=\"stroke:#000000;stroke-width:0.8;\" x=\"42.143182\" xlink:href=\"#m8ea613b71f\" y=\"228.14\"/>\r\n      </g>\r\n     </g>\r\n    </g>\r\n    <g id=\"xtick_2\">\r\n     <g id=\"line2d_2\">\r\n      <g>\r\n       <use style=\"stroke:#000000;stroke-width:0.8;\" x=\"99.570283\" xlink:href=\"#m8ea613b71f\" y=\"228.14\"/>\r\n      </g>\r\n     </g>\r\n    </g>\r\n    <g id=\"xtick_3\">\r\n     <g id=\"line2d_3\">\r\n      <g>\r\n       <use style=\"stroke:#000000;stroke-width:0.8;\" x=\"156.997384\" xlink:href=\"#m8ea613b71f\" y=\"228.14\"/>\r\n      </g>\r\n     </g>\r\n    </g>\r\n    <g id=\"xtick_4\">\r\n     <g id=\"line2d_4\">\r\n      <g>\r\n       <use style=\"stroke:#000000;stroke-width:0.8;\" x=\"214.424485\" xlink:href=\"#m8ea613b71f\" y=\"228.14\"/>\r\n      </g>\r\n     </g>\r\n    </g>\r\n    <g id=\"xtick_5\">\r\n     <g id=\"line2d_5\">\r\n      <g>\r\n       <use style=\"stroke:#000000;stroke-width:0.8;\" x=\"271.851587\" xlink:href=\"#m8ea613b71f\" y=\"228.14\"/>\r\n      </g>\r\n     </g>\r\n    </g>\r\n    <g id=\"xtick_6\">\r\n     <g id=\"line2d_6\">\r\n      <g>\r\n       <use style=\"stroke:#000000;stroke-width:0.8;\" x=\"329.278688\" xlink:href=\"#m8ea613b71f\" y=\"228.14\"/>\r\n      </g>\r\n     </g>\r\n    </g>\r\n    <g id=\"text_1\">\r\n     <!-- closing_year,closing_quarter -->\r\n     <defs>\r\n      <path d=\"M 48.78125 52.59375 \r\nL 48.78125 44.1875 \r\nQ 44.96875 46.296875 41.140625 47.34375 \r\nQ 37.3125 48.390625 33.40625 48.390625 \r\nQ 24.65625 48.390625 19.8125 42.84375 \r\nQ 14.984375 37.3125 14.984375 27.296875 \r\nQ 14.984375 17.28125 19.8125 11.734375 \r\nQ 24.65625 6.203125 33.40625 6.203125 \r\nQ 37.3125 6.203125 41.140625 7.25 \r\nQ 44.96875 8.296875 48.78125 10.40625 \r\nL 48.78125 2.09375 \r\nQ 45.015625 0.34375 40.984375 -0.53125 \r\nQ 36.96875 -1.421875 32.421875 -1.421875 \r\nQ 20.0625 -1.421875 12.78125 6.34375 \r\nQ 5.515625 14.109375 5.515625 27.296875 \r\nQ 5.515625 40.671875 12.859375 48.328125 \r\nQ 20.21875 56 33.015625 56 \r\nQ 37.15625 56 41.109375 55.140625 \r\nQ 45.0625 54.296875 48.78125 52.59375 \r\nz\r\n\" id=\"DejaVuSans-99\"/>\r\n      <path d=\"M 9.421875 75.984375 \r\nL 18.40625 75.984375 \r\nL 18.40625 0 \r\nL 9.421875 0 \r\nz\r\n\" id=\"DejaVuSans-108\"/>\r\n      <path d=\"M 30.609375 48.390625 \r\nQ 23.390625 48.390625 19.1875 42.75 \r\nQ 14.984375 37.109375 14.984375 27.296875 \r\nQ 14.984375 17.484375 19.15625 11.84375 \r\nQ 23.34375 6.203125 30.609375 6.203125 \r\nQ 37.796875 6.203125 41.984375 11.859375 \r\nQ 46.1875 17.53125 46.1875 27.296875 \r\nQ 46.1875 37.015625 41.984375 42.703125 \r\nQ 37.796875 48.390625 30.609375 48.390625 \r\nz\r\nM 30.609375 56 \r\nQ 42.328125 56 49.015625 48.375 \r\nQ 55.71875 40.765625 55.71875 27.296875 \r\nQ 55.71875 13.875 49.015625 6.21875 \r\nQ 42.328125 -1.421875 30.609375 -1.421875 \r\nQ 18.84375 -1.421875 12.171875 6.21875 \r\nQ 5.515625 13.875 5.515625 27.296875 \r\nQ 5.515625 40.765625 12.171875 48.375 \r\nQ 18.84375 56 30.609375 56 \r\nz\r\n\" id=\"DejaVuSans-111\"/>\r\n      <path d=\"M 44.28125 53.078125 \r\nL 44.28125 44.578125 \r\nQ 40.484375 46.53125 36.375 47.5 \r\nQ 32.28125 48.484375 27.875 48.484375 \r\nQ 21.1875 48.484375 17.84375 46.4375 \r\nQ 14.5 44.390625 14.5 40.28125 \r\nQ 14.5 37.15625 16.890625 35.375 \r\nQ 19.28125 33.59375 26.515625 31.984375 \r\nL 29.59375 31.296875 \r\nQ 39.15625 29.25 43.1875 25.515625 \r\nQ 47.21875 21.78125 47.21875 15.09375 \r\nQ 47.21875 7.46875 41.1875 3.015625 \r\nQ 35.15625 -1.421875 24.609375 -1.421875 \r\nQ 20.21875 -1.421875 15.453125 -0.5625 \r\nQ 10.6875 0.296875 5.421875 2 \r\nL 5.421875 11.28125 \r\nQ 10.40625 8.6875 15.234375 7.390625 \r\nQ 20.0625 6.109375 24.8125 6.109375 \r\nQ 31.15625 6.109375 34.5625 8.28125 \r\nQ 37.984375 10.453125 37.984375 14.40625 \r\nQ 37.984375 18.0625 35.515625 20.015625 \r\nQ 33.0625 21.96875 24.703125 23.78125 \r\nL 21.578125 24.515625 \r\nQ 13.234375 26.265625 9.515625 29.90625 \r\nQ 5.8125 33.546875 5.8125 39.890625 \r\nQ 5.8125 47.609375 11.28125 51.796875 \r\nQ 16.75 56 26.8125 56 \r\nQ 31.78125 56 36.171875 55.265625 \r\nQ 40.578125 54.546875 44.28125 53.078125 \r\nz\r\n\" id=\"DejaVuSans-115\"/>\r\n      <path d=\"M 9.421875 54.6875 \r\nL 18.40625 54.6875 \r\nL 18.40625 0 \r\nL 9.421875 0 \r\nz\r\nM 9.421875 75.984375 \r\nL 18.40625 75.984375 \r\nL 18.40625 64.59375 \r\nL 9.421875 64.59375 \r\nz\r\n\" id=\"DejaVuSans-105\"/>\r\n      <path d=\"M 54.890625 33.015625 \r\nL 54.890625 0 \r\nL 45.90625 0 \r\nL 45.90625 32.71875 \r\nQ 45.90625 40.484375 42.875 44.328125 \r\nQ 39.84375 48.1875 33.796875 48.1875 \r\nQ 26.515625 48.1875 22.3125 43.546875 \r\nQ 18.109375 38.921875 18.109375 30.90625 \r\nL 18.109375 0 \r\nL 9.078125 0 \r\nL 9.078125 54.6875 \r\nL 18.109375 54.6875 \r\nL 18.109375 46.1875 \r\nQ 21.34375 51.125 25.703125 53.5625 \r\nQ 30.078125 56 35.796875 56 \r\nQ 45.21875 56 50.046875 50.171875 \r\nQ 54.890625 44.34375 54.890625 33.015625 \r\nz\r\n\" id=\"DejaVuSans-110\"/>\r\n      <path d=\"M 45.40625 27.984375 \r\nQ 45.40625 37.75 41.375 43.109375 \r\nQ 37.359375 48.484375 30.078125 48.484375 \r\nQ 22.859375 48.484375 18.828125 43.109375 \r\nQ 14.796875 37.75 14.796875 27.984375 \r\nQ 14.796875 18.265625 18.828125 12.890625 \r\nQ 22.859375 7.515625 30.078125 7.515625 \r\nQ 37.359375 7.515625 41.375 12.890625 \r\nQ 45.40625 18.265625 45.40625 27.984375 \r\nz\r\nM 54.390625 6.78125 \r\nQ 54.390625 -7.171875 48.1875 -13.984375 \r\nQ 42 -20.796875 29.203125 -20.796875 \r\nQ 24.46875 -20.796875 20.265625 -20.09375 \r\nQ 16.0625 -19.390625 12.109375 -17.921875 \r\nL 12.109375 -9.1875 \r\nQ 16.0625 -11.328125 19.921875 -12.34375 \r\nQ 23.78125 -13.375 27.78125 -13.375 \r\nQ 36.625 -13.375 41.015625 -8.765625 \r\nQ 45.40625 -4.15625 45.40625 5.171875 \r\nL 45.40625 9.625 \r\nQ 42.625 4.78125 38.28125 2.390625 \r\nQ 33.9375 0 27.875 0 \r\nQ 17.828125 0 11.671875 7.65625 \r\nQ 5.515625 15.328125 5.515625 27.984375 \r\nQ 5.515625 40.671875 11.671875 48.328125 \r\nQ 17.828125 56 27.875 56 \r\nQ 33.9375 56 38.28125 53.609375 \r\nQ 42.625 51.21875 45.40625 46.390625 \r\nL 45.40625 54.6875 \r\nL 54.390625 54.6875 \r\nz\r\n\" id=\"DejaVuSans-103\"/>\r\n      <path d=\"M 50.984375 -16.609375 \r\nL 50.984375 -23.578125 \r\nL -0.984375 -23.578125 \r\nL -0.984375 -16.609375 \r\nz\r\n\" id=\"DejaVuSans-95\"/>\r\n      <path d=\"M 32.171875 -5.078125 \r\nQ 28.375 -14.84375 24.75 -17.8125 \r\nQ 21.140625 -20.796875 15.09375 -20.796875 \r\nL 7.90625 -20.796875 \r\nL 7.90625 -13.28125 \r\nL 13.1875 -13.28125 \r\nQ 16.890625 -13.28125 18.9375 -11.515625 \r\nQ 21 -9.765625 23.484375 -3.21875 \r\nL 25.09375 0.875 \r\nL 2.984375 54.6875 \r\nL 12.5 54.6875 \r\nL 29.59375 11.921875 \r\nL 46.6875 54.6875 \r\nL 56.203125 54.6875 \r\nz\r\n\" id=\"DejaVuSans-121\"/>\r\n      <path d=\"M 56.203125 29.59375 \r\nL 56.203125 25.203125 \r\nL 14.890625 25.203125 \r\nQ 15.484375 15.921875 20.484375 11.0625 \r\nQ 25.484375 6.203125 34.421875 6.203125 \r\nQ 39.59375 6.203125 44.453125 7.46875 \r\nQ 49.3125 8.734375 54.109375 11.28125 \r\nL 54.109375 2.78125 \r\nQ 49.265625 0.734375 44.1875 -0.34375 \r\nQ 39.109375 -1.421875 33.890625 -1.421875 \r\nQ 20.796875 -1.421875 13.15625 6.1875 \r\nQ 5.515625 13.8125 5.515625 26.8125 \r\nQ 5.515625 40.234375 12.765625 48.109375 \r\nQ 20.015625 56 32.328125 56 \r\nQ 43.359375 56 49.78125 48.890625 \r\nQ 56.203125 41.796875 56.203125 29.59375 \r\nz\r\nM 47.21875 32.234375 \r\nQ 47.125 39.59375 43.09375 43.984375 \r\nQ 39.0625 48.390625 32.421875 48.390625 \r\nQ 24.90625 48.390625 20.390625 44.140625 \r\nQ 15.875 39.890625 15.1875 32.171875 \r\nz\r\n\" id=\"DejaVuSans-101\"/>\r\n      <path d=\"M 34.28125 27.484375 \r\nQ 23.390625 27.484375 19.1875 25 \r\nQ 14.984375 22.515625 14.984375 16.5 \r\nQ 14.984375 11.71875 18.140625 8.90625 \r\nQ 21.296875 6.109375 26.703125 6.109375 \r\nQ 34.1875 6.109375 38.703125 11.40625 \r\nQ 43.21875 16.703125 43.21875 25.484375 \r\nL 43.21875 27.484375 \r\nz\r\nM 52.203125 31.203125 \r\nL 52.203125 0 \r\nL 43.21875 0 \r\nL 43.21875 8.296875 \r\nQ 40.140625 3.328125 35.546875 0.953125 \r\nQ 30.953125 -1.421875 24.3125 -1.421875 \r\nQ 15.921875 -1.421875 10.953125 3.296875 \r\nQ 6 8.015625 6 15.921875 \r\nQ 6 25.140625 12.171875 29.828125 \r\nQ 18.359375 34.515625 30.609375 34.515625 \r\nL 43.21875 34.515625 \r\nL 43.21875 35.40625 \r\nQ 43.21875 41.609375 39.140625 45 \r\nQ 35.0625 48.390625 27.6875 48.390625 \r\nQ 23 48.390625 18.546875 47.265625 \r\nQ 14.109375 46.140625 10.015625 43.890625 \r\nL 10.015625 52.203125 \r\nQ 14.9375 54.109375 19.578125 55.046875 \r\nQ 24.21875 56 28.609375 56 \r\nQ 40.484375 56 46.34375 49.84375 \r\nQ 52.203125 43.703125 52.203125 31.203125 \r\nz\r\n\" id=\"DejaVuSans-97\"/>\r\n      <path d=\"M 41.109375 46.296875 \r\nQ 39.59375 47.171875 37.8125 47.578125 \r\nQ 36.03125 48 33.890625 48 \r\nQ 26.265625 48 22.1875 43.046875 \r\nQ 18.109375 38.09375 18.109375 28.8125 \r\nL 18.109375 0 \r\nL 9.078125 0 \r\nL 9.078125 54.6875 \r\nL 18.109375 54.6875 \r\nL 18.109375 46.1875 \r\nQ 20.953125 51.171875 25.484375 53.578125 \r\nQ 30.03125 56 36.53125 56 \r\nQ 37.453125 56 38.578125 55.875 \r\nQ 39.703125 55.765625 41.0625 55.515625 \r\nz\r\n\" id=\"DejaVuSans-114\"/>\r\n      <path d=\"M 11.71875 12.40625 \r\nL 22.015625 12.40625 \r\nL 22.015625 4 \r\nL 14.015625 -11.625 \r\nL 7.71875 -11.625 \r\nL 11.71875 4 \r\nz\r\n\" id=\"DejaVuSans-44\"/>\r\n      <path d=\"M 14.796875 27.296875 \r\nQ 14.796875 17.390625 18.875 11.75 \r\nQ 22.953125 6.109375 30.078125 6.109375 \r\nQ 37.203125 6.109375 41.296875 11.75 \r\nQ 45.40625 17.390625 45.40625 27.296875 \r\nQ 45.40625 37.203125 41.296875 42.84375 \r\nQ 37.203125 48.484375 30.078125 48.484375 \r\nQ 22.953125 48.484375 18.875 42.84375 \r\nQ 14.796875 37.203125 14.796875 27.296875 \r\nz\r\nM 45.40625 8.203125 \r\nQ 42.578125 3.328125 38.25 0.953125 \r\nQ 33.9375 -1.421875 27.875 -1.421875 \r\nQ 17.96875 -1.421875 11.734375 6.484375 \r\nQ 5.515625 14.40625 5.515625 27.296875 \r\nQ 5.515625 40.1875 11.734375 48.09375 \r\nQ 17.96875 56 27.875 56 \r\nQ 33.9375 56 38.25 53.625 \r\nQ 42.578125 51.265625 45.40625 46.390625 \r\nL 45.40625 54.6875 \r\nL 54.390625 54.6875 \r\nL 54.390625 -20.796875 \r\nL 45.40625 -20.796875 \r\nz\r\n\" id=\"DejaVuSans-113\"/>\r\n      <path d=\"M 8.5 21.578125 \r\nL 8.5 54.6875 \r\nL 17.484375 54.6875 \r\nL 17.484375 21.921875 \r\nQ 17.484375 14.15625 20.5 10.265625 \r\nQ 23.53125 6.390625 29.59375 6.390625 \r\nQ 36.859375 6.390625 41.078125 11.03125 \r\nQ 45.3125 15.671875 45.3125 23.6875 \r\nL 45.3125 54.6875 \r\nL 54.296875 54.6875 \r\nL 54.296875 0 \r\nL 45.3125 0 \r\nL 45.3125 8.40625 \r\nQ 42.046875 3.421875 37.71875 1 \r\nQ 33.40625 -1.421875 27.6875 -1.421875 \r\nQ 18.265625 -1.421875 13.375 4.4375 \r\nQ 8.5 10.296875 8.5 21.578125 \r\nz\r\nM 31.109375 56 \r\nz\r\n\" id=\"DejaVuSans-117\"/>\r\n      <path d=\"M 18.3125 70.21875 \r\nL 18.3125 54.6875 \r\nL 36.8125 54.6875 \r\nL 36.8125 47.703125 \r\nL 18.3125 47.703125 \r\nL 18.3125 18.015625 \r\nQ 18.3125 11.328125 20.140625 9.421875 \r\nQ 21.96875 7.515625 27.59375 7.515625 \r\nL 36.8125 7.515625 \r\nL 36.8125 0 \r\nL 27.59375 0 \r\nQ 17.1875 0 13.234375 3.875 \r\nQ 9.28125 7.765625 9.28125 18.015625 \r\nL 9.28125 47.703125 \r\nL 2.6875 47.703125 \r\nL 2.6875 54.6875 \r\nL 9.28125 54.6875 \r\nL 9.28125 70.21875 \r\nz\r\n\" id=\"DejaVuSans-116\"/>\r\n     </defs>\r\n     <g transform=\"translate(122.957031 246.738437)scale(0.1 -0.1)\">\r\n      <use xlink:href=\"#DejaVuSans-99\"/>\r\n      <use x=\"54.980469\" xlink:href=\"#DejaVuSans-108\"/>\r\n      <use x=\"82.763672\" xlink:href=\"#DejaVuSans-111\"/>\r\n      <use x=\"143.945312\" xlink:href=\"#DejaVuSans-115\"/>\r\n      <use x=\"196.044922\" xlink:href=\"#DejaVuSans-105\"/>\r\n      <use x=\"223.828125\" xlink:href=\"#DejaVuSans-110\"/>\r\n      <use x=\"287.207031\" xlink:href=\"#DejaVuSans-103\"/>\r\n      <use x=\"350.683594\" xlink:href=\"#DejaVuSans-95\"/>\r\n      <use x=\"400.683594\" xlink:href=\"#DejaVuSans-121\"/>\r\n      <use x=\"459.863281\" xlink:href=\"#DejaVuSans-101\"/>\r\n      <use x=\"521.386719\" xlink:href=\"#DejaVuSans-97\"/>\r\n      <use x=\"582.666016\" xlink:href=\"#DejaVuSans-114\"/>\r\n      <use x=\"623.779297\" xlink:href=\"#DejaVuSans-44\"/>\r\n      <use x=\"655.566406\" xlink:href=\"#DejaVuSans-99\"/>\r\n      <use x=\"710.546875\" xlink:href=\"#DejaVuSans-108\"/>\r\n      <use x=\"738.330078\" xlink:href=\"#DejaVuSans-111\"/>\r\n      <use x=\"799.511719\" xlink:href=\"#DejaVuSans-115\"/>\r\n      <use x=\"851.611328\" xlink:href=\"#DejaVuSans-105\"/>\r\n      <use x=\"879.394531\" xlink:href=\"#DejaVuSans-110\"/>\r\n      <use x=\"942.773438\" xlink:href=\"#DejaVuSans-103\"/>\r\n      <use x=\"1006.25\" xlink:href=\"#DejaVuSans-95\"/>\r\n      <use x=\"1056.25\" xlink:href=\"#DejaVuSans-113\"/>\r\n      <use x=\"1119.726562\" xlink:href=\"#DejaVuSans-117\"/>\r\n      <use x=\"1183.105469\" xlink:href=\"#DejaVuSans-97\"/>\r\n      <use x=\"1244.384766\" xlink:href=\"#DejaVuSans-114\"/>\r\n      <use x=\"1285.498047\" xlink:href=\"#DejaVuSans-116\"/>\r\n      <use x=\"1324.707031\" xlink:href=\"#DejaVuSans-101\"/>\r\n      <use x=\"1386.230469\" xlink:href=\"#DejaVuSans-114\"/>\r\n     </g>\r\n    </g>\r\n   </g>\r\n   <g id=\"matplotlib.axis_2\">\r\n    <g id=\"ytick_1\">\r\n     <g id=\"line2d_7\">\r\n      <defs>\r\n       <path d=\"M 0 0 \r\nL -3.5 0 \r\n\" id=\"m11aebce9ff\" style=\"stroke:#000000;stroke-width:0.8;\"/>\r\n      </defs>\r\n      <g>\r\n       <use style=\"stroke:#000000;stroke-width:0.8;\" x=\"26.925\" xlink:href=\"#m11aebce9ff\" y=\"222.290501\"/>\r\n      </g>\r\n     </g>\r\n     <g id=\"text_2\">\r\n      <!-- 0 -->\r\n      <defs>\r\n       <path d=\"M 31.78125 66.40625 \r\nQ 24.171875 66.40625 20.328125 58.90625 \r\nQ 16.5 51.421875 16.5 36.375 \r\nQ 16.5 21.390625 20.328125 13.890625 \r\nQ 24.171875 6.390625 31.78125 6.390625 \r\nQ 39.453125 6.390625 43.28125 13.890625 \r\nQ 47.125 21.390625 47.125 36.375 \r\nQ 47.125 51.421875 43.28125 58.90625 \r\nQ 39.453125 66.40625 31.78125 66.40625 \r\nz\r\nM 31.78125 74.21875 \r\nQ 44.046875 74.21875 50.515625 64.515625 \r\nQ 56.984375 54.828125 56.984375 36.375 \r\nQ 56.984375 17.96875 50.515625 8.265625 \r\nQ 44.046875 -1.421875 31.78125 -1.421875 \r\nQ 19.53125 -1.421875 13.0625 8.265625 \r\nQ 6.59375 17.96875 6.59375 36.375 \r\nQ 6.59375 54.828125 13.0625 64.515625 \r\nQ 19.53125 74.21875 31.78125 74.21875 \r\nz\r\n\" id=\"DejaVuSans-48\"/>\r\n      </defs>\r\n      <g transform=\"translate(13.5625 226.08972)scale(0.1 -0.1)\">\r\n       <use xlink:href=\"#DejaVuSans-48\"/>\r\n      </g>\r\n     </g>\r\n    </g>\r\n    <g id=\"ytick_2\">\r\n     <g id=\"line2d_8\">\r\n      <g>\r\n       <use style=\"stroke:#000000;stroke-width:0.8;\" x=\"26.925\" xlink:href=\"#m11aebce9ff\" y=\"181.949128\"/>\r\n      </g>\r\n     </g>\r\n     <g id=\"text_3\">\r\n      <!-- 10 -->\r\n      <defs>\r\n       <path d=\"M 12.40625 8.296875 \r\nL 28.515625 8.296875 \r\nL 28.515625 63.921875 \r\nL 10.984375 60.40625 \r\nL 10.984375 69.390625 \r\nL 28.421875 72.90625 \r\nL 38.28125 72.90625 \r\nL 38.28125 8.296875 \r\nL 54.390625 8.296875 \r\nL 54.390625 0 \r\nL 12.40625 0 \r\nz\r\n\" id=\"DejaVuSans-49\"/>\r\n      </defs>\r\n      <g transform=\"translate(7.2 185.748347)scale(0.1 -0.1)\">\r\n       <use xlink:href=\"#DejaVuSans-49\"/>\r\n       <use x=\"63.623047\" xlink:href=\"#DejaVuSans-48\"/>\r\n      </g>\r\n     </g>\r\n    </g>\r\n    <g id=\"ytick_3\">\r\n     <g id=\"line2d_9\">\r\n      <g>\r\n       <use style=\"stroke:#000000;stroke-width:0.8;\" x=\"26.925\" xlink:href=\"#m11aebce9ff\" y=\"141.607755\"/>\r\n      </g>\r\n     </g>\r\n     <g id=\"text_4\">\r\n      <!-- 20 -->\r\n      <defs>\r\n       <path d=\"M 19.1875 8.296875 \r\nL 53.609375 8.296875 \r\nL 53.609375 0 \r\nL 7.328125 0 \r\nL 7.328125 8.296875 \r\nQ 12.9375 14.109375 22.625 23.890625 \r\nQ 32.328125 33.6875 34.8125 36.53125 \r\nQ 39.546875 41.84375 41.421875 45.53125 \r\nQ 43.3125 49.21875 43.3125 52.78125 \r\nQ 43.3125 58.59375 39.234375 62.25 \r\nQ 35.15625 65.921875 28.609375 65.921875 \r\nQ 23.96875 65.921875 18.8125 64.3125 \r\nQ 13.671875 62.703125 7.8125 59.421875 \r\nL 7.8125 69.390625 \r\nQ 13.765625 71.78125 18.9375 73 \r\nQ 24.125 74.21875 28.421875 74.21875 \r\nQ 39.75 74.21875 46.484375 68.546875 \r\nQ 53.21875 62.890625 53.21875 53.421875 \r\nQ 53.21875 48.921875 51.53125 44.890625 \r\nQ 49.859375 40.875 45.40625 35.40625 \r\nQ 44.1875 33.984375 37.640625 27.21875 \r\nQ 31.109375 20.453125 19.1875 8.296875 \r\nz\r\n\" id=\"DejaVuSans-50\"/>\r\n      </defs>\r\n      <g transform=\"translate(7.2 145.406974)scale(0.1 -0.1)\">\r\n       <use xlink:href=\"#DejaVuSans-50\"/>\r\n       <use x=\"63.623047\" xlink:href=\"#DejaVuSans-48\"/>\r\n      </g>\r\n     </g>\r\n    </g>\r\n    <g id=\"ytick_4\">\r\n     <g id=\"line2d_10\">\r\n      <g>\r\n       <use style=\"stroke:#000000;stroke-width:0.8;\" x=\"26.925\" xlink:href=\"#m11aebce9ff\" y=\"101.266382\"/>\r\n      </g>\r\n     </g>\r\n     <g id=\"text_5\">\r\n      <!-- 30 -->\r\n      <defs>\r\n       <path d=\"M 40.578125 39.3125 \r\nQ 47.65625 37.796875 51.625 33 \r\nQ 55.609375 28.21875 55.609375 21.1875 \r\nQ 55.609375 10.40625 48.1875 4.484375 \r\nQ 40.765625 -1.421875 27.09375 -1.421875 \r\nQ 22.515625 -1.421875 17.65625 -0.515625 \r\nQ 12.796875 0.390625 7.625 2.203125 \r\nL 7.625 11.71875 \r\nQ 11.71875 9.328125 16.59375 8.109375 \r\nQ 21.484375 6.890625 26.8125 6.890625 \r\nQ 36.078125 6.890625 40.9375 10.546875 \r\nQ 45.796875 14.203125 45.796875 21.1875 \r\nQ 45.796875 27.640625 41.28125 31.265625 \r\nQ 36.765625 34.90625 28.71875 34.90625 \r\nL 20.21875 34.90625 \r\nL 20.21875 43.015625 \r\nL 29.109375 43.015625 \r\nQ 36.375 43.015625 40.234375 45.921875 \r\nQ 44.09375 48.828125 44.09375 54.296875 \r\nQ 44.09375 59.90625 40.109375 62.90625 \r\nQ 36.140625 65.921875 28.71875 65.921875 \r\nQ 24.65625 65.921875 20.015625 65.03125 \r\nQ 15.375 64.15625 9.8125 62.3125 \r\nL 9.8125 71.09375 \r\nQ 15.4375 72.65625 20.34375 73.4375 \r\nQ 25.25 74.21875 29.59375 74.21875 \r\nQ 40.828125 74.21875 47.359375 69.109375 \r\nQ 53.90625 64.015625 53.90625 55.328125 \r\nQ 53.90625 49.265625 50.4375 45.09375 \r\nQ 46.96875 40.921875 40.578125 39.3125 \r\nz\r\n\" id=\"DejaVuSans-51\"/>\r\n      </defs>\r\n      <g transform=\"translate(7.2 105.065601)scale(0.1 -0.1)\">\r\n       <use xlink:href=\"#DejaVuSans-51\"/>\r\n       <use x=\"63.623047\" xlink:href=\"#DejaVuSans-48\"/>\r\n      </g>\r\n     </g>\r\n    </g>\r\n    <g id=\"ytick_5\">\r\n     <g id=\"line2d_11\">\r\n      <g>\r\n       <use style=\"stroke:#000000;stroke-width:0.8;\" x=\"26.925\" xlink:href=\"#m11aebce9ff\" y=\"60.925009\"/>\r\n      </g>\r\n     </g>\r\n     <g id=\"text_6\">\r\n      <!-- 40 -->\r\n      <defs>\r\n       <path d=\"M 37.796875 64.3125 \r\nL 12.890625 25.390625 \r\nL 37.796875 25.390625 \r\nz\r\nM 35.203125 72.90625 \r\nL 47.609375 72.90625 \r\nL 47.609375 25.390625 \r\nL 58.015625 25.390625 \r\nL 58.015625 17.1875 \r\nL 47.609375 17.1875 \r\nL 47.609375 0 \r\nL 37.796875 0 \r\nL 37.796875 17.1875 \r\nL 4.890625 17.1875 \r\nL 4.890625 26.703125 \r\nz\r\n\" id=\"DejaVuSans-52\"/>\r\n      </defs>\r\n      <g transform=\"translate(7.2 64.724228)scale(0.1 -0.1)\">\r\n       <use xlink:href=\"#DejaVuSans-52\"/>\r\n       <use x=\"63.623047\" xlink:href=\"#DejaVuSans-48\"/>\r\n      </g>\r\n     </g>\r\n    </g>\r\n    <g id=\"ytick_6\">\r\n     <g id=\"line2d_12\">\r\n      <g>\r\n       <use style=\"stroke:#000000;stroke-width:0.8;\" x=\"26.925\" xlink:href=\"#m11aebce9ff\" y=\"20.583636\"/>\r\n      </g>\r\n     </g>\r\n     <g id=\"text_7\">\r\n      <!-- 50 -->\r\n      <defs>\r\n       <path d=\"M 10.796875 72.90625 \r\nL 49.515625 72.90625 \r\nL 49.515625 64.59375 \r\nL 19.828125 64.59375 \r\nL 19.828125 46.734375 \r\nQ 21.96875 47.46875 24.109375 47.828125 \r\nQ 26.265625 48.1875 28.421875 48.1875 \r\nQ 40.625 48.1875 47.75 41.5 \r\nQ 54.890625 34.8125 54.890625 23.390625 \r\nQ 54.890625 11.625 47.5625 5.09375 \r\nQ 40.234375 -1.421875 26.90625 -1.421875 \r\nQ 22.3125 -1.421875 17.546875 -0.640625 \r\nQ 12.796875 0.140625 7.71875 1.703125 \r\nL 7.71875 11.625 \r\nQ 12.109375 9.234375 16.796875 8.0625 \r\nQ 21.484375 6.890625 26.703125 6.890625 \r\nQ 35.15625 6.890625 40.078125 11.328125 \r\nQ 45.015625 15.765625 45.015625 23.390625 \r\nQ 45.015625 31 40.078125 35.4375 \r\nQ 35.15625 39.890625 26.703125 39.890625 \r\nQ 22.75 39.890625 18.8125 39.015625 \r\nQ 14.890625 38.140625 10.796875 36.28125 \r\nz\r\n\" id=\"DejaVuSans-53\"/>\r\n      </defs>\r\n      <g transform=\"translate(7.2 24.382855)scale(0.1 -0.1)\">\r\n       <use xlink:href=\"#DejaVuSans-53\"/>\r\n       <use x=\"63.623047\" xlink:href=\"#DejaVuSans-48\"/>\r\n      </g>\r\n     </g>\r\n    </g>\r\n   </g>\r\n   <g id=\"line2d_13\">\r\n    <path clip-path=\"url(#p64c1e3214b)\" d=\"M 42.143182 214.222226 \r\nL 47.885892 218.256364 \r\nL 53.628602 218.256364 \r\nL 59.371312 214.222226 \r\nL 65.114022 198.085677 \r\nL 70.856732 214.222226 \r\nL 76.599443 218.256364 \r\nL 82.342153 214.222226 \r\nL 88.084863 218.256364 \r\nL 93.827573 218.256364 \r\nL 99.570283 218.256364 \r\nL 105.312993 210.188089 \r\nL 111.055703 218.256364 \r\nL 116.798413 218.256364 \r\nL 122.541123 218.256364 \r\nL 128.283834 218.256364 \r\nL 134.026544 214.222226 \r\nL 139.769254 214.222226 \r\nL 145.511964 185.983265 \r\nL 151.254674 173.880853 \r\nL 156.997384 137.573618 \r\nL 162.740094 125.471206 \r\nL 168.482804 20.583636 \r\nL 174.225515 40.754323 \r\nL 179.968225 56.890872 \r\nL 185.710935 40.754323 \r\nL 191.453645 56.890872 \r\nL 197.196355 101.266382 \r\nL 202.939065 117.402931 \r\nL 208.681775 133.539481 \r\nL 214.424485 117.402931 \r\nL 220.167196 149.67603 \r\nL 225.909906 157.744304 \r\nL 231.652616 161.778442 \r\nL 237.395326 173.880853 \r\nL 243.138036 190.017403 \r\nL 248.880746 206.153952 \r\nL 254.623456 173.880853 \r\nL 260.366166 198.085677 \r\nL 266.108877 214.222226 \r\nL 271.851587 202.119814 \r\nL 277.594297 194.05154 \r\nL 283.337007 214.222226 \r\nL 289.079717 206.153952 \r\nL 294.822427 206.153952 \r\nL 300.565137 218.256364 \r\nL 306.307847 218.256364 \r\nL 312.050557 214.222226 \r\nL 317.793268 218.256364 \r\nL 323.535978 214.222226 \r\nL 329.278688 214.222226 \r\nL 335.021398 210.188089 \r\nL 340.764108 210.188089 \r\nL 346.506818 214.222226 \r\n\" style=\"fill:none;stroke:#1f77b4;stroke-linecap:square;stroke-width:1.5;\"/>\r\n   </g>\r\n   <g id=\"patch_3\">\r\n    <path d=\"M 26.925 228.14 \r\nL 26.925 10.7 \r\n\" style=\"fill:none;stroke:#000000;stroke-linecap:square;stroke-linejoin:miter;stroke-width:0.8;\"/>\r\n   </g>\r\n   <g id=\"patch_4\">\r\n    <path d=\"M 361.725 228.14 \r\nL 361.725 10.7 \r\n\" style=\"fill:none;stroke:#000000;stroke-linecap:square;stroke-linejoin:miter;stroke-width:0.8;\"/>\r\n   </g>\r\n   <g id=\"patch_5\">\r\n    <path d=\"M 26.925 228.14 \r\nL 361.725 228.14 \r\n\" style=\"fill:none;stroke:#000000;stroke-linecap:square;stroke-linejoin:miter;stroke-width:0.8;\"/>\r\n   </g>\r\n   <g id=\"patch_6\">\r\n    <path d=\"M 26.925 10.7 \r\nL 361.725 10.7 \r\n\" style=\"fill:none;stroke:#000000;stroke-linecap:square;stroke-linejoin:miter;stroke-width:0.8;\"/>\r\n   </g>\r\n  </g>\r\n </g>\r\n <defs>\r\n  <clipPath id=\"p64c1e3214b\">\r\n   <rect height=\"217.44\" width=\"334.8\" x=\"26.925\" y=\"10.7\"/>\r\n  </clipPath>\r\n </defs>\r\n</svg>\r\n",
      "image/png": "[encoded data removed]"
     },
     "metadata": {
      "needs_background": "light"
     }
    }
   ],
   "source": [
    "fig, ax = plt.subplots()\n",
    "ax = closing_year.plot()\n",
    "plt.show()\n",
    "\n",
    "fit, ax = plt.subplots()\n",
    "ax = closing_year_q.plot()\n",
    "plt.show()"
   ]
  },
  {
   "cell_type": "code",
   "execution_count": 78,
   "metadata": {},
   "outputs": [
    {
     "output_type": "stream",
     "name": "stdout",
     "text": "DatetimeIndex(['2017-12-15', '2017-10-13', '2017-05-26', '2017-05-05',\n               '2017-04-28', '2017-03-03', '2017-01-27', '2017-01-13',\n               '2016-09-23', '2016-08-19',\n               ...\n               '2002-02-07', '2002-02-01', '2002-01-18', '2002-01-11',\n               '2001-09-07', '2001-07-27', '2001-05-03', '2001-02-02',\n               '2000-12-14', '2000-10-13'],\n              dtype='datetime64[ns]', name='Closing Date', length=555, freq=None)\n"
    }
   ],
   "source": [
    "banks.index = banks['Closing Date']\n",
    "print(banks.index)"
   ]
  },
  {
   "cell_type": "code",
   "execution_count": 79,
   "metadata": {},
   "outputs": [
    {
     "output_type": "execute_result",
     "data": {
      "text/plain": "                                      Bank Name     ...      closing_year\nClosing Date                                        ...                  \n2015-10-02               Hometown National Bank     ...              2015\n2015-10-02                  The Bank of Georgia     ...              2015\n2015-07-10                         Premier Bank     ...              2015\n2015-05-08                       Edgebrook Bank     ...              2015\n2015-02-27                           Doral Bank     ...              2015\n2015-02-13    Capitol City Bank & Trust Company     ...              2015\n2015-01-23              Highland Community Bank     ...              2015\n2015-01-16    First National Bank of Crestview      ...              2015\n\n[8 rows x 9 columns]",
      "text/html": "<div>\n<style scoped>\n    .dataframe tbody tr th:only-of-type {\n        vertical-align: middle;\n    }\n\n    .dataframe tbody tr th {\n        vertical-align: top;\n    }\n\n    .dataframe thead th {\n        text-align: right;\n    }\n</style>\n<table border=\"1\" class=\"dataframe\">\n  <thead>\n    <tr style=\"text-align: right;\">\n      <th></th>\n      <th>Bank Name</th>\n      <th>City</th>\n      <th>ST</th>\n      <th>CERT</th>\n      <th>Acquiring Institution</th>\n      <th>Closing Date</th>\n      <th>Updated Date</th>\n      <th>closing_quarter</th>\n      <th>closing_year</th>\n    </tr>\n    <tr>\n      <th>Closing Date</th>\n      <th></th>\n      <th></th>\n      <th></th>\n      <th></th>\n      <th></th>\n      <th></th>\n      <th></th>\n      <th></th>\n      <th></th>\n    </tr>\n  </thead>\n  <tbody>\n    <tr>\n      <th>2015-10-02</th>\n      <td>Hometown National Bank</td>\n      <td>Longview</td>\n      <td>WA</td>\n      <td>35156</td>\n      <td>Twin City Bank</td>\n      <td>2015-10-02</td>\n      <td>2018-01-12</td>\n      <td>4</td>\n      <td>2015</td>\n    </tr>\n    <tr>\n      <th>2015-10-02</th>\n      <td>The Bank of Georgia</td>\n      <td>Peachtree City</td>\n      <td>GA</td>\n      <td>35259</td>\n      <td>Fidelity Bank</td>\n      <td>2015-10-02</td>\n      <td>2016-10-24</td>\n      <td>4</td>\n      <td>2015</td>\n    </tr>\n    <tr>\n      <th>2015-07-10</th>\n      <td>Premier Bank</td>\n      <td>Denver</td>\n      <td>CO</td>\n      <td>34112</td>\n      <td>United Fidelity Bank, fsb</td>\n      <td>2015-07-10</td>\n      <td>2016-08-17</td>\n      <td>3</td>\n      <td>2015</td>\n    </tr>\n    <tr>\n      <th>2015-05-08</th>\n      <td>Edgebrook Bank</td>\n      <td>Chicago</td>\n      <td>IL</td>\n      <td>57772</td>\n      <td>Republic Bank of Chicago</td>\n      <td>2015-05-08</td>\n      <td>2016-07-12</td>\n      <td>2</td>\n      <td>2015</td>\n    </tr>\n    <tr>\n      <th>2015-02-27</th>\n      <td>Doral Bank</td>\n      <td>San Juan</td>\n      <td>PR</td>\n      <td>32102</td>\n      <td>Banco Popular de Puerto Rico</td>\n      <td>2015-02-27</td>\n      <td>2015-05-13</td>\n      <td>1</td>\n      <td>2015</td>\n    </tr>\n    <tr>\n      <th>2015-02-13</th>\n      <td>Capitol City Bank &amp; Trust Company</td>\n      <td>Atlanta</td>\n      <td>GA</td>\n      <td>33938</td>\n      <td>First-Citizens Bank &amp; Trust Company</td>\n      <td>2015-02-13</td>\n      <td>2015-04-21</td>\n      <td>1</td>\n      <td>2015</td>\n    </tr>\n    <tr>\n      <th>2015-01-23</th>\n      <td>Highland Community Bank</td>\n      <td>Chicago</td>\n      <td>IL</td>\n      <td>20290</td>\n      <td>United Fidelity Bank, fsb</td>\n      <td>2015-01-23</td>\n      <td>2017-11-15</td>\n      <td>1</td>\n      <td>2015</td>\n    </tr>\n    <tr>\n      <th>2015-01-16</th>\n      <td>First National Bank of Crestview</td>\n      <td>Crestview</td>\n      <td>FL</td>\n      <td>17557</td>\n      <td>First NBC Bank</td>\n      <td>2015-01-16</td>\n      <td>2017-11-15</td>\n      <td>1</td>\n      <td>2015</td>\n    </tr>\n  </tbody>\n</table>\n</div>"
     },
     "metadata": {},
     "execution_count": 79
    }
   ],
   "source": [
    "banks['2015']"
   ]
  },
  {
   "cell_type": "code",
   "execution_count": 80,
   "metadata": {},
   "outputs": [
    {
     "output_type": "execute_result",
     "data": {
      "text/plain": "                                      Bank Name     ...      closing_year\nClosing Date                                        ...                  \n2015-01-23              Highland Community Bank     ...              2015\n2015-01-16    First National Bank of Crestview      ...              2015\n\n[2 rows x 9 columns]",
      "text/html": "<div>\n<style scoped>\n    .dataframe tbody tr th:only-of-type {\n        vertical-align: middle;\n    }\n\n    .dataframe tbody tr th {\n        vertical-align: top;\n    }\n\n    .dataframe thead th {\n        text-align: right;\n    }\n</style>\n<table border=\"1\" class=\"dataframe\">\n  <thead>\n    <tr style=\"text-align: right;\">\n      <th></th>\n      <th>Bank Name</th>\n      <th>City</th>\n      <th>ST</th>\n      <th>CERT</th>\n      <th>Acquiring Institution</th>\n      <th>Closing Date</th>\n      <th>Updated Date</th>\n      <th>closing_quarter</th>\n      <th>closing_year</th>\n    </tr>\n    <tr>\n      <th>Closing Date</th>\n      <th></th>\n      <th></th>\n      <th></th>\n      <th></th>\n      <th></th>\n      <th></th>\n      <th></th>\n      <th></th>\n      <th></th>\n    </tr>\n  </thead>\n  <tbody>\n    <tr>\n      <th>2015-01-23</th>\n      <td>Highland Community Bank</td>\n      <td>Chicago</td>\n      <td>IL</td>\n      <td>20290</td>\n      <td>United Fidelity Bank, fsb</td>\n      <td>2015-01-23</td>\n      <td>2017-11-15</td>\n      <td>1</td>\n      <td>2015</td>\n    </tr>\n    <tr>\n      <th>2015-01-16</th>\n      <td>First National Bank of Crestview</td>\n      <td>Crestview</td>\n      <td>FL</td>\n      <td>17557</td>\n      <td>First NBC Bank</td>\n      <td>2015-01-16</td>\n      <td>2017-11-15</td>\n      <td>1</td>\n      <td>2015</td>\n    </tr>\n  </tbody>\n</table>\n</div>"
     },
     "metadata": {},
     "execution_count": 80
    }
   ],
   "source": [
    "banks['2015-01']"
   ]
  },
  {
   "cell_type": "code",
   "execution_count": 81,
   "metadata": {},
   "outputs": [
    {
     "output_type": "execute_result",
     "data": {
      "text/plain": "                                                      Bank Name    ...     ref_date\nClosing Date                                                       ...             \n2017-12-15                  Washington Federal Bank for Savings    ...    6272 days\n2017-10-13      The Farmers and Merchants State Bank of Argonia    ...    6209 days\n2017-05-26                                  Fayette County Bank    ...    6069 days\n2017-05-05    Guaranty Bank, (d/b/a BestBank in Georgia & Mi...    ...    6048 days\n2017-04-28                                       First NBC Bank    ...    6041 days\n\n[5 rows x 10 columns]",
      "text/html": "<div>\n<style scoped>\n    .dataframe tbody tr th:only-of-type {\n        vertical-align: middle;\n    }\n\n    .dataframe tbody tr th {\n        vertical-align: top;\n    }\n\n    .dataframe thead th {\n        text-align: right;\n    }\n</style>\n<table border=\"1\" class=\"dataframe\">\n  <thead>\n    <tr style=\"text-align: right;\">\n      <th></th>\n      <th>Bank Name</th>\n      <th>City</th>\n      <th>ST</th>\n      <th>CERT</th>\n      <th>Acquiring Institution</th>\n      <th>Closing Date</th>\n      <th>Updated Date</th>\n      <th>closing_quarter</th>\n      <th>closing_year</th>\n      <th>ref_date</th>\n    </tr>\n    <tr>\n      <th>Closing Date</th>\n      <th></th>\n      <th></th>\n      <th></th>\n      <th></th>\n      <th></th>\n      <th></th>\n      <th></th>\n      <th></th>\n      <th></th>\n      <th></th>\n    </tr>\n  </thead>\n  <tbody>\n    <tr>\n      <th>2017-12-15</th>\n      <td>Washington Federal Bank for Savings</td>\n      <td>Chicago</td>\n      <td>IL</td>\n      <td>30570</td>\n      <td>Royal Savings Bank</td>\n      <td>2017-12-15</td>\n      <td>2017-12-20</td>\n      <td>4</td>\n      <td>2017</td>\n      <td>6272 days</td>\n    </tr>\n    <tr>\n      <th>2017-10-13</th>\n      <td>The Farmers and Merchants State Bank of Argonia</td>\n      <td>Argonia</td>\n      <td>KS</td>\n      <td>17719</td>\n      <td>Conway Bank</td>\n      <td>2017-10-13</td>\n      <td>2017-10-20</td>\n      <td>4</td>\n      <td>2017</td>\n      <td>6209 days</td>\n    </tr>\n    <tr>\n      <th>2017-05-26</th>\n      <td>Fayette County Bank</td>\n      <td>Saint Elmo</td>\n      <td>IL</td>\n      <td>1802</td>\n      <td>United Fidelity Bank, fsb</td>\n      <td>2017-05-26</td>\n      <td>2017-07-26</td>\n      <td>2</td>\n      <td>2017</td>\n      <td>6069 days</td>\n    </tr>\n    <tr>\n      <th>2017-05-05</th>\n      <td>Guaranty Bank, (d/b/a BestBank in Georgia &amp; Mi...</td>\n      <td>Milwaukee</td>\n      <td>WI</td>\n      <td>30003</td>\n      <td>First-Citizens Bank &amp; Trust Company</td>\n      <td>2017-05-05</td>\n      <td>2017-07-26</td>\n      <td>2</td>\n      <td>2017</td>\n      <td>6048 days</td>\n    </tr>\n    <tr>\n      <th>2017-04-28</th>\n      <td>First NBC Bank</td>\n      <td>New Orleans</td>\n      <td>LA</td>\n      <td>58302</td>\n      <td>Whitney Bank</td>\n      <td>2017-04-28</td>\n      <td>2017-12-05</td>\n      <td>2</td>\n      <td>2017</td>\n      <td>6041 days</td>\n    </tr>\n  </tbody>\n</table>\n</div>"
     },
     "metadata": {},
     "execution_count": 81
    }
   ],
   "source": [
    "banks['ref_date'] = banks['Closing Date'] - banks['Closing Date'].min()\n",
    "banks.head()"
   ]
  },
  {
   "cell_type": "code",
   "execution_count": 82,
   "metadata": {},
   "outputs": [
    {
     "output_type": "execute_result",
     "data": {
      "text/plain": "                                                   Bank Name    ...     ref_date\nref_date                                                        ...             \n6272 days                Washington Federal Bank for Savings    ...    6272 days\n6209 days    The Farmers and Merchants State Bank of Argonia    ...    6209 days\n6069 days                                Fayette County Bank    ...    6069 days\n6048 days  Guaranty Bank, (d/b/a BestBank in Georgia & Mi...    ...    6048 days\n6041 days                                     First NBC Bank    ...    6041 days\n5985 days                                      Proficio Bank    ...    5985 days\n5950 days                      Seaway Bank and Trust Company    ...    5950 days\n5936 days                             Harvest Community Bank    ...    5936 days\n5824 days                                        Allied Bank    ...    5824 days\n5789 days                       The Woodbury Banking Company    ...    5789 days\n5684 days                             First CornerStone Bank    ...    5684 days\n5677 days                                 Trust Company Bank    ...    5677 days\n5628 days                         North Milwaukee State Bank    ...    5628 days\n5467 days                             Hometown National Bank    ...    5467 days\n5467 days                                The Bank of Georgia    ...    5467 days\n5383 days                                       Premier Bank    ...    5383 days\n5320 days                                     Edgebrook Bank    ...    5320 days\n5250 days                                         Doral Bank    ...    5250 days\n5236 days                  Capitol City Bank & Trust Company    ...    5236 days\n5215 days                            Highland Community Bank    ...    5215 days\n5208 days                  First National Bank of Crestview     ...    5208 days\n5180 days                                 Northern Star Bank    ...    5180 days\n5138 days             Frontier Bank, FSB D/B/A El Paseo Bank    ...    5138 days\n5124 days              The National Republic Bank of Chicago    ...    5124 days\n5117 days                                     NBRS Financial    ...    5117 days\n5033 days                              GreenChoice Bank, fsb    ...    5033 days\n5026 days                           Eastside Commercial Bank    ...    5026 days\n5005 days                            The Freedom State Bank     ...    5005 days\n4998 days                                        Valley Bank    ...    4998 days\n4998 days                                        Valley Bank    ...    4998 days\n...                                                      ...    ...          ...\n2765 days                                  ANB Financial, NA    ...    2765 days\n2702 days                                          Hume Bank    ...    2702 days\n2660 days                             Douglass National Bank    ...    2660 days\n2547 days                                  Miami Valley Bank    ...    2547 days\n2541 days                                            NetBank    ...    2541 days\n2303 days                          Metropolitan Savings Bank    ...    2303 days\n1351 days                                    Bank of Ephraim    ...    1351 days\n1253 days                                      Reliance Bank    ...    1253 days\n1246 days              Guaranty National Bank of Tallahassee    ...    1246 days\n1219 days                                Dollar Savings Bank    ...    1219 days\n1127 days                               Pulaski Savings Bank    ...    1127 days\n938 days               First National Bank of Blanchardville    ...     938 days\n847 days                               Southern Pacific Bank    ...     847 days\n795 days                         Farmers Bank of Cheneyville    ...     795 days\n756 days                                       Bank of Alamo    ...     756 days\n717 days                          AmTrade International Bank    ...     717 days\n622 days                      Universal Federal Savings Bank    ...     622 days\n621 days                        Connecticut Bank of Commerce    ...     621 days\n531 days                                    New Century Bank    ...     531 days\n504 days                               Net 1st National Bank    ...     504 days\n482 days                                        NextBank, NA    ...     482 days\n476 days                            Oakwood Deposit Bank Co.    ...     476 days\n462 days                               Bank of Sierra Blanca    ...     462 days\n455 days                                   Hamilton Bank, NA    ...     455 days\n329 days                              Sinclair National Bank    ...     329 days\n287 days                                  Superior Bank, FSB    ...     287 days\n202 days                                 Malta National Bank    ...     202 days\n112 days                     First Alliance Bank & Trust Co.    ...     112 days\n62 days                    National State Bank of Metropolis    ...      62 days\n0 days                                      Bank of Honolulu    ...       0 days\n\n[555 rows x 10 columns]",
      "text/html": "<div>\n<style scoped>\n    .dataframe tbody tr th:only-of-type {\n        vertical-align: middle;\n    }\n\n    .dataframe tbody tr th {\n        vertical-align: top;\n    }\n\n    .dataframe thead th {\n        text-align: right;\n    }\n</style>\n<table border=\"1\" class=\"dataframe\">\n  <thead>\n    <tr style=\"text-align: right;\">\n      <th></th>\n      <th>Bank Name</th>\n      <th>City</th>\n      <th>ST</th>\n      <th>CERT</th>\n      <th>Acquiring Institution</th>\n      <th>Closing Date</th>\n      <th>Updated Date</th>\n      <th>closing_quarter</th>\n      <th>closing_year</th>\n      <th>ref_date</th>\n    </tr>\n    <tr>\n      <th>ref_date</th>\n      <th></th>\n      <th></th>\n      <th></th>\n      <th></th>\n      <th></th>\n      <th></th>\n      <th></th>\n      <th></th>\n      <th></th>\n      <th></th>\n    </tr>\n  </thead>\n  <tbody>\n    <tr>\n      <th>6272 days</th>\n      <td>Washington Federal Bank for Savings</td>\n      <td>Chicago</td>\n      <td>IL</td>\n      <td>30570</td>\n      <td>Royal Savings Bank</td>\n      <td>2017-12-15</td>\n      <td>2017-12-20</td>\n      <td>4</td>\n      <td>2017</td>\n      <td>6272 days</td>\n    </tr>\n    <tr>\n      <th>6209 days</th>\n      <td>The Farmers and Merchants State Bank of Argonia</td>\n      <td>Argonia</td>\n      <td>KS</td>\n      <td>17719</td>\n      <td>Conway Bank</td>\n      <td>2017-10-13</td>\n      <td>2017-10-20</td>\n      <td>4</td>\n      <td>2017</td>\n      <td>6209 days</td>\n    </tr>\n    <tr>\n      <th>6069 days</th>\n      <td>Fayette County Bank</td>\n      <td>Saint Elmo</td>\n      <td>IL</td>\n      <td>1802</td>\n      <td>United Fidelity Bank, fsb</td>\n      <td>2017-05-26</td>\n      <td>2017-07-26</td>\n      <td>2</td>\n      <td>2017</td>\n      <td>6069 days</td>\n    </tr>\n    <tr>\n      <th>6048 days</th>\n      <td>Guaranty Bank, (d/b/a BestBank in Georgia &amp; Mi...</td>\n      <td>Milwaukee</td>\n      <td>WI</td>\n      <td>30003</td>\n      <td>First-Citizens Bank &amp; Trust Company</td>\n      <td>2017-05-05</td>\n      <td>2017-07-26</td>\n      <td>2</td>\n      <td>2017</td>\n      <td>6048 days</td>\n    </tr>\n    <tr>\n      <th>6041 days</th>\n      <td>First NBC Bank</td>\n      <td>New Orleans</td>\n      <td>LA</td>\n      <td>58302</td>\n      <td>Whitney Bank</td>\n      <td>2017-04-28</td>\n      <td>2017-12-05</td>\n      <td>2</td>\n      <td>2017</td>\n      <td>6041 days</td>\n    </tr>\n    <tr>\n      <th>5985 days</th>\n      <td>Proficio Bank</td>\n      <td>Cottonwood Heights</td>\n      <td>UT</td>\n      <td>35495</td>\n      <td>Cache Valley Bank</td>\n      <td>2017-03-03</td>\n      <td>2017-05-18</td>\n      <td>1</td>\n      <td>2017</td>\n      <td>5985 days</td>\n    </tr>\n    <tr>\n      <th>5950 days</th>\n      <td>Seaway Bank and Trust Company</td>\n      <td>Chicago</td>\n      <td>IL</td>\n      <td>19328</td>\n      <td>State Bank of Texas</td>\n      <td>2017-01-27</td>\n      <td>2017-05-18</td>\n      <td>1</td>\n      <td>2017</td>\n      <td>5950 days</td>\n    </tr>\n    <tr>\n      <th>5936 days</th>\n      <td>Harvest Community Bank</td>\n      <td>Pennsville</td>\n      <td>NJ</td>\n      <td>34951</td>\n      <td>First-Citizens Bank &amp; Trust Company</td>\n      <td>2017-01-13</td>\n      <td>2017-05-18</td>\n      <td>1</td>\n      <td>2017</td>\n      <td>5936 days</td>\n    </tr>\n    <tr>\n      <th>5824 days</th>\n      <td>Allied Bank</td>\n      <td>Mulberry</td>\n      <td>AR</td>\n      <td>91</td>\n      <td>Today's Bank</td>\n      <td>2016-09-23</td>\n      <td>2017-09-25</td>\n      <td>3</td>\n      <td>2016</td>\n      <td>5824 days</td>\n    </tr>\n    <tr>\n      <th>5789 days</th>\n      <td>The Woodbury Banking Company</td>\n      <td>Woodbury</td>\n      <td>GA</td>\n      <td>11297</td>\n      <td>United Bank</td>\n      <td>2016-08-19</td>\n      <td>2017-06-01</td>\n      <td>3</td>\n      <td>2016</td>\n      <td>5789 days</td>\n    </tr>\n    <tr>\n      <th>5684 days</th>\n      <td>First CornerStone Bank</td>\n      <td>King of Prussia</td>\n      <td>PA</td>\n      <td>35312</td>\n      <td>First-Citizens Bank &amp; Trust Company</td>\n      <td>2016-05-06</td>\n      <td>2016-09-06</td>\n      <td>2</td>\n      <td>2016</td>\n      <td>5684 days</td>\n    </tr>\n    <tr>\n      <th>5677 days</th>\n      <td>Trust Company Bank</td>\n      <td>Memphis</td>\n      <td>TN</td>\n      <td>9956</td>\n      <td>The Bank of Fayette County</td>\n      <td>2016-04-29</td>\n      <td>2016-09-06</td>\n      <td>2</td>\n      <td>2016</td>\n      <td>5677 days</td>\n    </tr>\n    <tr>\n      <th>5628 days</th>\n      <td>North Milwaukee State Bank</td>\n      <td>Milwaukee</td>\n      <td>WI</td>\n      <td>20364</td>\n      <td>First-Citizens Bank &amp; Trust Company</td>\n      <td>2016-03-11</td>\n      <td>2017-03-13</td>\n      <td>1</td>\n      <td>2016</td>\n      <td>5628 days</td>\n    </tr>\n    <tr>\n      <th>5467 days</th>\n      <td>Hometown National Bank</td>\n      <td>Longview</td>\n      <td>WA</td>\n      <td>35156</td>\n      <td>Twin City Bank</td>\n      <td>2015-10-02</td>\n      <td>2018-01-12</td>\n      <td>4</td>\n      <td>2015</td>\n      <td>5467 days</td>\n    </tr>\n    <tr>\n      <th>5467 days</th>\n      <td>The Bank of Georgia</td>\n      <td>Peachtree City</td>\n      <td>GA</td>\n      <td>35259</td>\n      <td>Fidelity Bank</td>\n      <td>2015-10-02</td>\n      <td>2016-10-24</td>\n      <td>4</td>\n      <td>2015</td>\n      <td>5467 days</td>\n    </tr>\n    <tr>\n      <th>5383 days</th>\n      <td>Premier Bank</td>\n      <td>Denver</td>\n      <td>CO</td>\n      <td>34112</td>\n      <td>United Fidelity Bank, fsb</td>\n      <td>2015-07-10</td>\n      <td>2016-08-17</td>\n      <td>3</td>\n      <td>2015</td>\n      <td>5383 days</td>\n    </tr>\n    <tr>\n      <th>5320 days</th>\n      <td>Edgebrook Bank</td>\n      <td>Chicago</td>\n      <td>IL</td>\n      <td>57772</td>\n      <td>Republic Bank of Chicago</td>\n      <td>2015-05-08</td>\n      <td>2016-07-12</td>\n      <td>2</td>\n      <td>2015</td>\n      <td>5320 days</td>\n    </tr>\n    <tr>\n      <th>5250 days</th>\n      <td>Doral Bank</td>\n      <td>San Juan</td>\n      <td>PR</td>\n      <td>32102</td>\n      <td>Banco Popular de Puerto Rico</td>\n      <td>2015-02-27</td>\n      <td>2015-05-13</td>\n      <td>1</td>\n      <td>2015</td>\n      <td>5250 days</td>\n    </tr>\n    <tr>\n      <th>5236 days</th>\n      <td>Capitol City Bank &amp; Trust Company</td>\n      <td>Atlanta</td>\n      <td>GA</td>\n      <td>33938</td>\n      <td>First-Citizens Bank &amp; Trust Company</td>\n      <td>2015-02-13</td>\n      <td>2015-04-21</td>\n      <td>1</td>\n      <td>2015</td>\n      <td>5236 days</td>\n    </tr>\n    <tr>\n      <th>5215 days</th>\n      <td>Highland Community Bank</td>\n      <td>Chicago</td>\n      <td>IL</td>\n      <td>20290</td>\n      <td>United Fidelity Bank, fsb</td>\n      <td>2015-01-23</td>\n      <td>2017-11-15</td>\n      <td>1</td>\n      <td>2015</td>\n      <td>5215 days</td>\n    </tr>\n    <tr>\n      <th>5208 days</th>\n      <td>First National Bank of Crestview</td>\n      <td>Crestview</td>\n      <td>FL</td>\n      <td>17557</td>\n      <td>First NBC Bank</td>\n      <td>2015-01-16</td>\n      <td>2017-11-15</td>\n      <td>1</td>\n      <td>2015</td>\n      <td>5208 days</td>\n    </tr>\n    <tr>\n      <th>5180 days</th>\n      <td>Northern Star Bank</td>\n      <td>Mankato</td>\n      <td>MN</td>\n      <td>34983</td>\n      <td>BankVista</td>\n      <td>2014-12-19</td>\n      <td>2018-01-03</td>\n      <td>4</td>\n      <td>2014</td>\n      <td>5180 days</td>\n    </tr>\n    <tr>\n      <th>5138 days</th>\n      <td>Frontier Bank, FSB D/B/A El Paseo Bank</td>\n      <td>Palm Desert</td>\n      <td>CA</td>\n      <td>34738</td>\n      <td>Bank of Southern California, N.A.</td>\n      <td>2014-11-07</td>\n      <td>2016-11-10</td>\n      <td>4</td>\n      <td>2014</td>\n      <td>5138 days</td>\n    </tr>\n    <tr>\n      <th>5124 days</th>\n      <td>The National Republic Bank of Chicago</td>\n      <td>Chicago</td>\n      <td>IL</td>\n      <td>916</td>\n      <td>State Bank of Texas</td>\n      <td>2014-10-24</td>\n      <td>2016-01-06</td>\n      <td>4</td>\n      <td>2014</td>\n      <td>5124 days</td>\n    </tr>\n    <tr>\n      <th>5117 days</th>\n      <td>NBRS Financial</td>\n      <td>Rising Sun</td>\n      <td>MD</td>\n      <td>4862</td>\n      <td>Howard Bank</td>\n      <td>2014-10-17</td>\n      <td>2018-01-12</td>\n      <td>4</td>\n      <td>2014</td>\n      <td>5117 days</td>\n    </tr>\n    <tr>\n      <th>5033 days</th>\n      <td>GreenChoice Bank, fsb</td>\n      <td>Chicago</td>\n      <td>IL</td>\n      <td>28462</td>\n      <td>Providence Bank, LLC</td>\n      <td>2014-07-25</td>\n      <td>2016-12-12</td>\n      <td>3</td>\n      <td>2014</td>\n      <td>5033 days</td>\n    </tr>\n    <tr>\n      <th>5026 days</th>\n      <td>Eastside Commercial Bank</td>\n      <td>Conyers</td>\n      <td>GA</td>\n      <td>58125</td>\n      <td>Community &amp; Southern Bank</td>\n      <td>2014-07-18</td>\n      <td>2017-10-06</td>\n      <td>3</td>\n      <td>2014</td>\n      <td>5026 days</td>\n    </tr>\n    <tr>\n      <th>5005 days</th>\n      <td>The Freedom State Bank</td>\n      <td>Freedom</td>\n      <td>OK</td>\n      <td>12483</td>\n      <td>Alva State Bank &amp; Trust Company</td>\n      <td>2014-06-27</td>\n      <td>2016-03-25</td>\n      <td>2</td>\n      <td>2014</td>\n      <td>5005 days</td>\n    </tr>\n    <tr>\n      <th>4998 days</th>\n      <td>Valley Bank</td>\n      <td>Fort Lauderdale</td>\n      <td>FL</td>\n      <td>21793</td>\n      <td>Landmark Bank, National Association</td>\n      <td>2014-06-20</td>\n      <td>2017-10-06</td>\n      <td>2</td>\n      <td>2014</td>\n      <td>4998 days</td>\n    </tr>\n    <tr>\n      <th>4998 days</th>\n      <td>Valley Bank</td>\n      <td>Moline</td>\n      <td>IL</td>\n      <td>10450</td>\n      <td>Great Southern Bank</td>\n      <td>2014-06-20</td>\n      <td>2015-06-26</td>\n      <td>2</td>\n      <td>2014</td>\n      <td>4998 days</td>\n    </tr>\n    <tr>\n      <th>...</th>\n      <td>...</td>\n      <td>...</td>\n      <td>...</td>\n      <td>...</td>\n      <td>...</td>\n      <td>...</td>\n      <td>...</td>\n      <td>...</td>\n      <td>...</td>\n      <td>...</td>\n    </tr>\n    <tr>\n      <th>2765 days</th>\n      <td>ANB Financial, NA</td>\n      <td>Bentonville</td>\n      <td>AR</td>\n      <td>33901</td>\n      <td>Pulaski Bank and Trust Company</td>\n      <td>2008-05-09</td>\n      <td>2012-08-28</td>\n      <td>2</td>\n      <td>2008</td>\n      <td>2765 days</td>\n    </tr>\n    <tr>\n      <th>2702 days</th>\n      <td>Hume Bank</td>\n      <td>Hume</td>\n      <td>MO</td>\n      <td>1971</td>\n      <td>Security Bank</td>\n      <td>2008-03-07</td>\n      <td>2012-08-28</td>\n      <td>1</td>\n      <td>2008</td>\n      <td>2702 days</td>\n    </tr>\n    <tr>\n      <th>2660 days</th>\n      <td>Douglass National Bank</td>\n      <td>Kansas City</td>\n      <td>MO</td>\n      <td>24660</td>\n      <td>Liberty Bank and Trust Company</td>\n      <td>2008-01-25</td>\n      <td>2012-10-26</td>\n      <td>1</td>\n      <td>2008</td>\n      <td>2660 days</td>\n    </tr>\n    <tr>\n      <th>2547 days</th>\n      <td>Miami Valley Bank</td>\n      <td>Lakeview</td>\n      <td>OH</td>\n      <td>16848</td>\n      <td>The Citizens Banking Company</td>\n      <td>2007-10-04</td>\n      <td>2016-09-12</td>\n      <td>4</td>\n      <td>2007</td>\n      <td>2547 days</td>\n    </tr>\n    <tr>\n      <th>2541 days</th>\n      <td>NetBank</td>\n      <td>Alpharetta</td>\n      <td>GA</td>\n      <td>32575</td>\n      <td>ING DIRECT</td>\n      <td>2007-09-28</td>\n      <td>2012-08-28</td>\n      <td>3</td>\n      <td>2007</td>\n      <td>2541 days</td>\n    </tr>\n    <tr>\n      <th>2303 days</th>\n      <td>Metropolitan Savings Bank</td>\n      <td>Pittsburgh</td>\n      <td>PA</td>\n      <td>35353</td>\n      <td>Allegheny Valley Bank of Pittsburgh</td>\n      <td>2007-02-02</td>\n      <td>2010-10-27</td>\n      <td>1</td>\n      <td>2007</td>\n      <td>2303 days</td>\n    </tr>\n    <tr>\n      <th>1351 days</th>\n      <td>Bank of Ephraim</td>\n      <td>Ephraim</td>\n      <td>UT</td>\n      <td>1249</td>\n      <td>Far West Bank</td>\n      <td>2004-06-25</td>\n      <td>2008-04-09</td>\n      <td>2</td>\n      <td>2004</td>\n      <td>1351 days</td>\n    </tr>\n    <tr>\n      <th>1253 days</th>\n      <td>Reliance Bank</td>\n      <td>White Plains</td>\n      <td>NY</td>\n      <td>26778</td>\n      <td>Union State Bank</td>\n      <td>2004-03-19</td>\n      <td>2008-04-09</td>\n      <td>1</td>\n      <td>2004</td>\n      <td>1253 days</td>\n    </tr>\n    <tr>\n      <th>1246 days</th>\n      <td>Guaranty National Bank of Tallahassee</td>\n      <td>Tallahassee</td>\n      <td>FL</td>\n      <td>26838</td>\n      <td>Hancock Bank of Florida</td>\n      <td>2004-03-12</td>\n      <td>2012-06-05</td>\n      <td>1</td>\n      <td>2004</td>\n      <td>1246 days</td>\n    </tr>\n    <tr>\n      <th>1219 days</th>\n      <td>Dollar Savings Bank</td>\n      <td>Newark</td>\n      <td>NJ</td>\n      <td>31330</td>\n      <td>No Acquirer</td>\n      <td>2004-02-14</td>\n      <td>2008-04-09</td>\n      <td>1</td>\n      <td>2004</td>\n      <td>1219 days</td>\n    </tr>\n    <tr>\n      <th>1127 days</th>\n      <td>Pulaski Savings Bank</td>\n      <td>Philadelphia</td>\n      <td>PA</td>\n      <td>27203</td>\n      <td>Earthstar Bank</td>\n      <td>2003-11-14</td>\n      <td>2017-10-06</td>\n      <td>4</td>\n      <td>2003</td>\n      <td>1127 days</td>\n    </tr>\n    <tr>\n      <th>938 days</th>\n      <td>First National Bank of Blanchardville</td>\n      <td>Blanchardville</td>\n      <td>WI</td>\n      <td>11639</td>\n      <td>The Park Bank</td>\n      <td>2003-05-09</td>\n      <td>2012-06-05</td>\n      <td>2</td>\n      <td>2003</td>\n      <td>938 days</td>\n    </tr>\n    <tr>\n      <th>847 days</th>\n      <td>Southern Pacific Bank</td>\n      <td>Torrance</td>\n      <td>CA</td>\n      <td>27094</td>\n      <td>Beal Bank</td>\n      <td>2003-02-07</td>\n      <td>2008-10-20</td>\n      <td>1</td>\n      <td>2003</td>\n      <td>847 days</td>\n    </tr>\n    <tr>\n      <th>795 days</th>\n      <td>Farmers Bank of Cheneyville</td>\n      <td>Cheneyville</td>\n      <td>LA</td>\n      <td>16445</td>\n      <td>Sabine State Bank &amp; Trust</td>\n      <td>2002-12-17</td>\n      <td>2004-10-20</td>\n      <td>4</td>\n      <td>2002</td>\n      <td>795 days</td>\n    </tr>\n    <tr>\n      <th>756 days</th>\n      <td>Bank of Alamo</td>\n      <td>Alamo</td>\n      <td>TN</td>\n      <td>9961</td>\n      <td>No Acquirer</td>\n      <td>2002-11-08</td>\n      <td>2005-03-18</td>\n      <td>4</td>\n      <td>2002</td>\n      <td>756 days</td>\n    </tr>\n    <tr>\n      <th>717 days</th>\n      <td>AmTrade International Bank</td>\n      <td>Atlanta</td>\n      <td>GA</td>\n      <td>33784</td>\n      <td>No Acquirer</td>\n      <td>2002-09-30</td>\n      <td>2006-09-11</td>\n      <td>3</td>\n      <td>2002</td>\n      <td>717 days</td>\n    </tr>\n    <tr>\n      <th>622 days</th>\n      <td>Universal Federal Savings Bank</td>\n      <td>Chicago</td>\n      <td>IL</td>\n      <td>29355</td>\n      <td>Chicago Community Bank</td>\n      <td>2002-06-27</td>\n      <td>2017-10-06</td>\n      <td>2</td>\n      <td>2002</td>\n      <td>622 days</td>\n    </tr>\n    <tr>\n      <th>621 days</th>\n      <td>Connecticut Bank of Commerce</td>\n      <td>Stamford</td>\n      <td>CT</td>\n      <td>19183</td>\n      <td>Hudson United Bank</td>\n      <td>2002-06-26</td>\n      <td>2012-02-14</td>\n      <td>2</td>\n      <td>2002</td>\n      <td>621 days</td>\n    </tr>\n    <tr>\n      <th>531 days</th>\n      <td>New Century Bank</td>\n      <td>Shelby Township</td>\n      <td>MI</td>\n      <td>34979</td>\n      <td>No Acquirer</td>\n      <td>2002-03-28</td>\n      <td>2005-03-18</td>\n      <td>1</td>\n      <td>2002</td>\n      <td>531 days</td>\n    </tr>\n    <tr>\n      <th>504 days</th>\n      <td>Net 1st National Bank</td>\n      <td>Boca Raton</td>\n      <td>FL</td>\n      <td>26652</td>\n      <td>Bank Leumi USA</td>\n      <td>2002-03-01</td>\n      <td>2008-04-09</td>\n      <td>1</td>\n      <td>2002</td>\n      <td>504 days</td>\n    </tr>\n    <tr>\n      <th>482 days</th>\n      <td>NextBank, NA</td>\n      <td>Phoenix</td>\n      <td>AZ</td>\n      <td>22314</td>\n      <td>No Acquirer</td>\n      <td>2002-02-07</td>\n      <td>2015-02-05</td>\n      <td>1</td>\n      <td>2002</td>\n      <td>482 days</td>\n    </tr>\n    <tr>\n      <th>476 days</th>\n      <td>Oakwood Deposit Bank Co.</td>\n      <td>Oakwood</td>\n      <td>OH</td>\n      <td>8966</td>\n      <td>The State Bank &amp; Trust Company</td>\n      <td>2002-02-01</td>\n      <td>2012-10-25</td>\n      <td>1</td>\n      <td>2002</td>\n      <td>476 days</td>\n    </tr>\n    <tr>\n      <th>462 days</th>\n      <td>Bank of Sierra Blanca</td>\n      <td>Sierra Blanca</td>\n      <td>TX</td>\n      <td>22002</td>\n      <td>The Security State Bank of Pecos</td>\n      <td>2002-01-18</td>\n      <td>2003-11-06</td>\n      <td>1</td>\n      <td>2002</td>\n      <td>462 days</td>\n    </tr>\n    <tr>\n      <th>455 days</th>\n      <td>Hamilton Bank, NA</td>\n      <td>Miami</td>\n      <td>FL</td>\n      <td>24382</td>\n      <td>Israel Discount Bank of New York</td>\n      <td>2002-01-11</td>\n      <td>2015-09-21</td>\n      <td>1</td>\n      <td>2002</td>\n      <td>455 days</td>\n    </tr>\n    <tr>\n      <th>329 days</th>\n      <td>Sinclair National Bank</td>\n      <td>Gravette</td>\n      <td>AR</td>\n      <td>34248</td>\n      <td>Delta Trust &amp; Bank</td>\n      <td>2001-09-07</td>\n      <td>2017-10-06</td>\n      <td>3</td>\n      <td>2001</td>\n      <td>329 days</td>\n    </tr>\n    <tr>\n      <th>287 days</th>\n      <td>Superior Bank, FSB</td>\n      <td>Hinsdale</td>\n      <td>IL</td>\n      <td>32646</td>\n      <td>Superior Federal, FSB</td>\n      <td>2001-07-27</td>\n      <td>2014-08-19</td>\n      <td>3</td>\n      <td>2001</td>\n      <td>287 days</td>\n    </tr>\n    <tr>\n      <th>202 days</th>\n      <td>Malta National Bank</td>\n      <td>Malta</td>\n      <td>OH</td>\n      <td>6629</td>\n      <td>North Valley Bank</td>\n      <td>2001-05-03</td>\n      <td>2002-11-18</td>\n      <td>2</td>\n      <td>2001</td>\n      <td>202 days</td>\n    </tr>\n    <tr>\n      <th>112 days</th>\n      <td>First Alliance Bank &amp; Trust Co.</td>\n      <td>Manchester</td>\n      <td>NH</td>\n      <td>34264</td>\n      <td>Southern New Hampshire Bank &amp; Trust</td>\n      <td>2001-02-02</td>\n      <td>2003-02-18</td>\n      <td>1</td>\n      <td>2001</td>\n      <td>112 days</td>\n    </tr>\n    <tr>\n      <th>62 days</th>\n      <td>National State Bank of Metropolis</td>\n      <td>Metropolis</td>\n      <td>IL</td>\n      <td>3815</td>\n      <td>Banterra Bank of Marion</td>\n      <td>2000-12-14</td>\n      <td>2005-03-17</td>\n      <td>4</td>\n      <td>2000</td>\n      <td>62 days</td>\n    </tr>\n    <tr>\n      <th>0 days</th>\n      <td>Bank of Honolulu</td>\n      <td>Honolulu</td>\n      <td>HI</td>\n      <td>21029</td>\n      <td>Bank of the Orient</td>\n      <td>2000-10-13</td>\n      <td>2005-03-17</td>\n      <td>4</td>\n      <td>2000</td>\n      <td>0 days</td>\n    </tr>\n  </tbody>\n</table>\n<p>555 rows × 10 columns</p>\n</div>"
     },
     "metadata": {},
     "execution_count": 82
    }
   ],
   "source": [
    "banks.index = banks['ref_date']\n",
    "banks"
   ]
  },
  {
   "cell_type": "code",
   "execution_count": 84,
   "metadata": {},
   "outputs": [
    {
     "output_type": "execute_result",
     "data": {
      "text/plain": "                                  Bank Name   ...    ref_date\nref_date                                      ...            \n287 days                 Superior Bank, FSB   ...    287 days\n202 days                Malta National Bank   ...    202 days\n112 days    First Alliance Bank & Trust Co.   ...    112 days\n62 days   National State Bank of Metropolis   ...     62 days\n0 days                     Bank of Honolulu   ...      0 days\n\n[5 rows x 10 columns]",
      "text/html": "<div>\n<style scoped>\n    .dataframe tbody tr th:only-of-type {\n        vertical-align: middle;\n    }\n\n    .dataframe tbody tr th {\n        vertical-align: top;\n    }\n\n    .dataframe thead th {\n        text-align: right;\n    }\n</style>\n<table border=\"1\" class=\"dataframe\">\n  <thead>\n    <tr style=\"text-align: right;\">\n      <th></th>\n      <th>Bank Name</th>\n      <th>City</th>\n      <th>ST</th>\n      <th>CERT</th>\n      <th>Acquiring Institution</th>\n      <th>Closing Date</th>\n      <th>Updated Date</th>\n      <th>closing_quarter</th>\n      <th>closing_year</th>\n      <th>ref_date</th>\n    </tr>\n    <tr>\n      <th>ref_date</th>\n      <th></th>\n      <th></th>\n      <th></th>\n      <th></th>\n      <th></th>\n      <th></th>\n      <th></th>\n      <th></th>\n      <th></th>\n      <th></th>\n    </tr>\n  </thead>\n  <tbody>\n    <tr>\n      <th>287 days</th>\n      <td>Superior Bank, FSB</td>\n      <td>Hinsdale</td>\n      <td>IL</td>\n      <td>32646</td>\n      <td>Superior Federal, FSB</td>\n      <td>2001-07-27</td>\n      <td>2014-08-19</td>\n      <td>3</td>\n      <td>2001</td>\n      <td>287 days</td>\n    </tr>\n    <tr>\n      <th>202 days</th>\n      <td>Malta National Bank</td>\n      <td>Malta</td>\n      <td>OH</td>\n      <td>6629</td>\n      <td>North Valley Bank</td>\n      <td>2001-05-03</td>\n      <td>2002-11-18</td>\n      <td>2</td>\n      <td>2001</td>\n      <td>202 days</td>\n    </tr>\n    <tr>\n      <th>112 days</th>\n      <td>First Alliance Bank &amp; Trust Co.</td>\n      <td>Manchester</td>\n      <td>NH</td>\n      <td>34264</td>\n      <td>Southern New Hampshire Bank &amp; Trust</td>\n      <td>2001-02-02</td>\n      <td>2003-02-18</td>\n      <td>1</td>\n      <td>2001</td>\n      <td>112 days</td>\n    </tr>\n    <tr>\n      <th>62 days</th>\n      <td>National State Bank of Metropolis</td>\n      <td>Metropolis</td>\n      <td>IL</td>\n      <td>3815</td>\n      <td>Banterra Bank of Marion</td>\n      <td>2000-12-14</td>\n      <td>2005-03-17</td>\n      <td>4</td>\n      <td>2000</td>\n      <td>62 days</td>\n    </tr>\n    <tr>\n      <th>0 days</th>\n      <td>Bank of Honolulu</td>\n      <td>Honolulu</td>\n      <td>HI</td>\n      <td>21029</td>\n      <td>Bank of the Orient</td>\n      <td>2000-10-13</td>\n      <td>2005-03-17</td>\n      <td>4</td>\n      <td>2000</td>\n      <td>0 days</td>\n    </tr>\n  </tbody>\n</table>\n</div>"
     },
     "metadata": {},
     "execution_count": 84
    }
   ],
   "source": [
    "banks['300 days':]"
   ]
  },
  {
   "cell_type": "code",
   "execution_count": 86,
   "metadata": {},
   "outputs": [
    {
     "output_type": "execute_result",
     "data": {
      "text/plain": "        Date  Day        ...          Cases_Liberia  Cases_SierraLeone\n0 2015-01-05  289        ...                    NaN            10030.0\n1 2015-01-04  288        ...                    NaN             9780.0\n2 2015-01-03  287        ...                 8166.0             9722.0\n3 2015-01-02  286        ...                 8157.0                NaN\n4 2014-12-31  284        ...                 8115.0             9633.0\n\n[5 rows x 5 columns]",
      "text/html": "<div>\n<style scoped>\n    .dataframe tbody tr th:only-of-type {\n        vertical-align: middle;\n    }\n\n    .dataframe tbody tr th {\n        vertical-align: top;\n    }\n\n    .dataframe thead th {\n        text-align: right;\n    }\n</style>\n<table border=\"1\" class=\"dataframe\">\n  <thead>\n    <tr style=\"text-align: right;\">\n      <th></th>\n      <th>Date</th>\n      <th>Day</th>\n      <th>Cases_Guinea</th>\n      <th>Cases_Liberia</th>\n      <th>Cases_SierraLeone</th>\n    </tr>\n  </thead>\n  <tbody>\n    <tr>\n      <th>0</th>\n      <td>2015-01-05</td>\n      <td>289</td>\n      <td>2776.0</td>\n      <td>NaN</td>\n      <td>10030.0</td>\n    </tr>\n    <tr>\n      <th>1</th>\n      <td>2015-01-04</td>\n      <td>288</td>\n      <td>2775.0</td>\n      <td>NaN</td>\n      <td>9780.0</td>\n    </tr>\n    <tr>\n      <th>2</th>\n      <td>2015-01-03</td>\n      <td>287</td>\n      <td>2769.0</td>\n      <td>8166.0</td>\n      <td>9722.0</td>\n    </tr>\n    <tr>\n      <th>3</th>\n      <td>2015-01-02</td>\n      <td>286</td>\n      <td>NaN</td>\n      <td>8157.0</td>\n      <td>NaN</td>\n    </tr>\n    <tr>\n      <th>4</th>\n      <td>2014-12-31</td>\n      <td>284</td>\n      <td>2730.0</td>\n      <td>8115.0</td>\n      <td>9633.0</td>\n    </tr>\n  </tbody>\n</table>\n</div>"
     },
     "metadata": {},
     "execution_count": 86
    }
   ],
   "source": [
    "ebola = pd.read_csv('../data/country_timeseries.csv', parse_dates=[0])\n",
    "ebola.iloc[:5, :5]"
   ]
  },
  {
   "cell_type": "code",
   "execution_count": 87,
   "metadata": {},
   "outputs": [
    {
     "output_type": "execute_result",
     "data": {
      "text/plain": "          Date  Day        ...          Cases_Liberia  Cases_SierraLeone\n117 2014-03-27    5        ...                    8.0                6.0\n118 2014-03-26    4        ...                    NaN                NaN\n119 2014-03-25    3        ...                    NaN                NaN\n120 2014-03-24    2        ...                    NaN                NaN\n121 2014-03-22    0        ...                    NaN                NaN\n\n[5 rows x 5 columns]",
      "text/html": "<div>\n<style scoped>\n    .dataframe tbody tr th:only-of-type {\n        vertical-align: middle;\n    }\n\n    .dataframe tbody tr th {\n        vertical-align: top;\n    }\n\n    .dataframe thead th {\n        text-align: right;\n    }\n</style>\n<table border=\"1\" class=\"dataframe\">\n  <thead>\n    <tr style=\"text-align: right;\">\n      <th></th>\n      <th>Date</th>\n      <th>Day</th>\n      <th>Cases_Guinea</th>\n      <th>Cases_Liberia</th>\n      <th>Cases_SierraLeone</th>\n    </tr>\n  </thead>\n  <tbody>\n    <tr>\n      <th>117</th>\n      <td>2014-03-27</td>\n      <td>5</td>\n      <td>103.0</td>\n      <td>8.0</td>\n      <td>6.0</td>\n    </tr>\n    <tr>\n      <th>118</th>\n      <td>2014-03-26</td>\n      <td>4</td>\n      <td>86.0</td>\n      <td>NaN</td>\n      <td>NaN</td>\n    </tr>\n    <tr>\n      <th>119</th>\n      <td>2014-03-25</td>\n      <td>3</td>\n      <td>86.0</td>\n      <td>NaN</td>\n      <td>NaN</td>\n    </tr>\n    <tr>\n      <th>120</th>\n      <td>2014-03-24</td>\n      <td>2</td>\n      <td>86.0</td>\n      <td>NaN</td>\n      <td>NaN</td>\n    </tr>\n    <tr>\n      <th>121</th>\n      <td>2014-03-22</td>\n      <td>0</td>\n      <td>49.0</td>\n      <td>NaN</td>\n      <td>NaN</td>\n    </tr>\n  </tbody>\n</table>\n</div>"
     },
     "metadata": {},
     "execution_count": 87
    }
   ],
   "source": [
    "ebola.iloc[-5:, :5]"
   ]
  },
  {
   "cell_type": "code",
   "execution_count": 88,
   "metadata": {},
   "outputs": [
    {
     "output_type": "stream",
     "name": "stdout",
     "text": "DatetimeIndex(['2014-12-31', '2015-01-01', '2015-01-02', '2015-01-03',\n               '2015-01-04', '2015-01-05'],\n              dtype='datetime64[ns]', freq='D')\n"
    }
   ],
   "source": [
    "head_range = pd.date_range(start='2014-12-31', end='2015-01-05')\n",
    "print(head_range)"
   ]
  },
  {
   "cell_type": "code",
   "execution_count": 89,
   "metadata": {},
   "outputs": [],
   "source": [
    "ebola_5 = ebola.head()"
   ]
  },
  {
   "cell_type": "code",
   "execution_count": 90,
   "metadata": {},
   "outputs": [],
   "source": [
    "ebola_5.index = ebola_5['Date']"
   ]
  },
  {
   "cell_type": "code",
   "execution_count": 91,
   "metadata": {},
   "outputs": [
    {
     "output_type": "execute_result",
     "data": {
      "text/plain": "                 Date    Day     ...       Deaths_Spain  Deaths_Mali\n2014-12-31 2014-12-31  284.0     ...                NaN          NaN\n2015-01-01        NaT    NaN     ...                NaN          NaN\n2015-01-02 2015-01-02  286.0     ...                NaN          NaN\n2015-01-03 2015-01-03  287.0     ...                NaN          NaN\n2015-01-04 2015-01-04  288.0     ...                NaN          NaN\n2015-01-05 2015-01-05  289.0     ...                NaN          NaN\n\n[6 rows x 18 columns]",
      "text/html": "<div>\n<style scoped>\n    .dataframe tbody tr th:only-of-type {\n        vertical-align: middle;\n    }\n\n    .dataframe tbody tr th {\n        vertical-align: top;\n    }\n\n    .dataframe thead th {\n        text-align: right;\n    }\n</style>\n<table border=\"1\" class=\"dataframe\">\n  <thead>\n    <tr style=\"text-align: right;\">\n      <th></th>\n      <th>Date</th>\n      <th>Day</th>\n      <th>Cases_Guinea</th>\n      <th>Cases_Liberia</th>\n      <th>Cases_SierraLeone</th>\n      <th>Cases_Nigeria</th>\n      <th>Cases_Senegal</th>\n      <th>Cases_UnitedStates</th>\n      <th>Cases_Spain</th>\n      <th>Cases_Mali</th>\n      <th>Deaths_Guinea</th>\n      <th>Deaths_Liberia</th>\n      <th>Deaths_SierraLeone</th>\n      <th>Deaths_Nigeria</th>\n      <th>Deaths_Senegal</th>\n      <th>Deaths_UnitedStates</th>\n      <th>Deaths_Spain</th>\n      <th>Deaths_Mali</th>\n    </tr>\n  </thead>\n  <tbody>\n    <tr>\n      <th>2014-12-31</th>\n      <td>2014-12-31</td>\n      <td>284.0</td>\n      <td>2730.0</td>\n      <td>8115.0</td>\n      <td>9633.0</td>\n      <td>NaN</td>\n      <td>NaN</td>\n      <td>NaN</td>\n      <td>NaN</td>\n      <td>NaN</td>\n      <td>1739.0</td>\n      <td>3471.0</td>\n      <td>2827.0</td>\n      <td>NaN</td>\n      <td>NaN</td>\n      <td>NaN</td>\n      <td>NaN</td>\n      <td>NaN</td>\n    </tr>\n    <tr>\n      <th>2015-01-01</th>\n      <td>NaT</td>\n      <td>NaN</td>\n      <td>NaN</td>\n      <td>NaN</td>\n      <td>NaN</td>\n      <td>NaN</td>\n      <td>NaN</td>\n      <td>NaN</td>\n      <td>NaN</td>\n      <td>NaN</td>\n      <td>NaN</td>\n      <td>NaN</td>\n      <td>NaN</td>\n      <td>NaN</td>\n      <td>NaN</td>\n      <td>NaN</td>\n      <td>NaN</td>\n      <td>NaN</td>\n    </tr>\n    <tr>\n      <th>2015-01-02</th>\n      <td>2015-01-02</td>\n      <td>286.0</td>\n      <td>NaN</td>\n      <td>8157.0</td>\n      <td>NaN</td>\n      <td>NaN</td>\n      <td>NaN</td>\n      <td>NaN</td>\n      <td>NaN</td>\n      <td>NaN</td>\n      <td>NaN</td>\n      <td>3496.0</td>\n      <td>NaN</td>\n      <td>NaN</td>\n      <td>NaN</td>\n      <td>NaN</td>\n      <td>NaN</td>\n      <td>NaN</td>\n    </tr>\n    <tr>\n      <th>2015-01-03</th>\n      <td>2015-01-03</td>\n      <td>287.0</td>\n      <td>2769.0</td>\n      <td>8166.0</td>\n      <td>9722.0</td>\n      <td>NaN</td>\n      <td>NaN</td>\n      <td>NaN</td>\n      <td>NaN</td>\n      <td>NaN</td>\n      <td>1767.0</td>\n      <td>3496.0</td>\n      <td>2915.0</td>\n      <td>NaN</td>\n      <td>NaN</td>\n      <td>NaN</td>\n      <td>NaN</td>\n      <td>NaN</td>\n    </tr>\n    <tr>\n      <th>2015-01-04</th>\n      <td>2015-01-04</td>\n      <td>288.0</td>\n      <td>2775.0</td>\n      <td>NaN</td>\n      <td>9780.0</td>\n      <td>NaN</td>\n      <td>NaN</td>\n      <td>NaN</td>\n      <td>NaN</td>\n      <td>NaN</td>\n      <td>1781.0</td>\n      <td>NaN</td>\n      <td>2943.0</td>\n      <td>NaN</td>\n      <td>NaN</td>\n      <td>NaN</td>\n      <td>NaN</td>\n      <td>NaN</td>\n    </tr>\n    <tr>\n      <th>2015-01-05</th>\n      <td>2015-01-05</td>\n      <td>289.0</td>\n      <td>2776.0</td>\n      <td>NaN</td>\n      <td>10030.0</td>\n      <td>NaN</td>\n      <td>NaN</td>\n      <td>NaN</td>\n      <td>NaN</td>\n      <td>NaN</td>\n      <td>1786.0</td>\n      <td>NaN</td>\n      <td>2977.0</td>\n      <td>NaN</td>\n      <td>NaN</td>\n      <td>NaN</td>\n      <td>NaN</td>\n      <td>NaN</td>\n    </tr>\n  </tbody>\n</table>\n</div>"
     },
     "metadata": {},
     "execution_count": 91
    }
   ],
   "source": [
    "ebola_5.reindex(head_range)"
   ]
  },
  {
   "cell_type": "code",
   "execution_count": 92,
   "metadata": {},
   "outputs": [
    {
     "output_type": "execute_result",
     "data": {
      "text/plain": "Empty DataFrame\nColumns: [Date, Day, Cases_Guinea, Cases_Liberia, Cases_SierraLeone, Cases_Nigeria, Cases_Senegal, Cases_UnitedStates, Cases_Spain, Cases_Mali, Deaths_Guinea, Deaths_Liberia, Deaths_SierraLeone, Deaths_Nigeria, Deaths_Senegal, Deaths_UnitedStates, Deaths_Spain, Deaths_Mali]\nIndex: []",
      "text/html": "<div>\n<style scoped>\n    .dataframe tbody tr th:only-of-type {\n        vertical-align: middle;\n    }\n\n    .dataframe tbody tr th {\n        vertical-align: top;\n    }\n\n    .dataframe thead th {\n        text-align: right;\n    }\n</style>\n<table border=\"1\" class=\"dataframe\">\n  <thead>\n    <tr style=\"text-align: right;\">\n      <th></th>\n      <th>Date</th>\n      <th>Day</th>\n      <th>Cases_Guinea</th>\n      <th>Cases_Liberia</th>\n      <th>Cases_SierraLeone</th>\n      <th>Cases_Nigeria</th>\n      <th>Cases_Senegal</th>\n      <th>Cases_UnitedStates</th>\n      <th>Cases_Spain</th>\n      <th>Cases_Mali</th>\n      <th>Deaths_Guinea</th>\n      <th>Deaths_Liberia</th>\n      <th>Deaths_SierraLeone</th>\n      <th>Deaths_Nigeria</th>\n      <th>Deaths_Senegal</th>\n      <th>Deaths_UnitedStates</th>\n      <th>Deaths_Spain</th>\n      <th>Deaths_Mali</th>\n    </tr>\n    <tr>\n      <th>Date</th>\n      <th></th>\n      <th></th>\n      <th></th>\n      <th></th>\n      <th></th>\n      <th></th>\n      <th></th>\n      <th></th>\n      <th></th>\n      <th></th>\n      <th></th>\n      <th></th>\n      <th></th>\n      <th></th>\n      <th></th>\n      <th></th>\n      <th></th>\n      <th></th>\n    </tr>\n  </thead>\n  <tbody>\n  </tbody>\n</table>\n</div>"
     },
     "metadata": {},
     "execution_count": 92
    }
   ],
   "source": [
    "ebola_5['2015-01-01']"
   ]
  },
  {
   "cell_type": "code",
   "execution_count": 93,
   "metadata": {},
   "outputs": [
    {
     "output_type": "stream",
     "name": "stdout",
     "text": "DatetimeIndex(['2020-05-13', '2020-05-14', '2020-05-15', '2020-05-18',\n               '2020-05-19', '2020-05-20'],\n              dtype='datetime64[ns]', freq='B')\n"
    }
   ],
   "source": [
    "print(pd.date_range('2020-05-13', '2020-05-20', freq='B'))"
   ]
  },
  {
   "cell_type": "code",
   "execution_count": null,
   "metadata": {},
   "outputs": [],
   "source": []
  }
 ],
 "metadata": {
  "language_info": {
   "codemirror_mode": {
    "name": "ipython",
    "version": 3
   },
   "file_extension": ".py",
   "mimetype": "text/x-python",
   "name": "python",
   "nbconvert_exporter": "python",
   "pygments_lexer": "ipython3",
   "version": "3.7.1-final"
  },
  "orig_nbformat": 2,
  "kernelspec": {
   "name": "python37164bitbaseconda83a7e5714e534d4591eb96c2ef4f502c",
   "display_name": "Python 3.7.1 64-bit ('base': conda)"
  }
 },
 "nbformat": 4,
 "nbformat_minor": 2
}