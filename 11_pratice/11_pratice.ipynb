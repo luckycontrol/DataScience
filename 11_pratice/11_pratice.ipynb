{
  "cells": [
    {
      "cell_type": "code",
      "execution_count": null,
      "metadata": {},
      "outputs": [],
      "source": [
        "import pandas as pd\n",
        "import numpy as np\n",
        "import seaborn as sns"
      ]
    },
    {
      "cell_type": "markdown",
      "metadata": {},
      "source": [
        "# groupby 메서드로 평균값 구하기"
      ]
    },
    {
      "cell_type": "code",
      "execution_count": null,
      "metadata": {},
      "outputs": [],
      "source": [
        "df = pd.read_csv('../data/gapminder.tsv', sep='\\t')"
      ]
    },
    {
      "cell_type": "code",
      "execution_count": null,
      "metadata": {},
      "outputs": [],
      "source": [
        "df.groupby('year').lifeExp.mean()"
      ]
    },
    {
      "cell_type": "markdown",
      "metadata": {},
      "source": [
        "# 분할-반영-결합 과정 살펴보기"
      ]
    },
    {
      "cell_type": "code",
      "execution_count": null,
      "metadata": {},
      "outputs": [],
      "source": [
        "# 1952, 1957, 1962, 2007년의 lifeExp 평균 구하기\n",
        "y1952 = df.loc[df.year == 1952, :]\n",
        "y1957 = df.loc[df.year == 1957, :]\n",
        "y1962 = df.loc[df.year == 1962, :]\n",
        "y2007 = df.loc[df.year == 2007, :]"
      ]
    },
    {
      "cell_type": "code",
      "execution_count": null,
      "metadata": {},
      "outputs": [],
      "source": [
        "y1952_mean = y1952.lifeExp.mean()\n",
        "y1957_mean = y1957.lifeExp.mean()\n",
        "y1962_mean = y1962.lifeExp.mean()\n",
        "y2007_mean = y2007.lifeExp.mean()"
      ]
    },
    {
      "cell_type": "code",
      "execution_count": null,
      "metadata": {},
      "outputs": [],
      "source": [
        "pd.DataFrame({\n",
        "    \"year\" : [1952, 1957, 1962, 2007],\n",
        "    'lifeExp mean' : [y1952_mean, y1957_mean, y1962_mean, y2007_mean]\n",
        "})"
      ]
    },
    {
      "cell_type": "markdown",
      "metadata": {},
      "source": [
        "# 평균값을 구하는 사용자 함수와 groupby 메서드"
      ]
    },
    {
      "cell_type": "code",
      "execution_count": null,
      "metadata": {},
      "outputs": [],
      "source": [
        "# 평균을 반환하는 함수\n",
        "def get_mean(values):\n",
        "    sum = 0\n",
        "\n",
        "    for value in values:\n",
        "        sum += value\n",
        "    return sum / len(values)"
      ]
    },
    {
      "cell_type": "code",
      "execution_count": null,
      "metadata": {},
      "outputs": [],
      "source": [
        "# 각 년도에서 lifeExp의 평균 구하기\n",
        "df.groupby('year').lifeExp.agg(get_mean)"
      ]
    },
    {
      "cell_type": "markdown",
      "metadata": {},
      "source": [
        "# 두 개의 인잣값을 받아 처리하는 사용자 함수와 groupby 메서드"
      ]
    },
    {
      "cell_type": "code",
      "execution_count": null,
      "metadata": {},
      "outputs": [],
      "source": [
        "# 전체 lifeExp의 평균에서 각 년도의 lifeExp평균을 뺀 값을 반환하는 함수\n",
        "def get_mean_diff(values, lifeExp_mean):\n",
        "    sum = 0\n",
        "    for value in values:\n",
        "        sum += value\n",
        "    return (sum / len(values)) - lifeExp_mean"
      ]
    },
    {
      "cell_type": "code",
      "execution_count": null,
      "metadata": {},
      "outputs": [],
      "source": [
        "lifeExp_mean = df.lifeExp.mean()"
      ]
    },
    {
      "cell_type": "code",
      "execution_count": null,
      "metadata": {},
      "outputs": [],
      "source": [
        "df.groupby('year').lifeExp.agg(get_mean_diff, lifeExp_mean=lifeExp_mean)"
      ]
    },
    {
      "cell_type": "markdown",
      "metadata": {},
      "source": [
        "# 집계 메서드를 리스트, 딕셔너리에 담아 전달하기"
      ]
    },
    {
      "cell_type": "code",
      "execution_count": null,
      "metadata": {},
      "outputs": [],
      "source": [
        "df.groupby('year').lifeExp.agg([np.count_nonzero, np.mean, np.std])"
      ]
    },
    {
      "cell_type": "markdown",
      "metadata": {},
      "source": [
        "# 표준 점수 계산하기"
      ]
    },
    {
      "cell_type": "code",
      "execution_count": null,
      "metadata": {},
      "outputs": [],
      "source": [
        "df.groupby('year').agg({\n",
        "    'lifeExp' : 'median'\n",
        "}).head()"
      ]
    },
    {
      "cell_type": "markdown",
      "metadata": {},
      "source": [
        "# 누락값을 평균값으로 처리하기"
      ]
    },
    {
      "cell_type": "code",
      "execution_count": null,
      "metadata": {},
      "outputs": [],
      "source": [
        "# lifeExp 열에서 Null값을 lifeExp의 평균값으로 대체합니다.\n",
        "lifeExp_mean = df.lifeExp.mean()\n",
        "df.lifeExp.fillna(lifeExp_mean)"
      ]
    },
    {
      "cell_type": "markdown",
      "metadata": {},
      "source": [
        "# 데이터 필터링 사용하기 ─ filter 메서드"
      ]
    },
    {
      "cell_type": "code",
      "execution_count": null,
      "metadata": {},
      "outputs": [],
      "source": [
        "tips = sns.load_dataset('tips')"
      ]
    },
    {
      "cell_type": "code",
      "execution_count": 60,
      "metadata": {},
      "outputs": [],
      "source": [
        "tips_filtered = tips.groupby('size').filter(lambda x: x['size'].count() >= 30)"
      ]
    },
    {
      "cell_type": "code",
      "execution_count": 61,
      "metadata": {},
      "outputs": [
        {
          "output_type": "execute_result",
          "data": {
            "text/plain": "2    156\n3     38\n4     37\nName: size, dtype: int64"
          },
          "metadata": {},
          "execution_count": 61
        }
      ],
      "source": [
        "tips_filtered['size'].value_counts()"
      ]
    },
    {
      "cell_type": "markdown",
      "metadata": {},
      "source": [
        "# 그룹 오브젝트 저장하여 살펴보기"
      ]
    },
    {
      "cell_type": "code",
      "execution_count": 62,
      "metadata": {},
      "outputs": [
        {
          "output_type": "execute_result",
          "data": {
            "text/plain": "{'Male': Int64Index([  1,   2,   3,   5,   6,   7,   8,   9,  10,  12,\n             ...\n             231, 232, 233, 234, 235, 236, 237, 239, 241, 242],\n            dtype='int64', length=157),\n 'Female': Int64Index([  0,   4,  11,  14,  16,  18,  21,  22,  29,  32,  33,  37,  51,\n              52,  57,  66,  67,  71,  72,  73,  74,  82,  85,  92,  93,  94,\n             100, 101, 102, 103, 104, 109, 111, 114, 115, 117, 118, 119, 121,\n             124, 125, 127, 128, 131, 132, 133, 134, 135, 136, 137, 139, 140,\n             143, 144, 145, 146, 147, 155, 157, 158, 162, 164, 168, 169, 178,\n             186, 188, 191, 197, 198, 201, 202, 203, 205, 209, 213, 214, 215,\n             219, 221, 223, 225, 226, 229, 238, 240, 243],\n            dtype='int64')}"
          },
          "metadata": {},
          "execution_count": 62
        }
      ],
      "source": [
        "group = tips.groupby('sex')\n",
        "group.groups"
      ]
    },
    {
      "cell_type": "markdown",
      "metadata": {},
      "source": [
        "# 그룹 오브젝트의 평균 구하기"
      ]
    },
    {
      "cell_type": "code",
      "execution_count": 63,
      "metadata": {},
      "outputs": [
        {
          "output_type": "execute_result",
          "data": {
            "text/plain": "        total_bill       tip      size\nsex                                   \nMale     20.744076  3.089618  2.630573\nFemale   18.056897  2.833448  2.459770",
            "text/html": "<div>\n<style scoped>\n    .dataframe tbody tr th:only-of-type {\n        vertical-align: middle;\n    }\n\n    .dataframe tbody tr th {\n        vertical-align: top;\n    }\n\n    .dataframe thead th {\n        text-align: right;\n    }\n</style>\n<table border=\"1\" class=\"dataframe\">\n  <thead>\n    <tr style=\"text-align: right;\">\n      <th></th>\n      <th>total_bill</th>\n      <th>tip</th>\n      <th>size</th>\n    </tr>\n    <tr>\n      <th>sex</th>\n      <th></th>\n      <th></th>\n      <th></th>\n    </tr>\n  </thead>\n  <tbody>\n    <tr>\n      <th>Male</th>\n      <td>20.744076</td>\n      <td>3.089618</td>\n      <td>2.630573</td>\n    </tr>\n    <tr>\n      <th>Female</th>\n      <td>18.056897</td>\n      <td>2.833448</td>\n      <td>2.459770</td>\n    </tr>\n  </tbody>\n</table>\n</div>"
          },
          "metadata": {},
          "execution_count": 63
        }
      ],
      "source": [
        "group.mean()"
      ]
    },
    {
      "cell_type": "markdown",
      "metadata": {},
      "source": [
        "# 그룹 오브젝트에서 데이터 추출하고 반복하기"
      ]
    },
    {
      "cell_type": "code",
      "execution_count": 64,
      "metadata": {},
      "outputs": [
        {
          "output_type": "stream",
          "name": "stdout",
          "text": "total_bill   tip     sex smoker  day    time  size\n0        16.99  1.01  Female     No  Sun  Dinner     2\n4        24.59  3.61  Female     No  Sun  Dinner     4\n11       35.26  5.00  Female     No  Sun  Dinner     4\n14       14.83  3.02  Female     No  Sun  Dinner     2\n16       10.33  1.67  Female     No  Sun  Dinner     3\n"
        }
      ],
      "source": [
        "# 무엇을 반복해야하는지 모르겠습니다.\n",
        "female = group.get_group('Female')\n",
        "print(female.head())"
      ]
    },
    {
      "cell_type": "markdown",
      "metadata": {},
      "source": [
        "# 그룹 오브젝트 계산하고 살펴보기"
      ]
    },
    {
      "cell_type": "code",
      "execution_count": 65,
      "metadata": {},
      "outputs": [
        {
          "output_type": "execute_result",
          "data": {
            "text/plain": "      sex    time  total_bill       tip      size\n0    Male   Lunch   18.048485  2.882121  2.363636\n1    Male  Dinner   21.461452  3.144839  2.701613\n2  Female   Lunch   16.339143  2.582857  2.457143\n3  Female  Dinner   19.213077  3.002115  2.461538",
            "text/html": "<div>\n<style scoped>\n    .dataframe tbody tr th:only-of-type {\n        vertical-align: middle;\n    }\n\n    .dataframe tbody tr th {\n        vertical-align: top;\n    }\n\n    .dataframe thead th {\n        text-align: right;\n    }\n</style>\n<table border=\"1\" class=\"dataframe\">\n  <thead>\n    <tr style=\"text-align: right;\">\n      <th></th>\n      <th>sex</th>\n      <th>time</th>\n      <th>total_bill</th>\n      <th>tip</th>\n      <th>size</th>\n    </tr>\n  </thead>\n  <tbody>\n    <tr>\n      <th>0</th>\n      <td>Male</td>\n      <td>Lunch</td>\n      <td>18.048485</td>\n      <td>2.882121</td>\n      <td>2.363636</td>\n    </tr>\n    <tr>\n      <th>1</th>\n      <td>Male</td>\n      <td>Dinner</td>\n      <td>21.461452</td>\n      <td>3.144839</td>\n      <td>2.701613</td>\n    </tr>\n    <tr>\n      <th>2</th>\n      <td>Female</td>\n      <td>Lunch</td>\n      <td>16.339143</td>\n      <td>2.582857</td>\n      <td>2.457143</td>\n    </tr>\n    <tr>\n      <th>3</th>\n      <td>Female</td>\n      <td>Dinner</td>\n      <td>19.213077</td>\n      <td>3.002115</td>\n      <td>2.461538</td>\n    </tr>\n  </tbody>\n</table>\n</div>"
          },
          "metadata": {},
          "execution_count": 65
        }
      ],
      "source": [
        "tips.groupby(['sex', 'time']).mean().reset_index()"
      ]
    },
    {
      "cell_type": "code",
      "execution_count": null,
      "metadata": {},
      "outputs": [],
      "source": []
    }
  ],
  "metadata": {
    "kernelspec": {
      "display_name": "Python 3.7.1 64-bit ('base': conda)",
      "language": "python",
      "name": "python37164bitbaseconda83a7e5714e534d4591eb96c2ef4f502c"
    },
    "language_info": {
      "codemirror_mode": {
        "name": "ipython",
        "version": 3
      },
      "file_extension": ".py",
      "mimetype": "text/x-python",
      "name": "python",
      "nbconvert_exporter": "python",
      "pygments_lexer": "ipython3",
      "version": "3.7.1-final"
    }
  },
  "nbformat": 4,
  "nbformat_minor": 1
}