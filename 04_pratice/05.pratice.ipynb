{
  "cells": [
    {
      "cell_type": "code",
      "execution_count": 3,
      "metadata": {},
      "outputs": [],
      "source": [
        "import pandas as pd"
      ]
    },
    {
      "cell_type": "markdown",
      "metadata": {},
      "source": [
        "# concat 메서드 사용하기"
      ]
    },
    {
      "cell_type": "code",
      "execution_count": 6,
      "metadata": {},
      "outputs": [
        {
          "output_type": "execute_result",
          "data": {
            "text/plain": "    A   B   C   D\n0  a0  b0  c0  d0\n1  a1  b1  c1  d1\n2  a2  b2  c2  d2\n3  a3  b3  c3  d3\n0  a4  b4  c4  d4\n1  a5  b5  c5  d5\n2  a6  b6  c6  d6\n3  a7  b7  c7  d7",
            "text/html": "<div>\n<style scoped>\n    .dataframe tbody tr th:only-of-type {\n        vertical-align: middle;\n    }\n\n    .dataframe tbody tr th {\n        vertical-align: top;\n    }\n\n    .dataframe thead th {\n        text-align: right;\n    }\n</style>\n<table border=\"1\" class=\"dataframe\">\n  <thead>\n    <tr style=\"text-align: right;\">\n      <th></th>\n      <th>A</th>\n      <th>B</th>\n      <th>C</th>\n      <th>D</th>\n    </tr>\n  </thead>\n  <tbody>\n    <tr>\n      <td>0</td>\n      <td>a0</td>\n      <td>b0</td>\n      <td>c0</td>\n      <td>d0</td>\n    </tr>\n    <tr>\n      <td>1</td>\n      <td>a1</td>\n      <td>b1</td>\n      <td>c1</td>\n      <td>d1</td>\n    </tr>\n    <tr>\n      <td>2</td>\n      <td>a2</td>\n      <td>b2</td>\n      <td>c2</td>\n      <td>d2</td>\n    </tr>\n    <tr>\n      <td>3</td>\n      <td>a3</td>\n      <td>b3</td>\n      <td>c3</td>\n      <td>d3</td>\n    </tr>\n    <tr>\n      <td>0</td>\n      <td>a4</td>\n      <td>b4</td>\n      <td>c4</td>\n      <td>d4</td>\n    </tr>\n    <tr>\n      <td>1</td>\n      <td>a5</td>\n      <td>b5</td>\n      <td>c5</td>\n      <td>d5</td>\n    </tr>\n    <tr>\n      <td>2</td>\n      <td>a6</td>\n      <td>b6</td>\n      <td>c6</td>\n      <td>d6</td>\n    </tr>\n    <tr>\n      <td>3</td>\n      <td>a7</td>\n      <td>b7</td>\n      <td>c7</td>\n      <td>d7</td>\n    </tr>\n  </tbody>\n</table>\n</div>"
          },
          "metadata": {},
          "execution_count": 6
        }
      ],
      "source": [
        "s1 = pd.read_csv('./praticeData/concat_1.csv')\n",
        "s2 = pd.read_csv('./praticeData/concat_2.csv')\n",
        "\n",
        "pd.concat([s1, s2])"
      ]
    },
    {
      "cell_type": "markdown",
      "metadata": {},
      "source": [
        "# 데이터프레임에 시리즈 연결하기"
      ]
    },
    {
      "cell_type": "code",
      "execution_count": 15,
      "metadata": {},
      "outputs": [
        {
          "output_type": "execute_result",
          "data": {
            "text/plain": "    A   B   C   D\n0  a0  b0  c0  d0\n1  a1  b1  c1  d1\n2  a2  b2  c2  d2\n3  a3  b3  c3  d3",
            "text/html": "<div>\n<style scoped>\n    .dataframe tbody tr th:only-of-type {\n        vertical-align: middle;\n    }\n\n    .dataframe tbody tr th {\n        vertical-align: top;\n    }\n\n    .dataframe thead th {\n        text-align: right;\n    }\n</style>\n<table border=\"1\" class=\"dataframe\">\n  <thead>\n    <tr style=\"text-align: right;\">\n      <th></th>\n      <th>A</th>\n      <th>B</th>\n      <th>C</th>\n      <th>D</th>\n    </tr>\n  </thead>\n  <tbody>\n    <tr>\n      <td>0</td>\n      <td>a0</td>\n      <td>b0</td>\n      <td>c0</td>\n      <td>d0</td>\n    </tr>\n    <tr>\n      <td>1</td>\n      <td>a1</td>\n      <td>b1</td>\n      <td>c1</td>\n      <td>d1</td>\n    </tr>\n    <tr>\n      <td>2</td>\n      <td>a2</td>\n      <td>b2</td>\n      <td>c2</td>\n      <td>d2</td>\n    </tr>\n    <tr>\n      <td>3</td>\n      <td>a3</td>\n      <td>b3</td>\n      <td>c3</td>\n      <td>d3</td>\n    </tr>\n  </tbody>\n</table>\n</div>"
          },
          "metadata": {},
          "execution_count": 15
        }
      ],
      "source": [
        "df = pd.DataFrame(s1)\n",
        "new_series = pd.Series(['n1', 'n2', 'n3', 'n4'])\n",
        "pd.concat([df, new_series])"
      ]
    },
    {
      "cell_type": "markdown",
      "metadata": {},
      "source": [
        "# 행 1개로 구성된 데이터프레임 생성하여 연결하기"
      ]
    },
    {
      "cell_type": "code",
      "execution_count": 18,
      "metadata": {},
      "outputs": [
        {
          "output_type": "execute_result",
          "data": {
            "text/plain": "    A   B   C   D\n0  a0  b0  c0  d0\n1  a1  b1  c1  d1\n2  a2  b2  c2  d2\n3  a3  b3  c3  d3\n0  n1  n2  n3  n4",
            "text/html": "<div>\n<style scoped>\n    .dataframe tbody tr th:only-of-type {\n        vertical-align: middle;\n    }\n\n    .dataframe tbody tr th {\n        vertical-align: top;\n    }\n\n    .dataframe thead th {\n        text-align: right;\n    }\n</style>\n<table border=\"1\" class=\"dataframe\">\n  <thead>\n    <tr style=\"text-align: right;\">\n      <th></th>\n      <th>A</th>\n      <th>B</th>\n      <th>C</th>\n      <th>D</th>\n    </tr>\n  </thead>\n  <tbody>\n    <tr>\n      <td>0</td>\n      <td>a0</td>\n      <td>b0</td>\n      <td>c0</td>\n      <td>d0</td>\n    </tr>\n    <tr>\n      <td>1</td>\n      <td>a1</td>\n      <td>b1</td>\n      <td>c1</td>\n      <td>d1</td>\n    </tr>\n    <tr>\n      <td>2</td>\n      <td>a2</td>\n      <td>b2</td>\n      <td>c2</td>\n      <td>d2</td>\n    </tr>\n    <tr>\n      <td>3</td>\n      <td>a3</td>\n      <td>b3</td>\n      <td>c3</td>\n      <td>d3</td>\n    </tr>\n    <tr>\n      <td>0</td>\n      <td>n1</td>\n      <td>n2</td>\n      <td>n3</td>\n      <td>n4</td>\n    </tr>\n  </tbody>\n</table>\n</div>"
          },
          "metadata": {},
          "execution_count": 18
        }
      ],
      "source": [
        "new_df = pd.DataFrame([['n1', 'n2', 'n3', 'n4']], columns=['A', 'B', 'C', 'D'])\n",
        "pd.concat([df, new_df])"
      ]
    },
    {
      "cell_type": "markdown",
      "metadata": {},
      "source": [
        "# 다양한 방법으로 데이터 연결하기"
      ]
    },
    {
      "cell_type": "code",
      "execution_count": null,
      "metadata": {},
      "outputs": [],
      "source": []
    },
    {
      "cell_type": "markdown",
      "metadata": {},
      "source": [
        "# 공통 열과 공통 인덱스만 연결하기"
      ]
    },
    {
      "cell_type": "code",
      "execution_count": 38,
      "metadata": {},
      "outputs": [
        {
          "output_type": "execute_result",
          "data": {
            "text/plain": "    A   B   C   D   A   B   C   D\n0  a0  b0  c0  d0  a4  b4  c4  d4\n1  a1  b1  c1  d1  a5  b5  c5  d5\n2  a2  b2  c2  d2  a6  b6  c6  d6\n3  a3  b3  c3  d3  a7  b7  c7  d7",
            "text/html": "<div>\n<style scoped>\n    .dataframe tbody tr th:only-of-type {\n        vertical-align: middle;\n    }\n\n    .dataframe tbody tr th {\n        vertical-align: top;\n    }\n\n    .dataframe thead th {\n        text-align: right;\n    }\n</style>\n<table border=\"1\" class=\"dataframe\">\n  <thead>\n    <tr style=\"text-align: right;\">\n      <th></th>\n      <th>A</th>\n      <th>B</th>\n      <th>C</th>\n      <th>D</th>\n      <th>A</th>\n      <th>B</th>\n      <th>C</th>\n      <th>D</th>\n    </tr>\n  </thead>\n  <tbody>\n    <tr>\n      <td>0</td>\n      <td>a0</td>\n      <td>b0</td>\n      <td>c0</td>\n      <td>d0</td>\n      <td>a4</td>\n      <td>b4</td>\n      <td>c4</td>\n      <td>d4</td>\n    </tr>\n    <tr>\n      <td>1</td>\n      <td>a1</td>\n      <td>b1</td>\n      <td>c1</td>\n      <td>d1</td>\n      <td>a5</td>\n      <td>b5</td>\n      <td>c5</td>\n      <td>d5</td>\n    </tr>\n    <tr>\n      <td>2</td>\n      <td>a2</td>\n      <td>b2</td>\n      <td>c2</td>\n      <td>d2</td>\n      <td>a6</td>\n      <td>b6</td>\n      <td>c6</td>\n      <td>d6</td>\n    </tr>\n    <tr>\n      <td>3</td>\n      <td>a3</td>\n      <td>b3</td>\n      <td>c3</td>\n      <td>d3</td>\n      <td>a7</td>\n      <td>b7</td>\n      <td>c7</td>\n      <td>d7</td>\n    </tr>\n  </tbody>\n</table>\n</div>"
          },
          "metadata": {},
          "execution_count": 38
        }
      ],
      "source": [
        "# 공통 열 연결\n",
        "pd.concat([s1, s2])\n",
        "\n",
        "# 공통 행 연결\n",
        "pd.concat([s1, s2], axis=1)"
      ]
    },
    {
      "cell_type": "markdown",
      "metadata": {},
      "source": [
        "# merge 메서드 사용하기"
      ]
    },
    {
      "cell_type": "code",
      "execution_count": 22,
      "metadata": {},
      "outputs": [
        {
          "output_type": "execute_result",
          "data": {
            "text/plain": "    name    lat    long  ident   site       dated\n0   DR-1 -49.85 -128.57    619   DR-1  1927-02-08\n1   DR-3 -47.15 -126.72    734   DR-3  1939-01-07\n2  MSK-4 -48.87 -123.40    837  MSK-4  1932-01-14",
            "text/html": "<div>\n<style scoped>\n    .dataframe tbody tr th:only-of-type {\n        vertical-align: middle;\n    }\n\n    .dataframe tbody tr th {\n        vertical-align: top;\n    }\n\n    .dataframe thead th {\n        text-align: right;\n    }\n</style>\n<table border=\"1\" class=\"dataframe\">\n  <thead>\n    <tr style=\"text-align: right;\">\n      <th></th>\n      <th>name</th>\n      <th>lat</th>\n      <th>long</th>\n      <th>ident</th>\n      <th>site</th>\n      <th>dated</th>\n    </tr>\n  </thead>\n  <tbody>\n    <tr>\n      <td>0</td>\n      <td>DR-1</td>\n      <td>-49.85</td>\n      <td>-128.57</td>\n      <td>619</td>\n      <td>DR-1</td>\n      <td>1927-02-08</td>\n    </tr>\n    <tr>\n      <td>1</td>\n      <td>DR-3</td>\n      <td>-47.15</td>\n      <td>-126.72</td>\n      <td>734</td>\n      <td>DR-3</td>\n      <td>1939-01-07</td>\n    </tr>\n    <tr>\n      <td>2</td>\n      <td>MSK-4</td>\n      <td>-48.87</td>\n      <td>-123.40</td>\n      <td>837</td>\n      <td>MSK-4</td>\n      <td>1932-01-14</td>\n    </tr>\n  </tbody>\n</table>\n</div>"
          },
          "metadata": {},
          "execution_count": 22
        }
      ],
      "source": [
        "person = pd.read_csv('./praticeData/survey_person.csv')\n",
        "site = pd.read_csv('./praticeData/survey_site.csv')\n",
        "survey = pd.read_csv('./praticeData/survey_survey.csv')\n",
        "visited = pd.read_csv('./praticeData/survey_visited.csv')\n",
        "\n",
        "visited_subset = visited.loc[[0, 2, 6]]\n",
        "\n",
        "merge = site.merge(visited_subset, left_on='name', right_on='site')\n",
        "merge\n",
        ""
      ]
    }
  ],
  "metadata": {
    "kernelspec": {
      "display_name": "Python 3.7.4 64-bit ('base': conda)",
      "language": "python",
      "name": "python37464bitbaseconda51e3fd233d2e4ac5a8b09f64f0eba7ed"
    },
    "language_info": {
      "codemirror_mode": {
        "name": "ipython",
        "version": 3
      },
      "file_extension": ".py",
      "mimetype": "text/x-python",
      "name": "python",
      "nbconvert_exporter": "python",
      "pygments_lexer": "ipython3",
      "version": "3.7.4-final"
    }
  },
  "nbformat": 4,
  "nbformat_minor": 2
}