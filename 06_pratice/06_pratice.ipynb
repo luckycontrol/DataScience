{
<<<<<<< HEAD
    "cells": [
     {
      "cell_type": "markdown",
      "metadata": {},
      "source": [
       "# 누락값 확인하기"
      ]
     },
     {
      "cell_type": "code",
      "execution_count": null,
      "metadata": {},
      "outputs": [],
      "source": []
     },
     {
      "cell_type": "markdown",
      "metadata": {},
      "source": [
       "# 누락값을 포함한 데이터를 불러올 때"
      ]
     },
     {
      "cell_type": "code",
      "execution_count": null,
      "metadata": {},
      "outputs": [],
      "source": []
     },
     {
      "cell_type": "markdown",
      "metadata": {},
      "source": [
       "# 데이터 집합을 연결할 때 누락값이 발생하는 경우"
      ]
     },
     {
      "cell_type": "code",
      "execution_count": null,
      "metadata": {},
      "outputs": [],
      "source": []
     },
     {
      "cell_type": "markdown",
      "metadata": {},
      "source": [
       "# 데이터를 입력할 때 누락값이 발생하는 경우"
      ]
     },
     {
      "cell_type": "code",
      "execution_count": null,
      "metadata": {},
      "outputs": [],
      "source": []
     },
     {
      "cell_type": "markdown",
      "metadata": {},
      "source": [
       "# 인덱스를 다시 만들 때 누락값이 발생하는 경우"
      ]
     },
     {
      "cell_type": "code",
      "execution_count": null,
      "metadata": {},
      "outputs": [],
      "source": []
     },
     {
      "cell_type": "markdown",
      "metadata": {},
      "source": [
       "# 누락값의 개수 구하기"
      ]
     },
     {
      "cell_type": "code",
      "execution_count": null,
      "metadata": {},
      "outputs": [],
      "source": []
     },
     {
      "cell_type": "markdown",
      "metadata": {},
      "source": [
       "# 누락값을 다른 값으로 변경하기"
      ]
     },
     {
      "cell_type": "code",
      "execution_count": null,
      "metadata": {},
      "outputs": [],
      "source": []
     },
     {
      "cell_type": "markdown",
      "metadata": {},
      "source": [
       "# 누락값 삭제하기"
      ]
     },
     {
      "cell_type": "code",
      "execution_count": null,
      "metadata": {},
      "outputs": [],
      "source": []
     },
     {
      "cell_type": "markdown",
      "metadata": {},
      "source": [
       "# 누락값이 포함된 데이터 계산하기"
      ]
     },
     {
      "cell_type": "code",
      "execution_count": null,
      "metadata": {},
      "outputs": [],
      "source": []
     }
    ],
    "metadata": {
     "kernelspec": {
      "display_name": "Python 3",
      "language": "python",
      "name": "python3"
     },
     "language_info": {
      "codemirror_mode": {
       "name": "ipython",
       "version": 3
      },
      "file_extension": ".py",
      "mimetype": "text/x-python",
      "name": "python",
      "nbconvert_exporter": "python",
      "pygments_lexer": "ipython3",
      "version": "3.6.5"
     }
    },
    "nbformat": 4,
    "nbformat_minor": 2
   }
=======
 "cells": [
  {
   "cell_type": "code",
   "execution_count": 43,
   "metadata": {},
   "outputs": [],
   "source": [
    "import pandas as pd\n",
    "from numpy import NaN, NAN, nan"
   ]
  },
  {
   "cell_type": "markdown",
   "metadata": {},
   "source": [
    "# 누락값 확인하기"
   ]
  },
  {
   "cell_type": "code",
   "execution_count": 44,
   "metadata": {},
   "outputs": [
    {
     "output_type": "execute_result",
     "data": {
      "text/plain": "True"
     },
     "metadata": {},
     "execution_count": 44
    }
   ],
   "source": [
    "pd.isnull(NAN)"
   ]
  },
  {
   "cell_type": "code",
   "execution_count": 45,
   "metadata": {},
   "outputs": [
    {
     "output_type": "execute_result",
     "data": {
      "text/plain": "True"
     },
     "metadata": {},
     "execution_count": 45
    }
   ],
   "source": [
    "pd.isnull(nan)"
   ]
  },
  {
   "cell_type": "code",
   "execution_count": 46,
   "metadata": {},
   "outputs": [
    {
     "output_type": "execute_result",
     "data": {
      "text/plain": "True"
     },
     "metadata": {},
     "execution_count": 46
    }
   ],
   "source": [
    "pd.isnull(NaN)"
   ]
  },
  {
   "cell_type": "code",
   "execution_count": 47,
   "metadata": {},
   "outputs": [
    {
     "output_type": "execute_result",
     "data": {
      "text/plain": "False"
     },
     "metadata": {},
     "execution_count": 47
    }
   ],
   "source": [
    "pd.notnull(NaN)"
   ]
  },
  {
   "cell_type": "code",
   "execution_count": 48,
   "metadata": {},
   "outputs": [
    {
     "output_type": "execute_result",
     "data": {
      "text/plain": "True"
     },
     "metadata": {},
     "execution_count": 48
    }
   ],
   "source": [
    "pd.notnull(924)"
   ]
  },
  {
   "cell_type": "code",
   "execution_count": 49,
   "metadata": {},
   "outputs": [
    {
     "output_type": "execute_result",
     "data": {
      "text/plain": "True"
     },
     "metadata": {},
     "execution_count": 49
    }
   ],
   "source": [
    "pd.notnull('Null')"
   ]
  },
  {
   "cell_type": "markdown",
   "metadata": {},
   "source": [
    "# 누락값을 포함한 데이터를 불러올 때"
   ]
  },
  {
   "cell_type": "code",
   "execution_count": 50,
   "metadata": {},
   "outputs": [
    {
     "output_type": "execute_result",
     "data": {
      "text/plain": "   ident   site       dated\n0    619   DR-1  1927-02-08\n1    622   DR-1  1927-02-10\n2    734   DR-3  1939-01-07\n3    735   DR-3  1930-01-12\n4    751   DR-3  1930-02-26\n5    752   DR-3         NaN\n6    837  MSK-4  1932-01-14\n7    844   DR-1  1932-03-22",
      "text/html": "<div>\n<style scoped>\n    .dataframe tbody tr th:only-of-type {\n        vertical-align: middle;\n    }\n\n    .dataframe tbody tr th {\n        vertical-align: top;\n    }\n\n    .dataframe thead th {\n        text-align: right;\n    }\n</style>\n<table border=\"1\" class=\"dataframe\">\n  <thead>\n    <tr style=\"text-align: right;\">\n      <th></th>\n      <th>ident</th>\n      <th>site</th>\n      <th>dated</th>\n    </tr>\n  </thead>\n  <tbody>\n    <tr>\n      <th>0</th>\n      <td>619</td>\n      <td>DR-1</td>\n      <td>1927-02-08</td>\n    </tr>\n    <tr>\n      <th>1</th>\n      <td>622</td>\n      <td>DR-1</td>\n      <td>1927-02-10</td>\n    </tr>\n    <tr>\n      <th>2</th>\n      <td>734</td>\n      <td>DR-3</td>\n      <td>1939-01-07</td>\n    </tr>\n    <tr>\n      <th>3</th>\n      <td>735</td>\n      <td>DR-3</td>\n      <td>1930-01-12</td>\n    </tr>\n    <tr>\n      <th>4</th>\n      <td>751</td>\n      <td>DR-3</td>\n      <td>1930-02-26</td>\n    </tr>\n    <tr>\n      <th>5</th>\n      <td>752</td>\n      <td>DR-3</td>\n      <td>NaN</td>\n    </tr>\n    <tr>\n      <th>6</th>\n      <td>837</td>\n      <td>MSK-4</td>\n      <td>1932-01-14</td>\n    </tr>\n    <tr>\n      <th>7</th>\n      <td>844</td>\n      <td>DR-1</td>\n      <td>1932-03-22</td>\n    </tr>\n  </tbody>\n</table>\n</div>"
     },
     "metadata": {},
     "execution_count": 50
    }
   ],
   "source": [
    "# 누락값은 NaN으로 표기되어 출력된다.\n",
    "visited = pd.read_csv('../data/survey_visited.csv')\n",
    "visited"
   ]
  },
  {
   "cell_type": "code",
   "execution_count": 51,
   "metadata": {},
   "outputs": [
    {
     "output_type": "execute_result",
     "data": {
      "text/plain": "    taken person quant  reading\n0     619   dyer   rad     9.82\n1     619   dyer   sal     0.13\n2     622   dyer   rad     7.80\n3     622   dyer   sal     0.09\n4     734     pb   rad     8.41\n5     734   lake   sal     0.05\n6     734     pb  temp   -21.50\n7     735     pb   rad     7.22\n8     735    NaN   sal     0.06\n9     735    NaN  temp   -26.00\n10    751     pb   rad     4.35\n11    751     pb  temp   -18.50\n12    751   lake   sal     0.10\n13    752   lake   rad     2.19\n14    752   lake   sal     0.09\n15    752   lake  temp   -16.00\n16    752    roe   sal    41.60\n17    837   lake   rad     1.46\n18    837   lake   sal     0.21\n19    837    roe   sal    22.50\n20    844    roe   rad    11.25",
      "text/html": "<div>\n<style scoped>\n    .dataframe tbody tr th:only-of-type {\n        vertical-align: middle;\n    }\n\n    .dataframe tbody tr th {\n        vertical-align: top;\n    }\n\n    .dataframe thead th {\n        text-align: right;\n    }\n</style>\n<table border=\"1\" class=\"dataframe\">\n  <thead>\n    <tr style=\"text-align: right;\">\n      <th></th>\n      <th>taken</th>\n      <th>person</th>\n      <th>quant</th>\n      <th>reading</th>\n    </tr>\n  </thead>\n  <tbody>\n    <tr>\n      <th>0</th>\n      <td>619</td>\n      <td>dyer</td>\n      <td>rad</td>\n      <td>9.82</td>\n    </tr>\n    <tr>\n      <th>1</th>\n      <td>619</td>\n      <td>dyer</td>\n      <td>sal</td>\n      <td>0.13</td>\n    </tr>\n    <tr>\n      <th>2</th>\n      <td>622</td>\n      <td>dyer</td>\n      <td>rad</td>\n      <td>7.80</td>\n    </tr>\n    <tr>\n      <th>3</th>\n      <td>622</td>\n      <td>dyer</td>\n      <td>sal</td>\n      <td>0.09</td>\n    </tr>\n    <tr>\n      <th>4</th>\n      <td>734</td>\n      <td>pb</td>\n      <td>rad</td>\n      <td>8.41</td>\n    </tr>\n    <tr>\n      <th>5</th>\n      <td>734</td>\n      <td>lake</td>\n      <td>sal</td>\n      <td>0.05</td>\n    </tr>\n    <tr>\n      <th>6</th>\n      <td>734</td>\n      <td>pb</td>\n      <td>temp</td>\n      <td>-21.50</td>\n    </tr>\n    <tr>\n      <th>7</th>\n      <td>735</td>\n      <td>pb</td>\n      <td>rad</td>\n      <td>7.22</td>\n    </tr>\n    <tr>\n      <th>8</th>\n      <td>735</td>\n      <td>NaN</td>\n      <td>sal</td>\n      <td>0.06</td>\n    </tr>\n    <tr>\n      <th>9</th>\n      <td>735</td>\n      <td>NaN</td>\n      <td>temp</td>\n      <td>-26.00</td>\n    </tr>\n    <tr>\n      <th>10</th>\n      <td>751</td>\n      <td>pb</td>\n      <td>rad</td>\n      <td>4.35</td>\n    </tr>\n    <tr>\n      <th>11</th>\n      <td>751</td>\n      <td>pb</td>\n      <td>temp</td>\n      <td>-18.50</td>\n    </tr>\n    <tr>\n      <th>12</th>\n      <td>751</td>\n      <td>lake</td>\n      <td>sal</td>\n      <td>0.10</td>\n    </tr>\n    <tr>\n      <th>13</th>\n      <td>752</td>\n      <td>lake</td>\n      <td>rad</td>\n      <td>2.19</td>\n    </tr>\n    <tr>\n      <th>14</th>\n      <td>752</td>\n      <td>lake</td>\n      <td>sal</td>\n      <td>0.09</td>\n    </tr>\n    <tr>\n      <th>15</th>\n      <td>752</td>\n      <td>lake</td>\n      <td>temp</td>\n      <td>-16.00</td>\n    </tr>\n    <tr>\n      <th>16</th>\n      <td>752</td>\n      <td>roe</td>\n      <td>sal</td>\n      <td>41.60</td>\n    </tr>\n    <tr>\n      <th>17</th>\n      <td>837</td>\n      <td>lake</td>\n      <td>rad</td>\n      <td>1.46</td>\n    </tr>\n    <tr>\n      <th>18</th>\n      <td>837</td>\n      <td>lake</td>\n      <td>sal</td>\n      <td>0.21</td>\n    </tr>\n    <tr>\n      <th>19</th>\n      <td>837</td>\n      <td>roe</td>\n      <td>sal</td>\n      <td>22.50</td>\n    </tr>\n    <tr>\n      <th>20</th>\n      <td>844</td>\n      <td>roe</td>\n      <td>rad</td>\n      <td>11.25</td>\n    </tr>\n  </tbody>\n</table>\n</div>"
     },
     "metadata": {},
     "execution_count": 51
    }
   ],
   "source": [
    "survey = pd.read_csv('../data/survey_survey.csv')\n",
    "survey"
   ]
  },
  {
   "cell_type": "markdown",
   "metadata": {},
   "source": [
    "# 데이터 집합을 연결할 때 누락값이 발생하는 경우"
   ]
  },
  {
   "cell_type": "code",
   "execution_count": 52,
   "metadata": {},
   "outputs": [
    {
     "output_type": "execute_result",
     "data": {
      "text/plain": "    ident   site       dated  taken person quant  reading\n0     619   DR-1  1927-02-08    619   dyer   rad     9.82\n1     619   DR-1  1927-02-08    619   dyer   sal     0.13\n2     622   DR-1  1927-02-10    622   dyer   rad     7.80\n3     622   DR-1  1927-02-10    622   dyer   sal     0.09\n4     734   DR-3  1939-01-07    734     pb   rad     8.41\n5     734   DR-3  1939-01-07    734   lake   sal     0.05\n6     734   DR-3  1939-01-07    734     pb  temp   -21.50\n7     735   DR-3  1930-01-12    735     pb   rad     7.22\n8     735   DR-3  1930-01-12    735    NaN   sal     0.06\n9     735   DR-3  1930-01-12    735    NaN  temp   -26.00\n10    751   DR-3  1930-02-26    751     pb   rad     4.35\n11    751   DR-3  1930-02-26    751     pb  temp   -18.50\n12    751   DR-3  1930-02-26    751   lake   sal     0.10\n13    752   DR-3         NaN    752   lake   rad     2.19\n14    752   DR-3         NaN    752   lake   sal     0.09\n15    752   DR-3         NaN    752   lake  temp   -16.00\n16    752   DR-3         NaN    752    roe   sal    41.60\n17    837  MSK-4  1932-01-14    837   lake   rad     1.46\n18    837  MSK-4  1932-01-14    837   lake   sal     0.21\n19    837  MSK-4  1932-01-14    837    roe   sal    22.50\n20    844   DR-1  1932-03-22    844    roe   rad    11.25",
      "text/html": "<div>\n<style scoped>\n    .dataframe tbody tr th:only-of-type {\n        vertical-align: middle;\n    }\n\n    .dataframe tbody tr th {\n        vertical-align: top;\n    }\n\n    .dataframe thead th {\n        text-align: right;\n    }\n</style>\n<table border=\"1\" class=\"dataframe\">\n  <thead>\n    <tr style=\"text-align: right;\">\n      <th></th>\n      <th>ident</th>\n      <th>site</th>\n      <th>dated</th>\n      <th>taken</th>\n      <th>person</th>\n      <th>quant</th>\n      <th>reading</th>\n    </tr>\n  </thead>\n  <tbody>\n    <tr>\n      <th>0</th>\n      <td>619</td>\n      <td>DR-1</td>\n      <td>1927-02-08</td>\n      <td>619</td>\n      <td>dyer</td>\n      <td>rad</td>\n      <td>9.82</td>\n    </tr>\n    <tr>\n      <th>1</th>\n      <td>619</td>\n      <td>DR-1</td>\n      <td>1927-02-08</td>\n      <td>619</td>\n      <td>dyer</td>\n      <td>sal</td>\n      <td>0.13</td>\n    </tr>\n    <tr>\n      <th>2</th>\n      <td>622</td>\n      <td>DR-1</td>\n      <td>1927-02-10</td>\n      <td>622</td>\n      <td>dyer</td>\n      <td>rad</td>\n      <td>7.80</td>\n    </tr>\n    <tr>\n      <th>3</th>\n      <td>622</td>\n      <td>DR-1</td>\n      <td>1927-02-10</td>\n      <td>622</td>\n      <td>dyer</td>\n      <td>sal</td>\n      <td>0.09</td>\n    </tr>\n    <tr>\n      <th>4</th>\n      <td>734</td>\n      <td>DR-3</td>\n      <td>1939-01-07</td>\n      <td>734</td>\n      <td>pb</td>\n      <td>rad</td>\n      <td>8.41</td>\n    </tr>\n    <tr>\n      <th>5</th>\n      <td>734</td>\n      <td>DR-3</td>\n      <td>1939-01-07</td>\n      <td>734</td>\n      <td>lake</td>\n      <td>sal</td>\n      <td>0.05</td>\n    </tr>\n    <tr>\n      <th>6</th>\n      <td>734</td>\n      <td>DR-3</td>\n      <td>1939-01-07</td>\n      <td>734</td>\n      <td>pb</td>\n      <td>temp</td>\n      <td>-21.50</td>\n    </tr>\n    <tr>\n      <th>7</th>\n      <td>735</td>\n      <td>DR-3</td>\n      <td>1930-01-12</td>\n      <td>735</td>\n      <td>pb</td>\n      <td>rad</td>\n      <td>7.22</td>\n    </tr>\n    <tr>\n      <th>8</th>\n      <td>735</td>\n      <td>DR-3</td>\n      <td>1930-01-12</td>\n      <td>735</td>\n      <td>NaN</td>\n      <td>sal</td>\n      <td>0.06</td>\n    </tr>\n    <tr>\n      <th>9</th>\n      <td>735</td>\n      <td>DR-3</td>\n      <td>1930-01-12</td>\n      <td>735</td>\n      <td>NaN</td>\n      <td>temp</td>\n      <td>-26.00</td>\n    </tr>\n    <tr>\n      <th>10</th>\n      <td>751</td>\n      <td>DR-3</td>\n      <td>1930-02-26</td>\n      <td>751</td>\n      <td>pb</td>\n      <td>rad</td>\n      <td>4.35</td>\n    </tr>\n    <tr>\n      <th>11</th>\n      <td>751</td>\n      <td>DR-3</td>\n      <td>1930-02-26</td>\n      <td>751</td>\n      <td>pb</td>\n      <td>temp</td>\n      <td>-18.50</td>\n    </tr>\n    <tr>\n      <th>12</th>\n      <td>751</td>\n      <td>DR-3</td>\n      <td>1930-02-26</td>\n      <td>751</td>\n      <td>lake</td>\n      <td>sal</td>\n      <td>0.10</td>\n    </tr>\n    <tr>\n      <th>13</th>\n      <td>752</td>\n      <td>DR-3</td>\n      <td>NaN</td>\n      <td>752</td>\n      <td>lake</td>\n      <td>rad</td>\n      <td>2.19</td>\n    </tr>\n    <tr>\n      <th>14</th>\n      <td>752</td>\n      <td>DR-3</td>\n      <td>NaN</td>\n      <td>752</td>\n      <td>lake</td>\n      <td>sal</td>\n      <td>0.09</td>\n    </tr>\n    <tr>\n      <th>15</th>\n      <td>752</td>\n      <td>DR-3</td>\n      <td>NaN</td>\n      <td>752</td>\n      <td>lake</td>\n      <td>temp</td>\n      <td>-16.00</td>\n    </tr>\n    <tr>\n      <th>16</th>\n      <td>752</td>\n      <td>DR-3</td>\n      <td>NaN</td>\n      <td>752</td>\n      <td>roe</td>\n      <td>sal</td>\n      <td>41.60</td>\n    </tr>\n    <tr>\n      <th>17</th>\n      <td>837</td>\n      <td>MSK-4</td>\n      <td>1932-01-14</td>\n      <td>837</td>\n      <td>lake</td>\n      <td>rad</td>\n      <td>1.46</td>\n    </tr>\n    <tr>\n      <th>18</th>\n      <td>837</td>\n      <td>MSK-4</td>\n      <td>1932-01-14</td>\n      <td>837</td>\n      <td>lake</td>\n      <td>sal</td>\n      <td>0.21</td>\n    </tr>\n    <tr>\n      <th>19</th>\n      <td>837</td>\n      <td>MSK-4</td>\n      <td>1932-01-14</td>\n      <td>837</td>\n      <td>roe</td>\n      <td>sal</td>\n      <td>22.50</td>\n    </tr>\n    <tr>\n      <th>20</th>\n      <td>844</td>\n      <td>DR-1</td>\n      <td>1932-03-22</td>\n      <td>844</td>\n      <td>roe</td>\n      <td>rad</td>\n      <td>11.25</td>\n    </tr>\n  </tbody>\n</table>\n</div>"
     },
     "metadata": {},
     "execution_count": 52
    }
   ],
   "source": [
    "result = visited.merge(survey, left_on='ident', right_on='taken')\n",
    "result"
   ]
  },
  {
   "cell_type": "code",
   "execution_count": 53,
   "metadata": {},
   "outputs": [
    {
     "output_type": "execute_result",
     "data": {
      "text/plain": "    ident  site dated  taken person quant  reading\n13    752  DR-3   NaN    752   lake   rad     2.19\n14    752  DR-3   NaN    752   lake   sal     0.09\n15    752  DR-3   NaN    752   lake  temp   -16.00\n16    752  DR-3   NaN    752    roe   sal    41.60",
      "text/html": "<div>\n<style scoped>\n    .dataframe tbody tr th:only-of-type {\n        vertical-align: middle;\n    }\n\n    .dataframe tbody tr th {\n        vertical-align: top;\n    }\n\n    .dataframe thead th {\n        text-align: right;\n    }\n</style>\n<table border=\"1\" class=\"dataframe\">\n  <thead>\n    <tr style=\"text-align: right;\">\n      <th></th>\n      <th>ident</th>\n      <th>site</th>\n      <th>dated</th>\n      <th>taken</th>\n      <th>person</th>\n      <th>quant</th>\n      <th>reading</th>\n    </tr>\n  </thead>\n  <tbody>\n    <tr>\n      <th>13</th>\n      <td>752</td>\n      <td>DR-3</td>\n      <td>NaN</td>\n      <td>752</td>\n      <td>lake</td>\n      <td>rad</td>\n      <td>2.19</td>\n    </tr>\n    <tr>\n      <th>14</th>\n      <td>752</td>\n      <td>DR-3</td>\n      <td>NaN</td>\n      <td>752</td>\n      <td>lake</td>\n      <td>sal</td>\n      <td>0.09</td>\n    </tr>\n    <tr>\n      <th>15</th>\n      <td>752</td>\n      <td>DR-3</td>\n      <td>NaN</td>\n      <td>752</td>\n      <td>lake</td>\n      <td>temp</td>\n      <td>-16.00</td>\n    </tr>\n    <tr>\n      <th>16</th>\n      <td>752</td>\n      <td>DR-3</td>\n      <td>NaN</td>\n      <td>752</td>\n      <td>roe</td>\n      <td>sal</td>\n      <td>41.60</td>\n    </tr>\n  </tbody>\n</table>\n</div>"
     },
     "metadata": {},
     "execution_count": 53
    }
   ],
   "source": [
    "result[pd.isnull(result['dated'])]"
   ]
  },
  {
   "cell_type": "code",
   "execution_count": 54,
   "metadata": {},
   "outputs": [
    {
     "output_type": "execute_result",
     "data": {
      "text/plain": "    ident   site       dated  taken person quant  reading\n0     619   DR-1  1927-02-08    619   dyer   rad     9.82\n1     619   DR-1  1927-02-08    619   dyer   sal     0.13\n2     622   DR-1  1927-02-10    622   dyer   rad     7.80\n3     622   DR-1  1927-02-10    622   dyer   sal     0.09\n4     734   DR-3  1939-01-07    734     pb   rad     8.41\n5     734   DR-3  1939-01-07    734   lake   sal     0.05\n6     734   DR-3  1939-01-07    734     pb  temp   -21.50\n7     735   DR-3  1930-01-12    735     pb   rad     7.22\n8     735   DR-3  1930-01-12    735    NaN   sal     0.06\n9     735   DR-3  1930-01-12    735    NaN  temp   -26.00\n10    751   DR-3  1930-02-26    751     pb   rad     4.35\n11    751   DR-3  1930-02-26    751     pb  temp   -18.50\n12    751   DR-3  1930-02-26    751   lake   sal     0.10\n17    837  MSK-4  1932-01-14    837   lake   rad     1.46\n18    837  MSK-4  1932-01-14    837   lake   sal     0.21\n19    837  MSK-4  1932-01-14    837    roe   sal    22.50\n20    844   DR-1  1932-03-22    844    roe   rad    11.25",
      "text/html": "<div>\n<style scoped>\n    .dataframe tbody tr th:only-of-type {\n        vertical-align: middle;\n    }\n\n    .dataframe tbody tr th {\n        vertical-align: top;\n    }\n\n    .dataframe thead th {\n        text-align: right;\n    }\n</style>\n<table border=\"1\" class=\"dataframe\">\n  <thead>\n    <tr style=\"text-align: right;\">\n      <th></th>\n      <th>ident</th>\n      <th>site</th>\n      <th>dated</th>\n      <th>taken</th>\n      <th>person</th>\n      <th>quant</th>\n      <th>reading</th>\n    </tr>\n  </thead>\n  <tbody>\n    <tr>\n      <th>0</th>\n      <td>619</td>\n      <td>DR-1</td>\n      <td>1927-02-08</td>\n      <td>619</td>\n      <td>dyer</td>\n      <td>rad</td>\n      <td>9.82</td>\n    </tr>\n    <tr>\n      <th>1</th>\n      <td>619</td>\n      <td>DR-1</td>\n      <td>1927-02-08</td>\n      <td>619</td>\n      <td>dyer</td>\n      <td>sal</td>\n      <td>0.13</td>\n    </tr>\n    <tr>\n      <th>2</th>\n      <td>622</td>\n      <td>DR-1</td>\n      <td>1927-02-10</td>\n      <td>622</td>\n      <td>dyer</td>\n      <td>rad</td>\n      <td>7.80</td>\n    </tr>\n    <tr>\n      <th>3</th>\n      <td>622</td>\n      <td>DR-1</td>\n      <td>1927-02-10</td>\n      <td>622</td>\n      <td>dyer</td>\n      <td>sal</td>\n      <td>0.09</td>\n    </tr>\n    <tr>\n      <th>4</th>\n      <td>734</td>\n      <td>DR-3</td>\n      <td>1939-01-07</td>\n      <td>734</td>\n      <td>pb</td>\n      <td>rad</td>\n      <td>8.41</td>\n    </tr>\n    <tr>\n      <th>5</th>\n      <td>734</td>\n      <td>DR-3</td>\n      <td>1939-01-07</td>\n      <td>734</td>\n      <td>lake</td>\n      <td>sal</td>\n      <td>0.05</td>\n    </tr>\n    <tr>\n      <th>6</th>\n      <td>734</td>\n      <td>DR-3</td>\n      <td>1939-01-07</td>\n      <td>734</td>\n      <td>pb</td>\n      <td>temp</td>\n      <td>-21.50</td>\n    </tr>\n    <tr>\n      <th>7</th>\n      <td>735</td>\n      <td>DR-3</td>\n      <td>1930-01-12</td>\n      <td>735</td>\n      <td>pb</td>\n      <td>rad</td>\n      <td>7.22</td>\n    </tr>\n    <tr>\n      <th>8</th>\n      <td>735</td>\n      <td>DR-3</td>\n      <td>1930-01-12</td>\n      <td>735</td>\n      <td>NaN</td>\n      <td>sal</td>\n      <td>0.06</td>\n    </tr>\n    <tr>\n      <th>9</th>\n      <td>735</td>\n      <td>DR-3</td>\n      <td>1930-01-12</td>\n      <td>735</td>\n      <td>NaN</td>\n      <td>temp</td>\n      <td>-26.00</td>\n    </tr>\n    <tr>\n      <th>10</th>\n      <td>751</td>\n      <td>DR-3</td>\n      <td>1930-02-26</td>\n      <td>751</td>\n      <td>pb</td>\n      <td>rad</td>\n      <td>4.35</td>\n    </tr>\n    <tr>\n      <th>11</th>\n      <td>751</td>\n      <td>DR-3</td>\n      <td>1930-02-26</td>\n      <td>751</td>\n      <td>pb</td>\n      <td>temp</td>\n      <td>-18.50</td>\n    </tr>\n    <tr>\n      <th>12</th>\n      <td>751</td>\n      <td>DR-3</td>\n      <td>1930-02-26</td>\n      <td>751</td>\n      <td>lake</td>\n      <td>sal</td>\n      <td>0.10</td>\n    </tr>\n    <tr>\n      <th>17</th>\n      <td>837</td>\n      <td>MSK-4</td>\n      <td>1932-01-14</td>\n      <td>837</td>\n      <td>lake</td>\n      <td>rad</td>\n      <td>1.46</td>\n    </tr>\n    <tr>\n      <th>18</th>\n      <td>837</td>\n      <td>MSK-4</td>\n      <td>1932-01-14</td>\n      <td>837</td>\n      <td>lake</td>\n      <td>sal</td>\n      <td>0.21</td>\n    </tr>\n    <tr>\n      <th>19</th>\n      <td>837</td>\n      <td>MSK-4</td>\n      <td>1932-01-14</td>\n      <td>837</td>\n      <td>roe</td>\n      <td>sal</td>\n      <td>22.50</td>\n    </tr>\n    <tr>\n      <th>20</th>\n      <td>844</td>\n      <td>DR-1</td>\n      <td>1932-03-22</td>\n      <td>844</td>\n      <td>roe</td>\n      <td>rad</td>\n      <td>11.25</td>\n    </tr>\n  </tbody>\n</table>\n</div>"
     },
     "metadata": {},
     "execution_count": 54
    }
   ],
   "source": [
    "result[pd.notnull(result['dated'])]"
   ]
  },
  {
   "cell_type": "markdown",
   "metadata": {},
   "source": [
    "# 데이터를 입력할 때 누락값이 발생하는 경우"
   ]
  },
  {
   "cell_type": "code",
   "execution_count": 55,
   "metadata": {},
   "outputs": [
    {
     "output_type": "execute_result",
     "data": {
      "text/plain": "  Name    Occupation  Born  missing\n0  Cho    Programmer  1997      NaN\n1  Kim  Statistician  1994      NaN",
      "text/html": "<div>\n<style scoped>\n    .dataframe tbody tr th:only-of-type {\n        vertical-align: middle;\n    }\n\n    .dataframe tbody tr th {\n        vertical-align: top;\n    }\n\n    .dataframe thead th {\n        text-align: right;\n    }\n</style>\n<table border=\"1\" class=\"dataframe\">\n  <thead>\n    <tr style=\"text-align: right;\">\n      <th></th>\n      <th>Name</th>\n      <th>Occupation</th>\n      <th>Born</th>\n      <th>missing</th>\n    </tr>\n  </thead>\n  <tbody>\n    <tr>\n      <th>0</th>\n      <td>Cho</td>\n      <td>Programmer</td>\n      <td>1997</td>\n      <td>NaN</td>\n    </tr>\n    <tr>\n      <th>1</th>\n      <td>Kim</td>\n      <td>Statistician</td>\n      <td>1994</td>\n      <td>NaN</td>\n    </tr>\n  </tbody>\n</table>\n</div>"
     },
     "metadata": {},
     "execution_count": 55
    }
   ],
   "source": [
    "peoples = pd.DataFrame({\n",
    "    'Name' : ['Cho', 'Kim'],\n",
    "    'Occupation' : ['Programmer', 'Statistician'],\n",
    "    'Born' : ['1997', '1994'],\n",
    "    'missing' : [NaN, nan]\n",
    "})\n",
    "peoples"
   ]
  },
  {
   "cell_type": "markdown",
   "metadata": {},
   "source": [
    "# 인덱스를 다시 만들 때 누락값이 발생하는 경우"
   ]
  },
  {
   "cell_type": "code",
   "execution_count": 56,
   "metadata": {},
   "outputs": [
    {
     "output_type": "execute_result",
     "data": {
      "text/plain": "year\n2000          NaN\n2001          NaN\n2002    65.694923\n2003          NaN\n2004          NaN\n2005          NaN\n2006          NaN\n2007    67.007423\n2008          NaN\n2009          NaN\nName: lifeExp, dtype: float64"
     },
     "metadata": {},
     "execution_count": 56
    }
   ],
   "source": [
    "gapminder = pd.read_csv('../data/gapminder.tsv', sep='\\t')\n",
    "life_exp = gapminder.groupby(['year'])['lifeExp'].mean()\n",
    "life_exp.loc[range(2000, 2010)]"
   ]
  },
  {
   "cell_type": "markdown",
   "metadata": {},
   "source": [
    "# 누락값의 개수 구하기"
   ]
  },
  {
   "cell_type": "code",
   "execution_count": 57,
   "metadata": {},
   "outputs": [
    {
     "output_type": "execute_result",
     "data": {
      "text/plain": "Date                     0\nDay                      0\nCases_Guinea            29\nCases_Liberia           39\nCases_SierraLeone       35\nCases_Nigeria           84\nCases_Senegal           97\nCases_UnitedStates     104\nCases_Spain            106\nCases_Mali             110\nDeaths_Guinea           30\nDeaths_Liberia          41\nDeaths_SierraLeone      35\nDeaths_Nigeria          84\nDeaths_Senegal         100\nDeaths_UnitedStates    104\nDeaths_Spain           106\nDeaths_Mali            110\ndtype: int64"
     },
     "metadata": {},
     "execution_count": 57
    }
   ],
   "source": [
    "ebola = pd.read_csv('../data/country_timeseries.csv')\n",
    "rows = ebola.shape[0]\n",
    "rows - ebola.count()"
   ]
  },
  {
   "cell_type": "markdown",
   "metadata": {},
   "source": [
    "# 누락값을 다른 값으로 변경하기"
   ]
  },
  {
   "cell_type": "code",
   "execution_count": 64,
   "metadata": {},
   "outputs": [
    {
     "output_type": "execute_result",
     "data": {
      "text/plain": "         Date  Day  Cases_Guinea  Cases_Liberia  Cases_SierraLeone  \\\n0    1/5/2015  289        2776.0            0.0            10030.0   \n1    1/4/2015  288        2775.0            0.0             9780.0   \n2    1/3/2015  287        2769.0         8166.0             9722.0   \n3    1/2/2015  286           0.0         8157.0                0.0   \n4  12/31/2014  284        2730.0         8115.0             9633.0   \n\n   Cases_Nigeria  Cases_Senegal  Cases_UnitedStates  Cases_Spain  Cases_Mali  \\\n0            0.0            0.0                 0.0          0.0         0.0   \n1            0.0            0.0                 0.0          0.0         0.0   \n2            0.0            0.0                 0.0          0.0         0.0   \n3            0.0            0.0                 0.0          0.0         0.0   \n4            0.0            0.0                 0.0          0.0         0.0   \n\n   Deaths_Guinea  Deaths_Liberia  Deaths_SierraLeone  Deaths_Nigeria  \\\n0         1786.0             0.0              2977.0             0.0   \n1         1781.0             0.0              2943.0             0.0   \n2         1767.0          3496.0              2915.0             0.0   \n3            0.0          3496.0                 0.0             0.0   \n4         1739.0          3471.0              2827.0             0.0   \n\n   Deaths_Senegal  Deaths_UnitedStates  Deaths_Spain  Deaths_Mali  \\\n0             0.0                  0.0           0.0          0.0   \n1             0.0                  0.0           0.0          0.0   \n2             0.0                  0.0           0.0          0.0   \n3             0.0                  0.0           0.0          0.0   \n4             0.0                  0.0           0.0          0.0   \n\n   Deaths_multi  \n0        4763.0  \n1        4724.0  \n2        4682.0  \n3           0.0  \n4        4566.0  ",
      "text/html": "<div>\n<style scoped>\n    .dataframe tbody tr th:only-of-type {\n        vertical-align: middle;\n    }\n\n    .dataframe tbody tr th {\n        vertical-align: top;\n    }\n\n    .dataframe thead th {\n        text-align: right;\n    }\n</style>\n<table border=\"1\" class=\"dataframe\">\n  <thead>\n    <tr style=\"text-align: right;\">\n      <th></th>\n      <th>Date</th>\n      <th>Day</th>\n      <th>Cases_Guinea</th>\n      <th>Cases_Liberia</th>\n      <th>Cases_SierraLeone</th>\n      <th>Cases_Nigeria</th>\n      <th>Cases_Senegal</th>\n      <th>Cases_UnitedStates</th>\n      <th>Cases_Spain</th>\n      <th>Cases_Mali</th>\n      <th>Deaths_Guinea</th>\n      <th>Deaths_Liberia</th>\n      <th>Deaths_SierraLeone</th>\n      <th>Deaths_Nigeria</th>\n      <th>Deaths_Senegal</th>\n      <th>Deaths_UnitedStates</th>\n      <th>Deaths_Spain</th>\n      <th>Deaths_Mali</th>\n      <th>Deaths_multi</th>\n    </tr>\n  </thead>\n  <tbody>\n    <tr>\n      <th>0</th>\n      <td>1/5/2015</td>\n      <td>289</td>\n      <td>2776.0</td>\n      <td>0.0</td>\n      <td>10030.0</td>\n      <td>0.0</td>\n      <td>0.0</td>\n      <td>0.0</td>\n      <td>0.0</td>\n      <td>0.0</td>\n      <td>1786.0</td>\n      <td>0.0</td>\n      <td>2977.0</td>\n      <td>0.0</td>\n      <td>0.0</td>\n      <td>0.0</td>\n      <td>0.0</td>\n      <td>0.0</td>\n      <td>4763.0</td>\n    </tr>\n    <tr>\n      <th>1</th>\n      <td>1/4/2015</td>\n      <td>288</td>\n      <td>2775.0</td>\n      <td>0.0</td>\n      <td>9780.0</td>\n      <td>0.0</td>\n      <td>0.0</td>\n      <td>0.0</td>\n      <td>0.0</td>\n      <td>0.0</td>\n      <td>1781.0</td>\n      <td>0.0</td>\n      <td>2943.0</td>\n      <td>0.0</td>\n      <td>0.0</td>\n      <td>0.0</td>\n      <td>0.0</td>\n      <td>0.0</td>\n      <td>4724.0</td>\n    </tr>\n    <tr>\n      <th>2</th>\n      <td>1/3/2015</td>\n      <td>287</td>\n      <td>2769.0</td>\n      <td>8166.0</td>\n      <td>9722.0</td>\n      <td>0.0</td>\n      <td>0.0</td>\n      <td>0.0</td>\n      <td>0.0</td>\n      <td>0.0</td>\n      <td>1767.0</td>\n      <td>3496.0</td>\n      <td>2915.0</td>\n      <td>0.0</td>\n      <td>0.0</td>\n      <td>0.0</td>\n      <td>0.0</td>\n      <td>0.0</td>\n      <td>4682.0</td>\n    </tr>\n    <tr>\n      <th>3</th>\n      <td>1/2/2015</td>\n      <td>286</td>\n      <td>0.0</td>\n      <td>8157.0</td>\n      <td>0.0</td>\n      <td>0.0</td>\n      <td>0.0</td>\n      <td>0.0</td>\n      <td>0.0</td>\n      <td>0.0</td>\n      <td>0.0</td>\n      <td>3496.0</td>\n      <td>0.0</td>\n      <td>0.0</td>\n      <td>0.0</td>\n      <td>0.0</td>\n      <td>0.0</td>\n      <td>0.0</td>\n      <td>0.0</td>\n    </tr>\n    <tr>\n      <th>4</th>\n      <td>12/31/2014</td>\n      <td>284</td>\n      <td>2730.0</td>\n      <td>8115.0</td>\n      <td>9633.0</td>\n      <td>0.0</td>\n      <td>0.0</td>\n      <td>0.0</td>\n      <td>0.0</td>\n      <td>0.0</td>\n      <td>1739.0</td>\n      <td>3471.0</td>\n      <td>2827.0</td>\n      <td>0.0</td>\n      <td>0.0</td>\n      <td>0.0</td>\n      <td>0.0</td>\n      <td>0.0</td>\n      <td>4566.0</td>\n    </tr>\n  </tbody>\n</table>\n</div>"
     },
     "metadata": {},
     "execution_count": 64
    }
   ],
   "source": [
    "# 누락값을 0으로 변경하기\n",
    "ebola.fillna(0).head()"
   ]
  },
  {
   "cell_type": "code",
   "execution_count": 59,
   "metadata": {},
   "outputs": [
    {
     "output_type": "execute_result",
     "data": {
      "text/plain": "          Date  Day  Cases_Guinea  Cases_Liberia  Cases_SierraLeone  \\\n0     1/5/2015  289        2776.0            NaN            10030.0   \n1     1/4/2015  288        2775.0            NaN             9780.0   \n2     1/3/2015  287        2769.0         8166.0             9722.0   \n3     1/2/2015  286        2769.0         8157.0             9722.0   \n4   12/31/2014  284        2730.0         8115.0             9633.0   \n5   12/28/2014  281        2706.0         8018.0             9446.0   \n6   12/27/2014  280        2695.0         8018.0             9409.0   \n7   12/24/2014  277        2630.0         7977.0             9203.0   \n8   12/21/2014  273        2597.0         7977.0             9004.0   \n9   12/20/2014  272        2571.0         7862.0             8939.0   \n10  12/18/2014  271        2571.0         7830.0             8939.0   \n\n    Cases_Nigeria  Cases_Senegal  Cases_UnitedStates  Cases_Spain  Cases_Mali  \\\n0             NaN            NaN                 NaN          NaN         NaN   \n1             NaN            NaN                 NaN          NaN         NaN   \n2             NaN            NaN                 NaN          NaN         NaN   \n3             NaN            NaN                 NaN          NaN         NaN   \n4             NaN            NaN                 NaN          NaN         NaN   \n5             NaN            NaN                 NaN          NaN         NaN   \n6             NaN            NaN                 NaN          NaN         NaN   \n7             NaN            NaN                 NaN          NaN         NaN   \n8             NaN            NaN                 NaN          NaN         NaN   \n9             NaN            NaN                 NaN          NaN         NaN   \n10            NaN            NaN                 NaN          NaN         NaN   \n\n    Deaths_Guinea  Deaths_Liberia  Deaths_SierraLeone  Deaths_Nigeria  \\\n0          1786.0             NaN              2977.0             NaN   \n1          1781.0             NaN              2943.0             NaN   \n2          1767.0          3496.0              2915.0             NaN   \n3          1767.0          3496.0              2915.0             NaN   \n4          1739.0          3471.0              2827.0             NaN   \n5          1708.0          3423.0              2758.0             NaN   \n6          1697.0          3423.0              2732.0             NaN   \n7          1697.0          3413.0              2655.0             NaN   \n8          1607.0          3413.0              2582.0             NaN   \n9          1586.0          3384.0              2556.0             NaN   \n10         1586.0          3376.0              2556.0             NaN   \n\n    Deaths_Senegal  Deaths_UnitedStates  Deaths_Spain  Deaths_Mali  \n0              NaN                  NaN           NaN          NaN  \n1              NaN                  NaN           NaN          NaN  \n2              NaN                  NaN           NaN          NaN  \n3              NaN                  NaN           NaN          NaN  \n4              NaN                  NaN           NaN          NaN  \n5              NaN                  NaN           NaN          NaN  \n6              NaN                  NaN           NaN          NaN  \n7              NaN                  NaN           NaN          NaN  \n8              NaN                  NaN           NaN          NaN  \n9              NaN                  NaN           NaN          NaN  \n10             NaN                  NaN           NaN          NaN  ",
      "text/html": "<div>\n<style scoped>\n    .dataframe tbody tr th:only-of-type {\n        vertical-align: middle;\n    }\n\n    .dataframe tbody tr th {\n        vertical-align: top;\n    }\n\n    .dataframe thead th {\n        text-align: right;\n    }\n</style>\n<table border=\"1\" class=\"dataframe\">\n  <thead>\n    <tr style=\"text-align: right;\">\n      <th></th>\n      <th>Date</th>\n      <th>Day</th>\n      <th>Cases_Guinea</th>\n      <th>Cases_Liberia</th>\n      <th>Cases_SierraLeone</th>\n      <th>Cases_Nigeria</th>\n      <th>Cases_Senegal</th>\n      <th>Cases_UnitedStates</th>\n      <th>Cases_Spain</th>\n      <th>Cases_Mali</th>\n      <th>Deaths_Guinea</th>\n      <th>Deaths_Liberia</th>\n      <th>Deaths_SierraLeone</th>\n      <th>Deaths_Nigeria</th>\n      <th>Deaths_Senegal</th>\n      <th>Deaths_UnitedStates</th>\n      <th>Deaths_Spain</th>\n      <th>Deaths_Mali</th>\n    </tr>\n  </thead>\n  <tbody>\n    <tr>\n      <th>0</th>\n      <td>1/5/2015</td>\n      <td>289</td>\n      <td>2776.0</td>\n      <td>NaN</td>\n      <td>10030.0</td>\n      <td>NaN</td>\n      <td>NaN</td>\n      <td>NaN</td>\n      <td>NaN</td>\n      <td>NaN</td>\n      <td>1786.0</td>\n      <td>NaN</td>\n      <td>2977.0</td>\n      <td>NaN</td>\n      <td>NaN</td>\n      <td>NaN</td>\n      <td>NaN</td>\n      <td>NaN</td>\n    </tr>\n    <tr>\n      <th>1</th>\n      <td>1/4/2015</td>\n      <td>288</td>\n      <td>2775.0</td>\n      <td>NaN</td>\n      <td>9780.0</td>\n      <td>NaN</td>\n      <td>NaN</td>\n      <td>NaN</td>\n      <td>NaN</td>\n      <td>NaN</td>\n      <td>1781.0</td>\n      <td>NaN</td>\n      <td>2943.0</td>\n      <td>NaN</td>\n      <td>NaN</td>\n      <td>NaN</td>\n      <td>NaN</td>\n      <td>NaN</td>\n    </tr>\n    <tr>\n      <th>2</th>\n      <td>1/3/2015</td>\n      <td>287</td>\n      <td>2769.0</td>\n      <td>8166.0</td>\n      <td>9722.0</td>\n      <td>NaN</td>\n      <td>NaN</td>\n      <td>NaN</td>\n      <td>NaN</td>\n      <td>NaN</td>\n      <td>1767.0</td>\n      <td>3496.0</td>\n      <td>2915.0</td>\n      <td>NaN</td>\n      <td>NaN</td>\n      <td>NaN</td>\n      <td>NaN</td>\n      <td>NaN</td>\n    </tr>\n    <tr>\n      <th>3</th>\n      <td>1/2/2015</td>\n      <td>286</td>\n      <td>2769.0</td>\n      <td>8157.0</td>\n      <td>9722.0</td>\n      <td>NaN</td>\n      <td>NaN</td>\n      <td>NaN</td>\n      <td>NaN</td>\n      <td>NaN</td>\n      <td>1767.0</td>\n      <td>3496.0</td>\n      <td>2915.0</td>\n      <td>NaN</td>\n      <td>NaN</td>\n      <td>NaN</td>\n      <td>NaN</td>\n      <td>NaN</td>\n    </tr>\n    <tr>\n      <th>4</th>\n      <td>12/31/2014</td>\n      <td>284</td>\n      <td>2730.0</td>\n      <td>8115.0</td>\n      <td>9633.0</td>\n      <td>NaN</td>\n      <td>NaN</td>\n      <td>NaN</td>\n      <td>NaN</td>\n      <td>NaN</td>\n      <td>1739.0</td>\n      <td>3471.0</td>\n      <td>2827.0</td>\n      <td>NaN</td>\n      <td>NaN</td>\n      <td>NaN</td>\n      <td>NaN</td>\n      <td>NaN</td>\n    </tr>\n    <tr>\n      <th>5</th>\n      <td>12/28/2014</td>\n      <td>281</td>\n      <td>2706.0</td>\n      <td>8018.0</td>\n      <td>9446.0</td>\n      <td>NaN</td>\n      <td>NaN</td>\n      <td>NaN</td>\n      <td>NaN</td>\n      <td>NaN</td>\n      <td>1708.0</td>\n      <td>3423.0</td>\n      <td>2758.0</td>\n      <td>NaN</td>\n      <td>NaN</td>\n      <td>NaN</td>\n      <td>NaN</td>\n      <td>NaN</td>\n    </tr>\n    <tr>\n      <th>6</th>\n      <td>12/27/2014</td>\n      <td>280</td>\n      <td>2695.0</td>\n      <td>8018.0</td>\n      <td>9409.0</td>\n      <td>NaN</td>\n      <td>NaN</td>\n      <td>NaN</td>\n      <td>NaN</td>\n      <td>NaN</td>\n      <td>1697.0</td>\n      <td>3423.0</td>\n      <td>2732.0</td>\n      <td>NaN</td>\n      <td>NaN</td>\n      <td>NaN</td>\n      <td>NaN</td>\n      <td>NaN</td>\n    </tr>\n    <tr>\n      <th>7</th>\n      <td>12/24/2014</td>\n      <td>277</td>\n      <td>2630.0</td>\n      <td>7977.0</td>\n      <td>9203.0</td>\n      <td>NaN</td>\n      <td>NaN</td>\n      <td>NaN</td>\n      <td>NaN</td>\n      <td>NaN</td>\n      <td>1697.0</td>\n      <td>3413.0</td>\n      <td>2655.0</td>\n      <td>NaN</td>\n      <td>NaN</td>\n      <td>NaN</td>\n      <td>NaN</td>\n      <td>NaN</td>\n    </tr>\n    <tr>\n      <th>8</th>\n      <td>12/21/2014</td>\n      <td>273</td>\n      <td>2597.0</td>\n      <td>7977.0</td>\n      <td>9004.0</td>\n      <td>NaN</td>\n      <td>NaN</td>\n      <td>NaN</td>\n      <td>NaN</td>\n      <td>NaN</td>\n      <td>1607.0</td>\n      <td>3413.0</td>\n      <td>2582.0</td>\n      <td>NaN</td>\n      <td>NaN</td>\n      <td>NaN</td>\n      <td>NaN</td>\n      <td>NaN</td>\n    </tr>\n    <tr>\n      <th>9</th>\n      <td>12/20/2014</td>\n      <td>272</td>\n      <td>2571.0</td>\n      <td>7862.0</td>\n      <td>8939.0</td>\n      <td>NaN</td>\n      <td>NaN</td>\n      <td>NaN</td>\n      <td>NaN</td>\n      <td>NaN</td>\n      <td>1586.0</td>\n      <td>3384.0</td>\n      <td>2556.0</td>\n      <td>NaN</td>\n      <td>NaN</td>\n      <td>NaN</td>\n      <td>NaN</td>\n      <td>NaN</td>\n    </tr>\n    <tr>\n      <th>10</th>\n      <td>12/18/2014</td>\n      <td>271</td>\n      <td>2571.0</td>\n      <td>7830.0</td>\n      <td>8939.0</td>\n      <td>NaN</td>\n      <td>NaN</td>\n      <td>NaN</td>\n      <td>NaN</td>\n      <td>NaN</td>\n      <td>1586.0</td>\n      <td>3376.0</td>\n      <td>2556.0</td>\n      <td>NaN</td>\n      <td>NaN</td>\n      <td>NaN</td>\n      <td>NaN</td>\n      <td>NaN</td>\n    </tr>\n  </tbody>\n</table>\n</div>"
     },
     "metadata": {},
     "execution_count": 59
    }
   ],
   "source": [
    "# 누락값이 발생하기 전의 값으로 앞으로 등장할 누락값을 대체\n",
    "ebola.fillna(method='ffill').loc[0:10]"
   ]
  },
  {
   "cell_type": "code",
   "execution_count": 60,
   "metadata": {},
   "outputs": [
    {
     "output_type": "execute_result",
     "data": {
      "text/plain": "          Date  Day  Cases_Guinea  Cases_Liberia  Cases_SierraLeone  \\\n0     1/5/2015  289        2776.0         8166.0            10030.0   \n1     1/4/2015  288        2775.0         8166.0             9780.0   \n2     1/3/2015  287        2769.0         8166.0             9722.0   \n3     1/2/2015  286        2730.0         8157.0             9633.0   \n4   12/31/2014  284        2730.0         8115.0             9633.0   \n5   12/28/2014  281        2706.0         8018.0             9446.0   \n6   12/27/2014  280        2695.0         7977.0             9409.0   \n7   12/24/2014  277        2630.0         7977.0             9203.0   \n8   12/21/2014  273        2597.0         7862.0             9004.0   \n9   12/20/2014  272        2571.0         7862.0             8939.0   \n10  12/18/2014  271        2416.0         7830.0             8356.0   \n\n    Cases_Nigeria  Cases_Senegal  Cases_UnitedStates  Cases_Spain  Cases_Mali  \\\n0            20.0            1.0                 4.0          1.0         7.0   \n1            20.0            1.0                 4.0          1.0         7.0   \n2            20.0            1.0                 4.0          1.0         7.0   \n3            20.0            1.0                 4.0          1.0         7.0   \n4            20.0            1.0                 4.0          1.0         7.0   \n5            20.0            1.0                 4.0          1.0         7.0   \n6            20.0            1.0                 4.0          1.0         7.0   \n7            20.0            1.0                 4.0          1.0         7.0   \n8            20.0            1.0                 4.0          1.0         7.0   \n9            20.0            1.0                 4.0          1.0         7.0   \n10           20.0            1.0                 4.0          1.0         7.0   \n\n    Deaths_Guinea  Deaths_Liberia  Deaths_SierraLeone  Deaths_Nigeria  \\\n0          1786.0          3496.0              2977.0             8.0   \n1          1781.0          3496.0              2943.0             8.0   \n2          1767.0          3496.0              2915.0             8.0   \n3          1739.0          3496.0              2827.0             8.0   \n4          1739.0          3471.0              2827.0             8.0   \n5          1708.0          3423.0              2758.0             8.0   \n6          1697.0          3413.0              2732.0             8.0   \n7          1607.0          3413.0              2655.0             8.0   \n8          1607.0          3384.0              2582.0             8.0   \n9          1586.0          3384.0              2556.0             8.0   \n10         1525.0          3376.0              2085.0             8.0   \n\n    Deaths_Senegal  Deaths_UnitedStates  Deaths_Spain  Deaths_Mali  \n0              0.0                  1.0           0.0          6.0  \n1              0.0                  1.0           0.0          6.0  \n2              0.0                  1.0           0.0          6.0  \n3              0.0                  1.0           0.0          6.0  \n4              0.0                  1.0           0.0          6.0  \n5              0.0                  1.0           0.0          6.0  \n6              0.0                  1.0           0.0          6.0  \n7              0.0                  1.0           0.0          6.0  \n8              0.0                  1.0           0.0          6.0  \n9              0.0                  1.0           0.0          6.0  \n10             0.0                  1.0           0.0          6.0  ",
      "text/html": "<div>\n<style scoped>\n    .dataframe tbody tr th:only-of-type {\n        vertical-align: middle;\n    }\n\n    .dataframe tbody tr th {\n        vertical-align: top;\n    }\n\n    .dataframe thead th {\n        text-align: right;\n    }\n</style>\n<table border=\"1\" class=\"dataframe\">\n  <thead>\n    <tr style=\"text-align: right;\">\n      <th></th>\n      <th>Date</th>\n      <th>Day</th>\n      <th>Cases_Guinea</th>\n      <th>Cases_Liberia</th>\n      <th>Cases_SierraLeone</th>\n      <th>Cases_Nigeria</th>\n      <th>Cases_Senegal</th>\n      <th>Cases_UnitedStates</th>\n      <th>Cases_Spain</th>\n      <th>Cases_Mali</th>\n      <th>Deaths_Guinea</th>\n      <th>Deaths_Liberia</th>\n      <th>Deaths_SierraLeone</th>\n      <th>Deaths_Nigeria</th>\n      <th>Deaths_Senegal</th>\n      <th>Deaths_UnitedStates</th>\n      <th>Deaths_Spain</th>\n      <th>Deaths_Mali</th>\n    </tr>\n  </thead>\n  <tbody>\n    <tr>\n      <th>0</th>\n      <td>1/5/2015</td>\n      <td>289</td>\n      <td>2776.0</td>\n      <td>8166.0</td>\n      <td>10030.0</td>\n      <td>20.0</td>\n      <td>1.0</td>\n      <td>4.0</td>\n      <td>1.0</td>\n      <td>7.0</td>\n      <td>1786.0</td>\n      <td>3496.0</td>\n      <td>2977.0</td>\n      <td>8.0</td>\n      <td>0.0</td>\n      <td>1.0</td>\n      <td>0.0</td>\n      <td>6.0</td>\n    </tr>\n    <tr>\n      <th>1</th>\n      <td>1/4/2015</td>\n      <td>288</td>\n      <td>2775.0</td>\n      <td>8166.0</td>\n      <td>9780.0</td>\n      <td>20.0</td>\n      <td>1.0</td>\n      <td>4.0</td>\n      <td>1.0</td>\n      <td>7.0</td>\n      <td>1781.0</td>\n      <td>3496.0</td>\n      <td>2943.0</td>\n      <td>8.0</td>\n      <td>0.0</td>\n      <td>1.0</td>\n      <td>0.0</td>\n      <td>6.0</td>\n    </tr>\n    <tr>\n      <th>2</th>\n      <td>1/3/2015</td>\n      <td>287</td>\n      <td>2769.0</td>\n      <td>8166.0</td>\n      <td>9722.0</td>\n      <td>20.0</td>\n      <td>1.0</td>\n      <td>4.0</td>\n      <td>1.0</td>\n      <td>7.0</td>\n      <td>1767.0</td>\n      <td>3496.0</td>\n      <td>2915.0</td>\n      <td>8.0</td>\n      <td>0.0</td>\n      <td>1.0</td>\n      <td>0.0</td>\n      <td>6.0</td>\n    </tr>\n    <tr>\n      <th>3</th>\n      <td>1/2/2015</td>\n      <td>286</td>\n      <td>2730.0</td>\n      <td>8157.0</td>\n      <td>9633.0</td>\n      <td>20.0</td>\n      <td>1.0</td>\n      <td>4.0</td>\n      <td>1.0</td>\n      <td>7.0</td>\n      <td>1739.0</td>\n      <td>3496.0</td>\n      <td>2827.0</td>\n      <td>8.0</td>\n      <td>0.0</td>\n      <td>1.0</td>\n      <td>0.0</td>\n      <td>6.0</td>\n    </tr>\n    <tr>\n      <th>4</th>\n      <td>12/31/2014</td>\n      <td>284</td>\n      <td>2730.0</td>\n      <td>8115.0</td>\n      <td>9633.0</td>\n      <td>20.0</td>\n      <td>1.0</td>\n      <td>4.0</td>\n      <td>1.0</td>\n      <td>7.0</td>\n      <td>1739.0</td>\n      <td>3471.0</td>\n      <td>2827.0</td>\n      <td>8.0</td>\n      <td>0.0</td>\n      <td>1.0</td>\n      <td>0.0</td>\n      <td>6.0</td>\n    </tr>\n    <tr>\n      <th>5</th>\n      <td>12/28/2014</td>\n      <td>281</td>\n      <td>2706.0</td>\n      <td>8018.0</td>\n      <td>9446.0</td>\n      <td>20.0</td>\n      <td>1.0</td>\n      <td>4.0</td>\n      <td>1.0</td>\n      <td>7.0</td>\n      <td>1708.0</td>\n      <td>3423.0</td>\n      <td>2758.0</td>\n      <td>8.0</td>\n      <td>0.0</td>\n      <td>1.0</td>\n      <td>0.0</td>\n      <td>6.0</td>\n    </tr>\n    <tr>\n      <th>6</th>\n      <td>12/27/2014</td>\n      <td>280</td>\n      <td>2695.0</td>\n      <td>7977.0</td>\n      <td>9409.0</td>\n      <td>20.0</td>\n      <td>1.0</td>\n      <td>4.0</td>\n      <td>1.0</td>\n      <td>7.0</td>\n      <td>1697.0</td>\n      <td>3413.0</td>\n      <td>2732.0</td>\n      <td>8.0</td>\n      <td>0.0</td>\n      <td>1.0</td>\n      <td>0.0</td>\n      <td>6.0</td>\n    </tr>\n    <tr>\n      <th>7</th>\n      <td>12/24/2014</td>\n      <td>277</td>\n      <td>2630.0</td>\n      <td>7977.0</td>\n      <td>9203.0</td>\n      <td>20.0</td>\n      <td>1.0</td>\n      <td>4.0</td>\n      <td>1.0</td>\n      <td>7.0</td>\n      <td>1607.0</td>\n      <td>3413.0</td>\n      <td>2655.0</td>\n      <td>8.0</td>\n      <td>0.0</td>\n      <td>1.0</td>\n      <td>0.0</td>\n      <td>6.0</td>\n    </tr>\n    <tr>\n      <th>8</th>\n      <td>12/21/2014</td>\n      <td>273</td>\n      <td>2597.0</td>\n      <td>7862.0</td>\n      <td>9004.0</td>\n      <td>20.0</td>\n      <td>1.0</td>\n      <td>4.0</td>\n      <td>1.0</td>\n      <td>7.0</td>\n      <td>1607.0</td>\n      <td>3384.0</td>\n      <td>2582.0</td>\n      <td>8.0</td>\n      <td>0.0</td>\n      <td>1.0</td>\n      <td>0.0</td>\n      <td>6.0</td>\n    </tr>\n    <tr>\n      <th>9</th>\n      <td>12/20/2014</td>\n      <td>272</td>\n      <td>2571.0</td>\n      <td>7862.0</td>\n      <td>8939.0</td>\n      <td>20.0</td>\n      <td>1.0</td>\n      <td>4.0</td>\n      <td>1.0</td>\n      <td>7.0</td>\n      <td>1586.0</td>\n      <td>3384.0</td>\n      <td>2556.0</td>\n      <td>8.0</td>\n      <td>0.0</td>\n      <td>1.0</td>\n      <td>0.0</td>\n      <td>6.0</td>\n    </tr>\n    <tr>\n      <th>10</th>\n      <td>12/18/2014</td>\n      <td>271</td>\n      <td>2416.0</td>\n      <td>7830.0</td>\n      <td>8356.0</td>\n      <td>20.0</td>\n      <td>1.0</td>\n      <td>4.0</td>\n      <td>1.0</td>\n      <td>7.0</td>\n      <td>1525.0</td>\n      <td>3376.0</td>\n      <td>2085.0</td>\n      <td>8.0</td>\n      <td>0.0</td>\n      <td>1.0</td>\n      <td>0.0</td>\n      <td>6.0</td>\n    </tr>\n  </tbody>\n</table>\n</div>"
     },
     "metadata": {},
     "execution_count": 60
    }
   ],
   "source": [
    "# 누락값이 나타난 후의 첫 번째 값으로, 앞선 누락값들을 대체\n",
    "ebola.fillna(method='bfill').loc[0:10]"
   ]
  },
  {
   "cell_type": "code",
   "execution_count": 61,
   "metadata": {},
   "outputs": [
    {
     "output_type": "execute_result",
     "data": {
      "text/plain": "          Date  Day  Cases_Guinea  Cases_Liberia  Cases_SierraLeone  \\\n0     1/5/2015  289        2776.0            NaN            10030.0   \n1     1/4/2015  288        2775.0            NaN             9780.0   \n2     1/3/2015  287        2769.0         8166.0             9722.0   \n3     1/2/2015  286        2749.5         8157.0             9677.5   \n4   12/31/2014  284        2730.0         8115.0             9633.0   \n5   12/28/2014  281        2706.0         8018.0             9446.0   \n6   12/27/2014  280        2695.0         7997.5             9409.0   \n7   12/24/2014  277        2630.0         7977.0             9203.0   \n8   12/21/2014  273        2597.0         7919.5             9004.0   \n9   12/20/2014  272        2571.0         7862.0             8939.0   \n10  12/18/2014  271        2493.5         7830.0             8647.5   \n\n    Cases_Nigeria  Cases_Senegal  Cases_UnitedStates  Cases_Spain  Cases_Mali  \\\n0             NaN            NaN                 NaN          NaN         NaN   \n1             NaN            NaN                 NaN          NaN         NaN   \n2             NaN            NaN                 NaN          NaN         NaN   \n3             NaN            NaN                 NaN          NaN         NaN   \n4             NaN            NaN                 NaN          NaN         NaN   \n5             NaN            NaN                 NaN          NaN         NaN   \n6             NaN            NaN                 NaN          NaN         NaN   \n7             NaN            NaN                 NaN          NaN         NaN   \n8             NaN            NaN                 NaN          NaN         NaN   \n9             NaN            NaN                 NaN          NaN         NaN   \n10            NaN            NaN                 NaN          NaN         NaN   \n\n    Deaths_Guinea  Deaths_Liberia  Deaths_SierraLeone  Deaths_Nigeria  \\\n0          1786.0             NaN              2977.0             NaN   \n1          1781.0             NaN              2943.0             NaN   \n2          1767.0          3496.0              2915.0             NaN   \n3          1753.0          3496.0              2871.0             NaN   \n4          1739.0          3471.0              2827.0             NaN   \n5          1708.0          3423.0              2758.0             NaN   \n6          1697.0          3418.0              2732.0             NaN   \n7          1652.0          3413.0              2655.0             NaN   \n8          1607.0          3398.5              2582.0             NaN   \n9          1586.0          3384.0              2556.0             NaN   \n10         1555.5          3376.0              2320.5             NaN   \n\n    Deaths_Senegal  Deaths_UnitedStates  Deaths_Spain  Deaths_Mali  \n0              NaN                  NaN           NaN          NaN  \n1              NaN                  NaN           NaN          NaN  \n2              NaN                  NaN           NaN          NaN  \n3              NaN                  NaN           NaN          NaN  \n4              NaN                  NaN           NaN          NaN  \n5              NaN                  NaN           NaN          NaN  \n6              NaN                  NaN           NaN          NaN  \n7              NaN                  NaN           NaN          NaN  \n8              NaN                  NaN           NaN          NaN  \n9              NaN                  NaN           NaN          NaN  \n10             NaN                  NaN           NaN          NaN  ",
      "text/html": "<div>\n<style scoped>\n    .dataframe tbody tr th:only-of-type {\n        vertical-align: middle;\n    }\n\n    .dataframe tbody tr th {\n        vertical-align: top;\n    }\n\n    .dataframe thead th {\n        text-align: right;\n    }\n</style>\n<table border=\"1\" class=\"dataframe\">\n  <thead>\n    <tr style=\"text-align: right;\">\n      <th></th>\n      <th>Date</th>\n      <th>Day</th>\n      <th>Cases_Guinea</th>\n      <th>Cases_Liberia</th>\n      <th>Cases_SierraLeone</th>\n      <th>Cases_Nigeria</th>\n      <th>Cases_Senegal</th>\n      <th>Cases_UnitedStates</th>\n      <th>Cases_Spain</th>\n      <th>Cases_Mali</th>\n      <th>Deaths_Guinea</th>\n      <th>Deaths_Liberia</th>\n      <th>Deaths_SierraLeone</th>\n      <th>Deaths_Nigeria</th>\n      <th>Deaths_Senegal</th>\n      <th>Deaths_UnitedStates</th>\n      <th>Deaths_Spain</th>\n      <th>Deaths_Mali</th>\n    </tr>\n  </thead>\n  <tbody>\n    <tr>\n      <th>0</th>\n      <td>1/5/2015</td>\n      <td>289</td>\n      <td>2776.0</td>\n      <td>NaN</td>\n      <td>10030.0</td>\n      <td>NaN</td>\n      <td>NaN</td>\n      <td>NaN</td>\n      <td>NaN</td>\n      <td>NaN</td>\n      <td>1786.0</td>\n      <td>NaN</td>\n      <td>2977.0</td>\n      <td>NaN</td>\n      <td>NaN</td>\n      <td>NaN</td>\n      <td>NaN</td>\n      <td>NaN</td>\n    </tr>\n    <tr>\n      <th>1</th>\n      <td>1/4/2015</td>\n      <td>288</td>\n      <td>2775.0</td>\n      <td>NaN</td>\n      <td>9780.0</td>\n      <td>NaN</td>\n      <td>NaN</td>\n      <td>NaN</td>\n      <td>NaN</td>\n      <td>NaN</td>\n      <td>1781.0</td>\n      <td>NaN</td>\n      <td>2943.0</td>\n      <td>NaN</td>\n      <td>NaN</td>\n      <td>NaN</td>\n      <td>NaN</td>\n      <td>NaN</td>\n    </tr>\n    <tr>\n      <th>2</th>\n      <td>1/3/2015</td>\n      <td>287</td>\n      <td>2769.0</td>\n      <td>8166.0</td>\n      <td>9722.0</td>\n      <td>NaN</td>\n      <td>NaN</td>\n      <td>NaN</td>\n      <td>NaN</td>\n      <td>NaN</td>\n      <td>1767.0</td>\n      <td>3496.0</td>\n      <td>2915.0</td>\n      <td>NaN</td>\n      <td>NaN</td>\n      <td>NaN</td>\n      <td>NaN</td>\n      <td>NaN</td>\n    </tr>\n    <tr>\n      <th>3</th>\n      <td>1/2/2015</td>\n      <td>286</td>\n      <td>2749.5</td>\n      <td>8157.0</td>\n      <td>9677.5</td>\n      <td>NaN</td>\n      <td>NaN</td>\n      <td>NaN</td>\n      <td>NaN</td>\n      <td>NaN</td>\n      <td>1753.0</td>\n      <td>3496.0</td>\n      <td>2871.0</td>\n      <td>NaN</td>\n      <td>NaN</td>\n      <td>NaN</td>\n      <td>NaN</td>\n      <td>NaN</td>\n    </tr>\n    <tr>\n      <th>4</th>\n      <td>12/31/2014</td>\n      <td>284</td>\n      <td>2730.0</td>\n      <td>8115.0</td>\n      <td>9633.0</td>\n      <td>NaN</td>\n      <td>NaN</td>\n      <td>NaN</td>\n      <td>NaN</td>\n      <td>NaN</td>\n      <td>1739.0</td>\n      <td>3471.0</td>\n      <td>2827.0</td>\n      <td>NaN</td>\n      <td>NaN</td>\n      <td>NaN</td>\n      <td>NaN</td>\n      <td>NaN</td>\n    </tr>\n    <tr>\n      <th>5</th>\n      <td>12/28/2014</td>\n      <td>281</td>\n      <td>2706.0</td>\n      <td>8018.0</td>\n      <td>9446.0</td>\n      <td>NaN</td>\n      <td>NaN</td>\n      <td>NaN</td>\n      <td>NaN</td>\n      <td>NaN</td>\n      <td>1708.0</td>\n      <td>3423.0</td>\n      <td>2758.0</td>\n      <td>NaN</td>\n      <td>NaN</td>\n      <td>NaN</td>\n      <td>NaN</td>\n      <td>NaN</td>\n    </tr>\n    <tr>\n      <th>6</th>\n      <td>12/27/2014</td>\n      <td>280</td>\n      <td>2695.0</td>\n      <td>7997.5</td>\n      <td>9409.0</td>\n      <td>NaN</td>\n      <td>NaN</td>\n      <td>NaN</td>\n      <td>NaN</td>\n      <td>NaN</td>\n      <td>1697.0</td>\n      <td>3418.0</td>\n      <td>2732.0</td>\n      <td>NaN</td>\n      <td>NaN</td>\n      <td>NaN</td>\n      <td>NaN</td>\n      <td>NaN</td>\n    </tr>\n    <tr>\n      <th>7</th>\n      <td>12/24/2014</td>\n      <td>277</td>\n      <td>2630.0</td>\n      <td>7977.0</td>\n      <td>9203.0</td>\n      <td>NaN</td>\n      <td>NaN</td>\n      <td>NaN</td>\n      <td>NaN</td>\n      <td>NaN</td>\n      <td>1652.0</td>\n      <td>3413.0</td>\n      <td>2655.0</td>\n      <td>NaN</td>\n      <td>NaN</td>\n      <td>NaN</td>\n      <td>NaN</td>\n      <td>NaN</td>\n    </tr>\n    <tr>\n      <th>8</th>\n      <td>12/21/2014</td>\n      <td>273</td>\n      <td>2597.0</td>\n      <td>7919.5</td>\n      <td>9004.0</td>\n      <td>NaN</td>\n      <td>NaN</td>\n      <td>NaN</td>\n      <td>NaN</td>\n      <td>NaN</td>\n      <td>1607.0</td>\n      <td>3398.5</td>\n      <td>2582.0</td>\n      <td>NaN</td>\n      <td>NaN</td>\n      <td>NaN</td>\n      <td>NaN</td>\n      <td>NaN</td>\n    </tr>\n    <tr>\n      <th>9</th>\n      <td>12/20/2014</td>\n      <td>272</td>\n      <td>2571.0</td>\n      <td>7862.0</td>\n      <td>8939.0</td>\n      <td>NaN</td>\n      <td>NaN</td>\n      <td>NaN</td>\n      <td>NaN</td>\n      <td>NaN</td>\n      <td>1586.0</td>\n      <td>3384.0</td>\n      <td>2556.0</td>\n      <td>NaN</td>\n      <td>NaN</td>\n      <td>NaN</td>\n      <td>NaN</td>\n      <td>NaN</td>\n    </tr>\n    <tr>\n      <th>10</th>\n      <td>12/18/2014</td>\n      <td>271</td>\n      <td>2493.5</td>\n      <td>7830.0</td>\n      <td>8647.5</td>\n      <td>NaN</td>\n      <td>NaN</td>\n      <td>NaN</td>\n      <td>NaN</td>\n      <td>NaN</td>\n      <td>1555.5</td>\n      <td>3376.0</td>\n      <td>2320.5</td>\n      <td>NaN</td>\n      <td>NaN</td>\n      <td>NaN</td>\n      <td>NaN</td>\n      <td>NaN</td>\n    </tr>\n  </tbody>\n</table>\n</div>"
     },
     "metadata": {},
     "execution_count": 61
    }
   ],
   "source": [
    "# 누락값이 등장하기 전, 후 값의 평균으로 누락값을 대체\n",
    "ebola.interpolate().loc[0:10]"
   ]
  },
  {
   "cell_type": "markdown",
   "metadata": {},
   "source": [
    "# 누락값 삭제하기"
   ]
  },
  {
   "cell_type": "code",
   "execution_count": 62,
   "metadata": {},
   "outputs": [],
   "source": [
    "ebola_dropNa = ebola.dropna()"
   ]
  },
  {
   "cell_type": "markdown",
   "metadata": {},
   "source": [
    "# 누락값이 포함된 데이터 계산하기"
   ]
  },
  {
   "cell_type": "code",
   "execution_count": 63,
   "metadata": {},
   "outputs": [
    {
     "output_type": "execute_result",
     "data": {
      "text/plain": "   Deaths_Guinea  Deaths_SierraLeone  Deaths_multi\n0         1786.0              2977.0        4763.0\n1         1781.0              2943.0        4724.0\n2         1767.0              2915.0        4682.0\n3            NaN                 NaN           0.0\n4         1739.0              2827.0        4566.0\n5         1708.0              2758.0        4466.0\n6         1697.0              2732.0        4429.0\n7            NaN              2655.0        2655.0\n8         1607.0              2582.0        4189.0\n9         1586.0              2556.0        4142.0",
      "text/html": "<div>\n<style scoped>\n    .dataframe tbody tr th:only-of-type {\n        vertical-align: middle;\n    }\n\n    .dataframe tbody tr th {\n        vertical-align: top;\n    }\n\n    .dataframe thead th {\n        text-align: right;\n    }\n</style>\n<table border=\"1\" class=\"dataframe\">\n  <thead>\n    <tr style=\"text-align: right;\">\n      <th></th>\n      <th>Deaths_Guinea</th>\n      <th>Deaths_SierraLeone</th>\n      <th>Deaths_multi</th>\n    </tr>\n  </thead>\n  <tbody>\n    <tr>\n      <th>0</th>\n      <td>1786.0</td>\n      <td>2977.0</td>\n      <td>4763.0</td>\n    </tr>\n    <tr>\n      <th>1</th>\n      <td>1781.0</td>\n      <td>2943.0</td>\n      <td>4724.0</td>\n    </tr>\n    <tr>\n      <th>2</th>\n      <td>1767.0</td>\n      <td>2915.0</td>\n      <td>4682.0</td>\n    </tr>\n    <tr>\n      <th>3</th>\n      <td>NaN</td>\n      <td>NaN</td>\n      <td>0.0</td>\n    </tr>\n    <tr>\n      <th>4</th>\n      <td>1739.0</td>\n      <td>2827.0</td>\n      <td>4566.0</td>\n    </tr>\n    <tr>\n      <th>5</th>\n      <td>1708.0</td>\n      <td>2758.0</td>\n      <td>4466.0</td>\n    </tr>\n    <tr>\n      <th>6</th>\n      <td>1697.0</td>\n      <td>2732.0</td>\n      <td>4429.0</td>\n    </tr>\n    <tr>\n      <th>7</th>\n      <td>NaN</td>\n      <td>2655.0</td>\n      <td>2655.0</td>\n    </tr>\n    <tr>\n      <th>8</th>\n      <td>1607.0</td>\n      <td>2582.0</td>\n      <td>4189.0</td>\n    </tr>\n    <tr>\n      <th>9</th>\n      <td>1586.0</td>\n      <td>2556.0</td>\n      <td>4142.0</td>\n    </tr>\n  </tbody>\n</table>\n</div>"
     },
     "metadata": {},
     "execution_count": 63
    }
   ],
   "source": [
    "# 에볼라로 사망한 사람 수 구하기\n",
    "ebola['Deaths_multi'] = ebola['Deaths_Guinea'].fillna(0) + ebola['Deaths_SierraLeone'].fillna(0)\n",
    "ebola_death_subset = ebola.loc[:, ['Deaths_Guinea', 'Deaths_SierraLeone', 'Deaths_multi']]\n",
    "ebola_death_subset.head(10)"
   ]
  }
 ],
 "metadata": {
  "kernelspec": {
   "display_name": "Python 3.7.1 64-bit ('base': conda)",
   "language": "python",
   "name": "python37164bitbaseconda83a7e5714e534d4591eb96c2ef4f502c"
  },
  "language_info": {
   "codemirror_mode": {
    "name": "ipython",
    "version": 3
   },
   "file_extension": ".py",
   "mimetype": "text/x-python",
   "name": "python",
   "nbconvert_exporter": "python",
   "pygments_lexer": "ipython3",
   "version": "3.7.1-final"
  }
 },
 "nbformat": 4,
 "nbformat_minor": 2
}
>>>>>>> aefe469226192e9f42dbb0198cbab14d448afde5
