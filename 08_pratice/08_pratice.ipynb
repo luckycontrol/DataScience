{
  "cells": [
    {
      "cell_type": "code",
      "execution_count": null,
      "metadata": {},
      "outputs": [],
      "source": [
        "import pandas as pd\n",
        "import seaborn as sns"
      ]
    },
    {
      "cell_type": "markdown",
      "metadata": {},
      "source": [
        "# dtypes 속성으로 데이터프레임의 자료형 살펴보기"
      ]
    },
    {
      "cell_type": "code",
      "execution_count": null,
      "metadata": {},
      "outputs": [],
      "source": [
        "tips = sns.load_dataset('tips')\n",
        "tips.head()"
      ]
    },
    {
      "cell_type": "code",
      "execution_count": null,
      "metadata": {},
      "outputs": [],
      "source": [
        "tips['sex']"
      ]
    },
    {
      "cell_type": "code",
      "execution_count": null,
      "metadata": {},
      "outputs": [],
      "source": [
        "tips['sex_str'] = tips['sex'].astype(str)\n",
        "tips.dtypes"
      ]
    },
    {
      "cell_type": "markdown",
      "metadata": {},
      "source": [
        "# 여러 가지 자료형을 문자열로 변환하기"
      ]
    },
    {
      "cell_type": "code",
      "execution_count": null,
      "metadata": {},
      "outputs": [],
      "source": [
        "tips['total_bill'].dtype"
      ]
    },
    {
      "cell_type": "code",
      "execution_count": null,
      "metadata": {},
      "outputs": [],
      "source": [
        "tips['total_bill'] = tips['total_bill'].astype(str)\n",
        "tips.dtypes"
      ]
    },
    {
      "cell_type": "markdown",
      "metadata": {},
      "source": [
        "# 자료형을 변환한 데이터 다시 원래대로 만들기"
      ]
    },
    {
      "cell_type": "code",
      "execution_count": null,
      "metadata": {},
      "outputs": [],
      "source": [
        "tips['total_bill'] = tips['total_bill'].astype(float)\n",
        "tips.dtypes"
      ]
    },
    {
      "cell_type": "markdown",
      "metadata": {},
      "source": [
        "# 잘못 입력한 문자열 처리하기"
      ]
    },
    {
      "cell_type": "code",
      "execution_count": null,
      "metadata": {},
      "outputs": [],
      "source": [
        "tips_sub_miss = tips.head(10)\n",
        "tips_sub_miss.loc[[1, 3, 5, 7], 'total_bill'] = 'missing'\n",
        "tips_sub_miss"
      ]
    },
    {
      "cell_type": "code",
      "execution_count": null,
      "metadata": {},
      "outputs": [],
      "source": [
        "# missing (str) 을 float으로 변경하려 하기 때문에 에러 발생\n",
        "tips_sub_miss['total_bill'].astype(float)"
      ]
    },
    {
      "cell_type": "code",
      "execution_count": null,
      "metadata": {},
      "outputs": [],
      "source": [
        "# 마찬가지로 에러 발생\n",
        "pd.to_numeric(tips_sub_miss['totla_bill'])"
      ]
    },
    {
      "cell_type": "code",
      "execution_count": null,
      "metadata": {},
      "outputs": [],
      "source": [
        "# to_numeric의 인자 중 errors 인자를 'ignore'로 바꾸어\n",
        "# 데이터 타입을 강제로 변환\n",
        "tips_sub_miss.loc[:, 'total_bill'] = pd.to_numeric(tips_sub_miss['total_bill'], errors='ignore')\n",
        "tips_sub_miss.dtypes"
      ]
    },
    {
      "cell_type": "code",
      "execution_count": null,
      "metadata": {},
      "outputs": [],
      "source": [
        "# to_numeric의 errors를 'coerce'로 바꾸어 float이 아닌 자료는\n",
        "# NaN로 대체\n",
        "tips_sub_miss.loc[:, 'total_bill'] = pd.to_numeric(tips_sub_miss['total_bill'], errors='coerce')\n",
        "print(tips_sub_miss.dtypes)\n",
        "print(tips_sub_miss)"
      ]
    },
    {
      "cell_type": "markdown",
      "metadata": {},
      "source": [
        "# 문자열을 카테고리로 변환하기"
      ]
    },
    {
      "cell_type": "code",
      "execution_count": 25,
      "metadata": {},
      "outputs": [
        {
          "output_type": "stream",
          "name": "stdout",
          "text": "<class 'pandas.core.frame.DataFrame'>\nRangeIndex: 244 entries, 0 to 243\nData columns (total 8 columns):\ntotal_bill    244 non-null float64\ntip           244 non-null float64\nsex           244 non-null object\nsmoker        244 non-null category\nday           244 non-null category\ntime          244 non-null category\nsize          244 non-null int64\nsex_str       244 non-null object\ndtypes: category(3), float64(2), int64(1), object(2)\nmemory usage: 10.7+ KB\n"
        }
      ],
      "source": [
        "tips['sex'] = tips['sex'].astype(str)\n",
        "tips.info()"
      ]
    },
    {
      "cell_type": "code",
      "execution_count": 26,
      "metadata": {},
      "outputs": [
        {
          "output_type": "stream",
          "name": "stdout",
          "text": "<class 'pandas.core.frame.DataFrame'>\nRangeIndex: 244 entries, 0 to 243\nData columns (total 8 columns):\ntotal_bill    244 non-null float64\ntip           244 non-null float64\nsex           244 non-null category\nsmoker        244 non-null category\nday           244 non-null category\ntime          244 non-null category\nsize          244 non-null int64\nsex_str       244 non-null object\ndtypes: category(4), float64(2), int64(1), object(1)\nmemory usage: 9.1+ KB\n"
        }
      ],
      "source": [
        "tips['sex'] = tips['sex'].astype('category')\n",
        "tips.info()"
      ]
    },
    {
      "cell_type": "code",
      "execution_count": null,
      "metadata": {},
      "outputs": [],
      "source": []
    }
  ],
  "metadata": {
    "kernelspec": {
      "display_name": "Python 3.7.1 64-bit ('base': conda)",
      "language": "python",
      "name": "python37164bitbaseconda83a7e5714e534d4591eb96c2ef4f502c"
    },
    "language_info": {
      "codemirror_mode": {
        "name": "ipython",
        "version": 3
      },
      "file_extension": ".py",
      "mimetype": "text/x-python",
      "name": "python",
      "nbconvert_exporter": "python",
      "pygments_lexer": "ipython3",
      "version": "3.7.1-final"
    }
  },
  "nbformat": 4,
  "nbformat_minor": 1
}