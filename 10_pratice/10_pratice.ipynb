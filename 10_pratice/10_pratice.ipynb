{
  "cells": [
    {
      "cell_type": "code",
      "execution_count": 1,
      "metadata": {},
      "outputs": [],
      "source": [
        "import pandas as pd\n",
        "import numpy as np"
      ]
    },
    {
      "cell_type": "markdown",
      "metadata": {},
      "source": [
        "# 제곱 함수와 n 제곱 함수 만들기"
      ]
    },
    {
      "cell_type": "code",
      "execution_count": 9,
      "metadata": {},
      "outputs": [],
      "source": [
        "def sq(x):\n",
        "    return x ** 2\n",
        "\n",
        "def n_sq(x, n):\n",
        "    return x ** n"
      ]
    },
    {
      "cell_type": "markdown",
      "metadata": {},
      "source": [
        "# 시리즈와 apply 메서드"
      ]
    },
    {
      "cell_type": "code",
      "execution_count": 12,
      "metadata": {},
      "outputs": [],
      "source": [
        "df = pd.DataFrame({\n",
        "    'a' : [10, 20, 30],\n",
        "    'b' : [20, 30, 40]\n",
        "})"
      ]
    },
    {
      "cell_type": "code",
      "execution_count": 13,
      "metadata": {},
      "outputs": [
        {
          "output_type": "stream",
          "name": "stdout",
          "text": "0    100\n1    400\n2    900\nName: a, dtype: int64\n0      100000\n1     3200000\n2    24300000\nName: a, dtype: int64\n"
        }
      ],
      "source": [
        "print(df.a.apply(sq))\n",
        "print(df.a.apply(n_sq, n=5))"
      ]
    },
    {
      "cell_type": "markdown",
      "metadata": {},
      "source": [
        "# 데이터 프레임과 apply 메서드"
      ]
    },
    {
      "cell_type": "code",
      "execution_count": 14,
      "metadata": {},
      "outputs": [
        {
          "output_type": "stream",
          "name": "stdout",
          "text": "a     b\n0  100   400\n1  400   900\n2  900  1600\n          a          b\n0    100000    3200000\n1   3200000   24300000\n2  24300000  102400000\n"
        }
      ],
      "source": [
        "print(df.apply(sq))\n",
        "print(df.apply(n_sq, n=5))"
      ]
    },
    {
      "cell_type": "markdown",
      "metadata": {},
      "source": [
        "# 데이터프레임의 누락값을 처리한 다음 apply 메서드 사용하기 - 열 방향"
      ]
    },
    {
      "cell_type": "code",
      "execution_count": 15,
      "metadata": {},
      "outputs": [],
      "source": [
        "import seaborn as sns"
      ]
    },
    {
      "cell_type": "code",
      "execution_count": 16,
      "metadata": {},
      "outputs": [
        {
          "output_type": "stream",
          "name": "stdout",
          "text": "survived  pclass     sex   age  sibsp  parch     fare embarked  class  \\\n0         0       3    male  22.0      1      0   7.2500        S  Third   \n1         1       1  female  38.0      1      0  71.2833        C  First   \n2         1       3  female  26.0      0      0   7.9250        S  Third   \n3         1       1  female  35.0      1      0  53.1000        S  First   \n4         0       3    male  35.0      0      0   8.0500        S  Third   \n\n     who  adult_male deck  embark_town alive  alone  \n0    man        True  NaN  Southampton    no  False  \n1  woman       False    C    Cherbourg   yes  False  \n2  woman       False  NaN  Southampton   yes   True  \n3  woman       False    C  Southampton   yes  False  \n4    man        True  NaN  Southampton    no   True  \n"
        }
      ],
      "source": [
        "# 타이타닉 데이터셋 불러오기\n",
        "titanic = sns.load_dataset('titanic')\n",
        "print(titanic.head())"
      ]
    },
    {
      "cell_type": "code",
      "execution_count": 17,
      "metadata": {},
      "outputs": [
        {
          "output_type": "stream",
          "name": "stdout",
          "text": "survived         0\npclass           0\nsex              0\nage            177\nsibsp            0\nparch            0\nfare             0\nembarked         2\nclass            0\nwho              0\nadult_male       0\ndeck           688\nembark_town      2\nalive            0\nalone            0\ndtype: int64\n"
        }
      ],
      "source": [
        "# 누락값 갯수 구하기\n",
        "def count_null(vec):\n",
        "    return np.sum(pd.isnull(vec))\n",
        "\n",
        "nul_col = titanic.apply(count_null)\n",
        "print(nul_col)"
      ]
    },
    {
      "cell_type": "code",
      "execution_count": 18,
      "metadata": {},
      "outputs": [
        {
          "output_type": "stream",
          "name": "stdout",
          "text": "survived       0.000000\npclass         0.000000\nsex            0.000000\nage            0.198653\nsibsp          0.000000\nparch          0.000000\nfare           0.000000\nembarked       0.002245\nclass          0.000000\nwho            0.000000\nadult_male     0.000000\ndeck           0.772166\nembark_town    0.002245\nalive          0.000000\nalone          0.000000\ndtype: float64\n"
        }
      ],
      "source": [
        "# 누락값의 비율 구하기\n",
        "def get_perOfnul(vec):\n",
        "    count = count_null(vec)\n",
        "    return count / vec.size\n",
        "\n",
        "nulPer_col = titanic.apply(get_perOfnul)\n",
        "print(nulPer_col)"
      ]
    },
    {
      "cell_type": "code",
      "execution_count": 24,
      "metadata": {},
      "outputs": [
        {
          "output_type": "stream",
          "name": "stdout",
          "text": "survived       1.000000\npclass         1.000000\nsex            1.000000\nage            0.801347\nsibsp          1.000000\nparch          1.000000\nfare           1.000000\nembarked       0.997755\nclass          1.000000\nwho            1.000000\nadult_male     1.000000\ndeck           0.227834\nembark_town    0.997755\nalive          1.000000\nalone          1.000000\ndtype: float64\n"
        }
      ],
      "source": [
        "# 누락값이 아닌 비율\n",
        "def get_perOfnotnul(vec):\n",
        "    return 1 - get_perOfnul(vec)\n",
        "\n",
        "notnulPer_col = titanic.apply(get_perOfnotnul)\n",
        "print(notnulPer_col)"
      ]
    },
    {
      "cell_type": "markdown",
      "metadata": {},
      "source": [
        "# 데이터프레임의 누락값을 처리한 다음 apply 메서드 사용하기 - 행 방뱡"
      ]
    },
    {
      "cell_type": "code",
      "execution_count": 21,
      "metadata": {},
      "outputs": [
        {
          "output_type": "stream",
          "name": "stdout",
          "text": "0    1\n1    0\n2    1\n3    0\n4    1\ndtype: int64\n"
        }
      ],
      "source": [
        "# 누락값 갯수 구하기\n",
        "nul_row = titanic.apply(count_null, axis=1)\n",
        "print(nul_row.head())"
      ]
    },
    {
      "cell_type": "code",
      "execution_count": 23,
      "metadata": {},
      "outputs": [
        {
          "output_type": "stream",
          "name": "stdout",
          "text": "0    0.066667\n1    0.000000\n2    0.066667\n3    0.000000\n4    0.066667\ndtype: float64\n"
        }
      ],
      "source": [
        "# 누락값의 비율 구하기\n",
        "nulPer_row = titanic.apply(get_perOfnul, axis=1)\n",
        "print(nulPer_row.head())"
      ]
    },
    {
      "cell_type": "code",
      "execution_count": 25,
      "metadata": {},
      "outputs": [
        {
          "output_type": "stream",
          "name": "stdout",
          "text": "0    0.933333\n1    1.000000\n2    0.933333\n3    1.000000\n4    0.933333\ndtype: float64\n"
        }
      ],
      "source": [
        "# 누락값이 아닌 비율 구하기\n",
        "notnulPer_row = titanic.apply(get_perOfnotnul, axis=1)\n",
        "print(notnulPer_row.head())"
      ]
    },
    {
      "cell_type": "code",
      "execution_count": null,
      "metadata": {},
      "outputs": [],
      "source": []
    }
  ],
  "metadata": {
    "kernelspec": {
      "display_name": "Python 3",
      "language": "python",
      "name": "python3"
    },
    "language_info": {
      "codemirror_mode": {
        "name": "ipython",
        "version": 3
      },
      "file_extension": ".py",
      "mimetype": "text/x-python",
      "name": "python",
      "nbconvert_exporter": "python",
      "pygments_lexer": "ipython3",
      "version": "3.7.1-final"
    }
  },
  "nbformat": 4,
  "nbformat_minor": 1
}