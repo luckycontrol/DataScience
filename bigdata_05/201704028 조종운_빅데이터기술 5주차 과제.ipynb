{
 "nbformat": 4,
 "nbformat_minor": 2,
 "metadata": {
  "language_info": {
   "name": "python",
   "codemirror_mode": {
    "name": "ipython",
    "version": 3
   },
   "version": "3.7.1-final"
  },
  "orig_nbformat": 2,
  "file_extension": ".py",
  "mimetype": "text/x-python",
  "name": "python",
  "npconvert_exporter": "python",
  "pygments_lexer": "ipython3",
  "version": 3,
  "kernelspec": {
   "name": "python37164bitbaseconda83a7e5714e534d4591eb96c2ef4f502c",
   "display_name": "Python 3.7.1 64-bit ('base': conda)"
  }
 },
 "cells": [
  {
<<<<<<< HEAD
=======
   "cell_type": "markdown",
   "metadata": {},
   "source": [
    "# 201704028 조 종운"
   ]
  },
  {
>>>>>>> aefe469226192e9f42dbb0198cbab14d448afde5
   "cell_type": "code",
   "execution_count": 1,
   "metadata": {},
   "outputs": [],
   "source": [
    "import pandas as pd"
   ]
  },
  {
   "cell_type": "code",
   "execution_count": 39,
   "metadata": {},
   "outputs": [],
   "source": [
    "file_path = 'chipotle.tsv'\n",
    "chipotle = pd.read_csv(file_path, sep='\\t')"
   ]
  },
  {
   "cell_type": "code",
   "execution_count": 66,
   "metadata": {},
   "outputs": [
    {
     "output_type": "execute_result",
     "data": {
      "text/plain": "order_id\n926     78.75\n1786    51.25\n491     42.50\n205     37.50\n806     33.75\nName: item_price, dtype: float64"
     },
     "metadata": {},
     "execution_count": 66
    }
   ],
   "source": [
    "chicken_bowl = chipotle[chipotle['item_name'] == \"Chicken Bowl\"]\n",
    "chicken_bowl['item_price'] = [float(x[1:]) for x in chicken_bowl['item_price']]\n",
    "chicken_bowl.groupby('order_id')['item_price'].sum().sort_values(ascending=False).head()"
   ]
  },
  {
   "cell_type": "code",
   "execution_count": null,
   "metadata": {},
   "outputs": [],
   "source": []
  }
 ]
}