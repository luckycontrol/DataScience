{
  "cells": [
    {
      "cell_type": "code",
      "execution_count": null,
      "metadata": {},
      "outputs": [],
      "source": [
        "import pandas as pd\n",
        "pew = pd.read_csv('./data/pew.csv')"
      ]
    },
    {
      "cell_type": "code",
      "execution_count": null,
      "metadata": {},
      "outputs": [],
      "source": [
        "pew.head()"
      ]
    },
    {
      "cell_type": "code",
      "execution_count": null,
      "metadata": {},
      "outputs": [],
      "source": [
        "pew.iloc[:, :5].head()"
      ]
    },
    {
      "cell_type": "markdown",
      "metadata": {},
      "source": [
        "# 1개의 열만 고정하고 나머지 열을 행으로 바꾸기"
      ],
      "execution_count": null,
      "outputs": []
    },
    {
      "cell_type": "code",
      "execution_count": null,
      "metadata": {},
      "outputs": [],
      "source": [
        "pew_long = pd.melt(pew, id_vars='religion')\n",
        "pew_long"
      ]
    },
    {
      "cell_type": "code",
      "execution_count": null,
      "metadata": {},
      "outputs": [],
      "source": [
        "pew_long = pd.melt(pew, id_vars='religion', var_name='income', value_name='count')\n",
        "pew_long"
      ]
    },
    {
      "cell_type": "markdown",
      "metadata": {},
      "source": [
        "# 2개 이상의 열을 고정하고 나머지 열을 행으로 바꾸기"
      ],
      "execution_count": null,
      "outputs": []
    },
    {
      "cell_type": "code",
      "execution_count": null,
      "metadata": {},
      "outputs": [],
      "source": [
        "billboard = pd.read_csv('./data/billboard.csv')\n",
        "billboard.iloc[:5, :10]"
      ]
    },
    {
      "cell_type": "code",
      "execution_count": null,
      "metadata": {},
      "outputs": [],
      "source": [
        "pd.melt(billboard, id_vars=['year', 'artist', 'track', 'time', 'date.entered'], var_name='week', value_name='rating').head()"
      ]
    },
    {
      "cell_type": "markdown",
      "metadata": {
        "scrolled": true
      },
      "source": [
        "# ebola 데이터 집합 살펴보기"
      ],
      "execution_count": null,
      "outputs": []
    },
    {
      "cell_type": "code",
      "execution_count": null,
      "metadata": {
        "scrolled": true
      },
      "outputs": [],
      "source": [
        "ebola = pd.read_csv('./data/country_timeseries.csv')\n",
        "ebola.iloc[:5, [0, 1, 2, 3, 10, 11]]"
      ]
    },
    {
      "cell_type": "code",
      "execution_count": null,
      "metadata": {},
      "outputs": [],
      "source": [
        "ebola_long = pd.melt(ebola, id_vars=['Date', 'Day'])\n",
        "ebola_long.head()"
      ]
    },
    {
      "cell_type": "code",
      "execution_count": null,
      "metadata": {},
      "outputs": [],
      "source": [
        "ebola_long.groupby('variable')['value'].sum()"
      ]
    },
    {
      "cell_type": "markdown",
      "metadata": {},
      "source": [
        "# 열 이름 나누고 데이터 프레임에 추가하기"
      ],
      "execution_count": null,
      "outputs": []
    },
    {
      "cell_type": "code",
      "execution_count": null,
      "metadata": {},
      "outputs": [],
      "source": [
        "variable_split = ebola_long.variable.str.split('_')\n",
        "variable_split[:5]"
      ]
    },
    {
      "cell_type": "code",
      "execution_count": null,
      "metadata": {},
      "outputs": [],
      "source": [
        "status_values = variable_split.str.get(0)\n",
        "country_values = variable_split.str.get(1)"
      ]
    },
    {
      "cell_type": "code",
      "execution_count": null,
      "metadata": {},
      "outputs": [],
      "source": [
        "status_values[:5]"
      ]
    },
    {
      "cell_type": "code",
      "execution_count": null,
      "metadata": {},
      "outputs": [],
      "source": [
        "country_values[:5]"
      ]
    },
    {
      "cell_type": "code",
      "execution_count": null,
      "metadata": {},
      "outputs": [],
      "source": [
        "ebola_long['status'] = status_values\n",
        "ebola_long['country'] = country_values\n",
        "ebola_long.head()"
      ]
    },
    {
      "cell_type": "markdown",
      "metadata": {},
      "source": [
        "# concat 메서드를 응용하여 데이터프레임에 열 추가하기"
      ],
      "execution_count": null,
      "outputs": []
    },
    {
      "cell_type": "code",
      "execution_count": null,
      "metadata": {},
      "outputs": [],
      "source": [
        "ebola_long = pd.melt(ebola, id_vars=['Date', 'Day'])\n",
        "ebola_long.head()"
      ]
    },
    {
      "cell_type": "code",
      "execution_count": null,
      "metadata": {},
      "outputs": [],
      "source": [
        "variable_split = ebola_long.variable.str.split('_', expand=True)\n",
        "variable_split.head(5)"
      ]
    },
    {
      "cell_type": "code",
      "execution_count": null,
      "metadata": {},
      "outputs": [],
      "source": [
        "variable_split.columns = ['status', 'country']\n",
        "variable_split.head()"
      ]
    },
    {
      "cell_type": "code",
      "execution_count": null,
      "metadata": {},
      "outputs": [],
      "source": [
        "pd.concat([ebola_long, variable_split], axis=1)"
      ]
    },
    {
      "cell_type": "markdown",
      "metadata": {},
      "source": [
        "# 기상 데이터의 여러 열을 하나로 정리하기"
      ],
      "execution_count": null,
      "outputs": []
    },
    {
      "cell_type": "code",
      "execution_count": null,
      "metadata": {},
      "outputs": [],
      "source": [
        "weather = pd.read_csv('./data/weather.csv')\n",
        "weather.iloc[:5, :8]"
      ]
    },
    {
      "cell_type": "code",
      "execution_count": null,
      "metadata": {},
      "outputs": [],
      "source": [
        "weather_melt = pd.melt(weather, id_vars=['id', 'year', 'month', 'element'], var_name='day', value_name='temp')\n",
        "weather_melt"
      ]
    },
    {
      "cell_type": "code",
      "execution_count": null,
      "metadata": {},
      "outputs": [],
      "source": [
        "weather_tidy = weather_melt.pivot_table(\n",
        "    index=['id', 'year', 'month', 'day'],\n",
        "    columns='element',\n",
        "    values='temp'\n",
        ")\n",
        "weather_tidy"
      ]
    },
    {
      "cell_type": "code",
      "execution_count": null,
      "metadata": {},
      "outputs": [],
      "source": [
        "weather_tidy_flat = weather_tidy.reset_index()\n",
        "weather_tidy_flat"
      ]
    },
    {
      "cell_type": "markdown",
      "metadata": {},
      "source": [
        "# 빌보드 차트의 중복 데이터 처리하기"
      ],
      "execution_count": null,
      "outputs": []
    },
    {
      "cell_type": "code",
      "execution_count": null,
      "metadata": {},
      "outputs": [],
      "source": [
        "billboard = pd.read_csv('./data/billboard.csv')\n",
        "billboard.iloc[:5, :10]"
      ]
    },
    {
      "cell_type": "code",
      "execution_count": null,
      "metadata": {},
      "outputs": [],
      "source": [
        "billboard_long = pd.melt(billboard, id_vars=['year', 'artist', 'track', 'time', 'date.entered'], var_name='week', value_name='rating')\n",
        "billboard_long.head()"
      ]
    },
    {
      "cell_type": "code",
      "execution_count": null,
      "metadata": {},
      "outputs": [],
      "source": [
        "billboard_long[billboard_long['track'] == 'Loser'].head()"
      ]
    },
    {
      "cell_type": "code",
      "execution_count": null,
      "metadata": {},
      "outputs": [],
      "source": [
        "billboard_songs = billboard_long[['year', 'artist', 'track', 'time']]\n",
        "billboard_songs"
      ]
    },
    {
      "cell_type": "code",
      "execution_count": 49,
      "metadata": {},
      "outputs": [
        {
          "output_type": "execute_result",
          "data": {
            "text/plain": "   year        artist                    track  time\n0  2000         2 Pac  Baby Don't Cry (Keep...  4:22\n1  2000       2Ge+her  The Hardest Part Of ...  3:15\n2  2000  3 Doors Down               Kryptonite  3:53\n3  2000  3 Doors Down                    Loser  4:24\n4  2000      504 Boyz            Wobble Wobble  3:35",
            "text/html": "<div>\n<style scoped>\n    .dataframe tbody tr th:only-of-type {\n        vertical-align: middle;\n    }\n\n    .dataframe tbody tr th {\n        vertical-align: top;\n    }\n\n    .dataframe thead th {\n        text-align: right;\n    }\n</style>\n<table border=\"1\" class=\"dataframe\">\n  <thead>\n    <tr style=\"text-align: right;\">\n      <th></th>\n      <th>year</th>\n      <th>artist</th>\n      <th>track</th>\n      <th>time</th>\n    </tr>\n  </thead>\n  <tbody>\n    <tr>\n      <th>0</th>\n      <td>2000</td>\n      <td>2 Pac</td>\n      <td>Baby Don't Cry (Keep...</td>\n      <td>4:22</td>\n    </tr>\n    <tr>\n      <th>1</th>\n      <td>2000</td>\n      <td>2Ge+her</td>\n      <td>The Hardest Part Of ...</td>\n      <td>3:15</td>\n    </tr>\n    <tr>\n      <th>2</th>\n      <td>2000</td>\n      <td>3 Doors Down</td>\n      <td>Kryptonite</td>\n      <td>3:53</td>\n    </tr>\n    <tr>\n      <th>3</th>\n      <td>2000</td>\n      <td>3 Doors Down</td>\n      <td>Loser</td>\n      <td>4:24</td>\n    </tr>\n    <tr>\n      <th>4</th>\n      <td>2000</td>\n      <td>504 Boyz</td>\n      <td>Wobble Wobble</td>\n      <td>3:35</td>\n    </tr>\n  </tbody>\n</table>\n</div>"
          },
          "metadata": {},
          "execution_count": 49
        }
      ],
      "source": [
        "billboard_songs = billboard_songs.drop_duplicates()\n",
        "billboard_songs.head()"
      ]
    },
    {
      "cell_type": "code",
      "execution_count": 53,
      "metadata": {},
      "outputs": [
        {
          "output_type": "execute_result",
          "data": {
            "text/plain": "   year          artist                    track  time  id\n0  2000           2 Pac  Baby Don't Cry (Keep...  4:22   0\n1  2000         2Ge+her  The Hardest Part Of ...  3:15   1\n2  2000    3 Doors Down               Kryptonite  3:53   2\n3  2000    3 Doors Down                    Loser  4:24   3\n4  2000        504 Boyz            Wobble Wobble  3:35   4\n5  2000            98^0  Give Me Just One Nig...  3:24   5\n6  2000         A*Teens            Dancing Queen  3:44   6\n7  2000         Aaliyah            I Don't Wanna  4:15   7\n8  2000         Aaliyah                Try Again  4:03   8\n9  2000  Adams, Yolanda            Open My Heart  5:30   9",
            "text/html": "<div>\n<style scoped>\n    .dataframe tbody tr th:only-of-type {\n        vertical-align: middle;\n    }\n\n    .dataframe tbody tr th {\n        vertical-align: top;\n    }\n\n    .dataframe thead th {\n        text-align: right;\n    }\n</style>\n<table border=\"1\" class=\"dataframe\">\n  <thead>\n    <tr style=\"text-align: right;\">\n      <th></th>\n      <th>year</th>\n      <th>artist</th>\n      <th>track</th>\n      <th>time</th>\n      <th>id</th>\n    </tr>\n  </thead>\n  <tbody>\n    <tr>\n      <th>0</th>\n      <td>2000</td>\n      <td>2 Pac</td>\n      <td>Baby Don't Cry (Keep...</td>\n      <td>4:22</td>\n      <td>0</td>\n    </tr>\n    <tr>\n      <th>1</th>\n      <td>2000</td>\n      <td>2Ge+her</td>\n      <td>The Hardest Part Of ...</td>\n      <td>3:15</td>\n      <td>1</td>\n    </tr>\n    <tr>\n      <th>2</th>\n      <td>2000</td>\n      <td>3 Doors Down</td>\n      <td>Kryptonite</td>\n      <td>3:53</td>\n      <td>2</td>\n    </tr>\n    <tr>\n      <th>3</th>\n      <td>2000</td>\n      <td>3 Doors Down</td>\n      <td>Loser</td>\n      <td>4:24</td>\n      <td>3</td>\n    </tr>\n    <tr>\n      <th>4</th>\n      <td>2000</td>\n      <td>504 Boyz</td>\n      <td>Wobble Wobble</td>\n      <td>3:35</td>\n      <td>4</td>\n    </tr>\n    <tr>\n      <th>5</th>\n      <td>2000</td>\n      <td>98^0</td>\n      <td>Give Me Just One Nig...</td>\n      <td>3:24</td>\n      <td>5</td>\n    </tr>\n    <tr>\n      <th>6</th>\n      <td>2000</td>\n      <td>A*Teens</td>\n      <td>Dancing Queen</td>\n      <td>3:44</td>\n      <td>6</td>\n    </tr>\n    <tr>\n      <th>7</th>\n      <td>2000</td>\n      <td>Aaliyah</td>\n      <td>I Don't Wanna</td>\n      <td>4:15</td>\n      <td>7</td>\n    </tr>\n    <tr>\n      <th>8</th>\n      <td>2000</td>\n      <td>Aaliyah</td>\n      <td>Try Again</td>\n      <td>4:03</td>\n      <td>8</td>\n    </tr>\n    <tr>\n      <th>9</th>\n      <td>2000</td>\n      <td>Adams, Yolanda</td>\n      <td>Open My Heart</td>\n      <td>5:30</td>\n      <td>9</td>\n    </tr>\n  </tbody>\n</table>\n</div>"
          },
          "metadata": {},
          "execution_count": 53
        }
      ],
      "source": [
        "billboard_songs['id'] = range(len(billboard_songs))\n",
        "billboard_songs.head(n=10)"
      ]
    },
    {
      "cell_type": "code",
      "execution_count": 55,
      "metadata": {},
      "outputs": [
        {
          "output_type": "execute_result",
          "data": {
            "text/plain": "   year artist                    track  time date.entered week  rating  id\n0  2000  2 Pac  Baby Don't Cry (Keep...  4:22   2000-02-26  wk1    87.0   0\n1  2000  2 Pac  Baby Don't Cry (Keep...  4:22   2000-02-26  wk2    82.0   0\n2  2000  2 Pac  Baby Don't Cry (Keep...  4:22   2000-02-26  wk3    72.0   0\n3  2000  2 Pac  Baby Don't Cry (Keep...  4:22   2000-02-26  wk4    77.0   0\n4  2000  2 Pac  Baby Don't Cry (Keep...  4:22   2000-02-26  wk5    87.0   0",
            "text/html": "<div>\n<style scoped>\n    .dataframe tbody tr th:only-of-type {\n        vertical-align: middle;\n    }\n\n    .dataframe tbody tr th {\n        vertical-align: top;\n    }\n\n    .dataframe thead th {\n        text-align: right;\n    }\n</style>\n<table border=\"1\" class=\"dataframe\">\n  <thead>\n    <tr style=\"text-align: right;\">\n      <th></th>\n      <th>year</th>\n      <th>artist</th>\n      <th>track</th>\n      <th>time</th>\n      <th>date.entered</th>\n      <th>week</th>\n      <th>rating</th>\n      <th>id</th>\n    </tr>\n  </thead>\n  <tbody>\n    <tr>\n      <th>0</th>\n      <td>2000</td>\n      <td>2 Pac</td>\n      <td>Baby Don't Cry (Keep...</td>\n      <td>4:22</td>\n      <td>2000-02-26</td>\n      <td>wk1</td>\n      <td>87.0</td>\n      <td>0</td>\n    </tr>\n    <tr>\n      <th>1</th>\n      <td>2000</td>\n      <td>2 Pac</td>\n      <td>Baby Don't Cry (Keep...</td>\n      <td>4:22</td>\n      <td>2000-02-26</td>\n      <td>wk2</td>\n      <td>82.0</td>\n      <td>0</td>\n    </tr>\n    <tr>\n      <th>2</th>\n      <td>2000</td>\n      <td>2 Pac</td>\n      <td>Baby Don't Cry (Keep...</td>\n      <td>4:22</td>\n      <td>2000-02-26</td>\n      <td>wk3</td>\n      <td>72.0</td>\n      <td>0</td>\n    </tr>\n    <tr>\n      <th>3</th>\n      <td>2000</td>\n      <td>2 Pac</td>\n      <td>Baby Don't Cry (Keep...</td>\n      <td>4:22</td>\n      <td>2000-02-26</td>\n      <td>wk4</td>\n      <td>77.0</td>\n      <td>0</td>\n    </tr>\n    <tr>\n      <th>4</th>\n      <td>2000</td>\n      <td>2 Pac</td>\n      <td>Baby Don't Cry (Keep...</td>\n      <td>4:22</td>\n      <td>2000-02-26</td>\n      <td>wk5</td>\n      <td>87.0</td>\n      <td>0</td>\n    </tr>\n  </tbody>\n</table>\n</div>"
          },
          "metadata": {},
          "execution_count": 55
        }
      ],
      "source": [
        "billboard_ratings = billboard_long.merge(billboard_songs, on=['year', 'artist', 'track', 'time'])\n",
        "billboard_ratings.head()"
      ]
    },
    {
      "cell_type": "markdown",
      "metadata": {},
      "source": [
        "# 뉴욕 택시 데이터 준비"
      ],
      "execution_count": null,
      "outputs": []
    },
    {
      "cell_type": "code",
      "execution_count": null,
      "metadata": {},
      "outputs": [],
      "source": []
    },
    {
      "cell_type": "markdown",
      "metadata": {},
      "source": [
        "# 반복문으로 데이터 준비하기"
      ],
      "execution_count": null,
      "outputs": []
    },
    {
      "cell_type": "code",
      "execution_count": null,
      "metadata": {},
      "outputs": [],
      "source": []
    }
  ],
  "metadata": {
    "kernelspec": {
      "display_name": "Python 3.7.1 64-bit ('base': conda)",
      "language": "python",
      "name": "python37164bitbaseconda83a7e5714e534d4591eb96c2ef4f502c"
    },
    "language_info": {
      "codemirror_mode": {
        "name": "ipython",
        "version": 3
      },
      "file_extension": ".py",
      "mimetype": "text/x-python",
      "name": "python",
      "nbconvert_exporter": "python",
      "pygments_lexer": "ipython3",
      "version": "3.7.1-final"
    }
  },
  "nbformat": 4,
  "nbformat_minor": 2
}