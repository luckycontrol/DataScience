{
  "cells": [
    {
      "cell_type": "code",
      "execution_count": null,
      "metadata": {},
      "outputs": [],
      "source": [
        "import pandas as pd\n",
        "pew = pd.read_csv('./data/pew.csv')"
      ]
    },
    {
      "cell_type": "code",
      "execution_count": null,
      "metadata": {},
      "outputs": [],
      "source": [
        "pew.head()"
      ]
    },
    {
      "cell_type": "code",
      "execution_count": null,
      "metadata": {},
      "outputs": [],
      "source": [
        "pew.iloc[:, :5].head()"
      ]
    },
    {
      "cell_type": "markdown",
      "metadata": {},
      "source": [
        "# 1개의 열만 고정하고 나머지 열을 행으로 바꾸기"
      ]
    },
    {
      "cell_type": "code",
      "execution_count": null,
      "metadata": {},
      "outputs": [],
      "source": [
        "pew_long = pd.melt(pew, id_vars='religion')\n",
        "pew_long"
      ]
    },
    {
      "cell_type": "code",
      "execution_count": null,
      "metadata": {},
      "outputs": [],
      "source": [
        "pew_long = pd.melt(pew, id_vars='religion', var_name='income', value_name='count')\n",
        "pew_long"
      ]
    },
    {
      "cell_type": "markdown",
      "metadata": {},
      "source": [
        "# 2개 이상의 열을 고정하고 나머지 열을 행으로 바꾸기"
      ]
    },
    {
      "cell_type": "code",
      "execution_count": null,
      "metadata": {},
      "outputs": [],
      "source": [
        "billboard = pd.read_csv('./data/billboard.csv')\n",
        "billboard.iloc[:5, :10]"
      ]
    },
    {
      "cell_type": "code",
      "execution_count": null,
      "metadata": {},
      "outputs": [],
      "source": [
        "pd.melt(billboard, id_vars=['year', 'artist', 'track', 'time', 'date.entered'], var_name='week', value_name='rating').head()"
      ]
    },
    {
      "cell_type": "markdown",
      "metadata": {
        "scrolled": true
      },
      "source": [
        "# ebola 데이터 집합 살펴보기"
      ]
    },
    {
      "cell_type": "code",
      "execution_count": null,
      "metadata": {
        "scrolled": true
      },
      "outputs": [],
      "source": [
        "ebola = pd.read_csv('./data/country_timeseries.csv')\n",
        "ebola.iloc[:5, [0, 1, 2, 3, 10, 11]]"
      ]
    },
    {
      "cell_type": "code",
      "execution_count": null,
      "metadata": {},
      "outputs": [],
      "source": [
        "ebola_long = pd.melt(ebola, id_vars=['Date', 'Day'])\n",
        "ebola_long.head()"
      ]
    },
    {
      "cell_type": "code",
      "execution_count": null,
      "metadata": {},
      "outputs": [],
      "source": [
        "ebola_long.groupby('variable')['value'].sum()"
      ]
    },
    {
      "cell_type": "markdown",
      "metadata": {},
      "source": [
        "# 열 이름 나누고 데이터 프레임에 추가하기"
      ]
    },
    {
      "cell_type": "code",
      "execution_count": null,
      "metadata": {},
      "outputs": [],
      "source": [
        "variable_split = ebola_long.variable.str.split('_')\n",
        "variable_split[:5]"
      ]
    },
    {
      "cell_type": "code",
      "execution_count": null,
      "metadata": {},
      "outputs": [],
      "source": [
        "status_values = variable_split.str.get(0)\n",
        "country_values = variable_split.str.get(1)"
      ]
    },
    {
      "cell_type": "code",
      "execution_count": null,
      "metadata": {},
      "outputs": [],
      "source": [
        "status_values[:5]"
      ]
    },
    {
      "cell_type": "code",
      "execution_count": null,
      "metadata": {},
      "outputs": [],
      "source": [
        "country_values[:5]"
      ]
    },
    {
      "cell_type": "code",
      "execution_count": null,
      "metadata": {},
      "outputs": [],
      "source": [
        "ebola_long['status'] = status_values\n",
        "ebola_long['country'] = country_values\n",
        "ebola_long.head()"
      ]
    },
    {
      "cell_type": "markdown",
      "metadata": {},
      "source": [
        "# concat 메서드를 응용하여 데이터프레임에 열 추가하기"
      ]
    },
    {
      "cell_type": "code",
      "execution_count": null,
      "metadata": {},
      "outputs": [],
      "source": [
        "ebola_long = pd.melt(ebola, id_vars=['Date', 'Day'])\n",
        "ebola_long.head()"
      ]
    },
    {
      "cell_type": "code",
      "execution_count": null,
      "metadata": {},
      "outputs": [],
      "source": [
        "variable_split = ebola_long.variable.str.split('_', expand=True)\n",
        "variable_split.head(5)"
      ]
    },
    {
      "cell_type": "code",
      "execution_count": null,
      "metadata": {},
      "outputs": [],
      "source": [
        "variable_split.columns = ['status', 'country']\n",
        "variable_split.head()"
      ]
    },
    {
      "cell_type": "code",
      "execution_count": null,
      "metadata": {},
      "outputs": [],
      "source": [
        "pd.concat([ebola_long, variable_split], axis=1)"
      ]
    },
    {
      "cell_type": "markdown",
      "metadata": {},
      "source": [
        "# 기상 데이터의 여러 열을 하나로 정리하기"
      ]
    },
    {
      "cell_type": "code",
      "execution_count": null,
      "metadata": {},
      "outputs": [],
      "source": [
        "weather = pd.read_csv('./data/weather.csv')\n",
        "weather.iloc[:5, :8]"
      ]
    },
    {
      "cell_type": "code",
      "execution_count": null,
      "metadata": {},
      "outputs": [],
      "source": [
        "weather_melt = pd.melt(weather, id_vars=['id', 'year', 'month', 'element'], var_name='day', value_name='temp')\n",
        "weather_melt"
      ]
    },
    {
      "cell_type": "code",
      "execution_count": null,
      "metadata": {},
      "outputs": [],
      "source": [
        "weather_tidy = weather_melt.pivot_table(\n",
        "    index=['id', 'year', 'month', 'day'],\n",
        "    columns='element',\n",
        "    values='temp'\n",
        ")\n",
        "weather_tidy"
      ]
    },
    {
      "cell_type": "code",
      "execution_count": null,
      "metadata": {},
      "outputs": [],
      "source": [
        "weather_tidy_flat = weather_tidy.reset_index()\n",
        "weather_tidy_flat"
      ]
    },
    {
      "cell_type": "markdown",
      "metadata": {},
      "source": [
        "# 빌보드 차트의 중복 데이터 처리하기"
      ]
    },
    {
      "cell_type": "code",
      "execution_count": null,
      "metadata": {},
      "outputs": [],
      "source": [
        "billboard = pd.read_csv('./data/billboard.csv')\n",
        "billboard.iloc[:5, :10]"
      ]
    },
    {
      "cell_type": "code",
      "execution_count": null,
      "metadata": {},
      "outputs": [],
      "source": [
        "billboard_long = pd.melt(billboard, id_vars=['year', 'artist', 'track', 'time', 'date.entered'], var_name='week', value_name='rating')\n",
        "billboard_long.head()"
      ]
    },
    {
      "cell_type": "code",
      "execution_count": null,
      "metadata": {},
      "outputs": [],
      "source": [
        "billboard_long[billboard_long['track'] == 'Loser'].head()"
      ]
    },
    {
      "cell_type": "code",
      "execution_count": null,
      "metadata": {},
      "outputs": [],
      "source": [
        "billboard_songs = billboard_long[['year', 'artist', 'track', 'time']]\n",
        "billboard_songs"
      ]
    },
    {
      "cell_type": "code",
      "execution_count": null,
      "metadata": {},
      "outputs": [],
      "source": [
        "billboard_songs = billboard_songs.drop_duplicates()\n",
        "billboard_songs.head()"
      ]
    },
    {
      "cell_type": "code",
      "execution_count": null,
      "metadata": {},
      "outputs": [],
      "source": [
        "billboard_songs['id'] = range(len(billboard_songs))\n",
        "billboard_songs.head(n=10)"
      ]
    },
    {
      "cell_type": "code",
      "execution_count": null,
      "metadata": {},
      "outputs": [],
      "source": [
        "billboard_ratings = billboard_long.merge(billboard_songs, on=['year', 'artist', 'track', 'time'])\n",
        "billboard_ratings.head()"
      ]
    },
    {
      "cell_type": "markdown",
      "metadata": {},
      "source": [
        "# 뉴욕 택시 데이터 준비"
      ]
    },
    {
      "cell_type": "code",
      "execution_count": null,
      "metadata": {},
      "outputs": [],
      "source": [
        "import os\n",
        "import urllib.request"
      ]
    },
    {
      "cell_type": "code",
      "execution_count": null,
      "metadata": {},
      "outputs": [],
      "source": [
        "with open('./data/raw_data_urls.txt', 'r') as data_urls:\n",
        "    for line, url in enumerate(data_urls):\n",
        "        if line == 5:\n",
        "            break\n",
        "        \n",
        "        fn = url.split('/')[-1].strip()\n",
        "        fp = os.path.join('', './data', fn)\n",
        "        print(url)\n",
        "        print(fp)\n",
        "        urllib.request.urlretrieve(url, fp)"
      ]
    },
    {
      "cell_type": "code",
      "execution_count": null,
      "metadata": {},
      "outputs": [],
      "source": [
        "import glob\n",
        "\n",
        "nyc_taxi_data = glob.glob('./data/fhv_*')\n",
        "nyc_taxi_data"
      ]
    },
    {
      "cell_type": "code",
      "execution_count": null,
      "metadata": {},
      "outputs": [],
      "source": [
        "taxi1 = pd.read_csv(nyc_taxi_data[0])\n",
        "taxi2 = pd.read_csv(nyc_taxi_data[1])\n",
        "taxi3 = pd.read_csv(nyc_taxi_data[2])\n",
        "taxi4 = pd.read_csv(nyc_taxi_data[3])\n",
        "taxi5 = pd.read_csv(nyc_taxi_data[4])\n",
        "\n",
        "print(taxi1.head())"
      ]
    },
    {
      "cell_type": "code",
      "execution_count": null,
      "metadata": {},
      "outputs": [],
      "source": []
    },
    {
      "cell_type": "markdown",
      "metadata": {},
      "source": [
        "# 반복문으로 데이터 준비하기"
      ]
    },
    {
      "cell_type": "code",
      "execution_count": null,
      "metadata": {},
      "outputs": [],
      "source": [
        "list_taxi_df = []\n",
        "\n",
        "for csv_fileName in nyc_taxi_data:\n",
        "    df = pd.read_csv(csv_fileName)\n",
        "    list_taxi_df.append(df)\n",
        "\n",
        "len(list_taxi_df)"
      ]
    },
    {
      "cell_type": "code",
      "execution_count": null,
      "metadata": {},
      "outputs": [],
      "source": [
        "list_taxi_df[0].head()"
      ]
    },
    {
      "cell_type": "code",
      "execution_count": null,
      "metadata": {},
      "outputs": [],
      "source": [
        "taxi_loop_concat = pd.concat(list_taxi_df)\n",
        "taxi_loop_concat.shape"
      ]
    },
    {
      "cell_type": "code",
      "execution_count": null,
      "metadata": {},
      "outputs": [],
      "source": []
    }
  ],
  "metadata": {
    "kernelspec": {
      "display_name": "Python 3.7.1 64-bit ('base': conda)",
      "language": "python",
      "name": "python37164bitbaseconda83a7e5714e534d4591eb96c2ef4f502c"
    },
    "language_info": {
      "codemirror_mode": {
        "name": "ipython",
        "version": 3
      },
      "file_extension": ".py",
      "mimetype": "text/x-python",
      "name": "python",
      "nbconvert_exporter": "python",
      "pygments_lexer": "ipython3",
      "version": "3.7.1-final"
    }
  },
  "nbformat": 4,
  "nbformat_minor": 2
}